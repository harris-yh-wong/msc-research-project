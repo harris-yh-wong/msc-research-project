{
 "cells": [
  {
   "cell_type": "markdown",
   "metadata": {},
   "source": [
    "# AIM\n",
    "- run baseline models again with revised preprocessing routine as of Mar22\n",
    "\n",
    "Created: 23 Mar 2022"
   ]
  },
  {
   "cell_type": "markdown",
   "metadata": {},
   "source": [
    "# LIBRARIES"
   ]
  },
  {
   "cell_type": "code",
   "execution_count": 7,
   "metadata": {},
   "outputs": [],
   "source": [
    "##### MODULES\n",
    "import os\n",
    "import numpy as np\n",
    "import pandas as pd\n",
    "from pathlib import Path\n",
    "from matplotlib import pyplot as plt\n",
    "import matplotlib.dates\n",
    "import matplotlib.patches\n",
    "import datetime as dt\n",
    "import ast\n",
    "\n",
    "## custom modules\n",
    "# import sys  \n",
    "# sys.path.append('../../scripts')\n",
    "\n",
    "import import_data\n",
    "import clean_data\n",
    "import mappings\n",
    "import plotting\n",
    "import report\n",
    "import helper\n",
    "\n",
    "##### OPTIONS\n",
    "pd.options.mode.chained_assignment = None\n",
    "\n",
    "# autoreload external modules after saving changes to disk\n",
    "%reload_ext autoreload\n",
    "%autoreload 2\n",
    "\n",
    "##### DIRECTORIES\n",
    "proj_dir = Path('.') / '..' / '..'\n",
    "source_data_dir = proj_dir/'data'/'source'\n",
    "clean_data_dir =  proj_dir/'data'/'clean'\n",
    "viz_dir = proj_dir/'viz'"
   ]
  },
  {
   "cell_type": "code",
   "execution_count": 8,
   "metadata": {},
   "outputs": [],
   "source": [
    "from tsfresh import extract_features\n",
    "from tsfresh import select_features\n",
    "from tsfresh.utilities.dataframe_functions import impute\n",
    "\n",
    "import random"
   ]
  },
  {
   "cell_type": "code",
   "execution_count": 9,
   "metadata": {},
   "outputs": [],
   "source": [
    "import feather"
   ]
  },
  {
   "cell_type": "markdown",
   "metadata": {},
   "source": [
    "ML libraries"
   ]
  },
  {
   "cell_type": "code",
   "execution_count": 10,
   "metadata": {},
   "outputs": [],
   "source": [
    "from sklearn.model_selection import train_test_split\n",
    "\n",
    "# preprocessing\n",
    "from sklearn.preprocessing import StandardScaler\n",
    "\n",
    "\n",
    "# classifiers\n",
    "from sklearn.neighbors import KNeighborsClassifier\n",
    "from sklearn.ensemble import RandomForestClassifier, AdaBoostClassifier\n",
    "from sklearn import svm\n",
    "\n",
    "# tune\n",
    "from sklearn.model_selection import GridSearchCV\n",
    "\n",
    "# performance\n",
    "from sklearn.metrics import classification_report\n",
    "from sklearn.metrics import accuracy_score\n",
    "from sklearn.model_selection import cross_val_score"
   ]
  },
  {
   "cell_type": "markdown",
   "metadata": {},
   "source": [
    "# PARAMETERS"
   ]
  },
  {
   "cell_type": "code",
   "execution_count": 15,
   "metadata": {},
   "outputs": [],
   "source": [
    "PATH_TO_PREPROCESSED_DATA = proj_dir/'data'/'clean'/'preprocessMar22'/'data_merge2.ftr'\n",
    "PATH_TO_FEATURES_SELECTED = proj_dir/'data'/'clean'/'fsMar23all'/'feat_tsfresh_select.ftr'\n",
    "\n",
    "SEED = 123\n",
    "\n",
    "### INITIAL SPLIT\n",
    "TEST_SIZE = 0.3\n",
    "\n",
    "### TUNING\n",
    "N_JOBS = -2 # all but 1 CPUs\n",
    "KFOLD = 5"
   ]
  },
  {
   "cell_type": "markdown",
   "metadata": {},
   "source": [
    "# IMPORT"
   ]
  },
  {
   "cell_type": "code",
   "execution_count": 12,
   "metadata": {},
   "outputs": [],
   "source": [
    "fs = pd.read_feather(PATH_TO_FEATURES_SELECTED)\n",
    "df = pd.read_feather(PATH_TO_PREPROCESSED_DATA)"
   ]
  },
  {
   "cell_type": "code",
   "execution_count": 13,
   "metadata": {},
   "outputs": [
    {
     "name": "stdout",
     "output_type": "stream",
     "text": [
      "Primary key does match.\n"
     ]
    }
   ],
   "source": [
    "df['target'] = df['phq'] > 10\n",
    "_, y = clean_data.generate_ts_y(df)\n",
    "y = y[fs['index']]\n",
    "\n",
    "if np.array_equal(y.index.values, fs['index'].values):\n",
    "    print(\"Primary key does match.\")"
   ]
  },
  {
   "cell_type": "code",
   "execution_count": null,
   "metadata": {},
   "outputs": [],
   "source": [
    "X = fs.loc[:, fs.columns != 'index'].copy()"
   ]
  },
  {
   "cell_type": "markdown",
   "metadata": {},
   "source": [
    "# TRAIN TEST SPLIT"
   ]
  },
  {
   "cell_type": "code",
   "execution_count": 14,
   "metadata": {},
   "outputs": [
    {
     "name": "stdout",
     "output_type": "stream",
     "text": [
      "Training Features Shape: (2002, 422)\n",
      "Training Labels Shape: (2002,)\n",
      "Testing Features Shape: (858, 422)\n",
      "Testing Labels Shape: (858,)\n"
     ]
    }
   ],
   "source": [
    "from sklearn.model_selection import train_test_split # Split the data into training and testing sets\n",
    "X_train, X_test, y_train, y_test = train_test_split(\n",
    "    X, y, \n",
    "    test_size=TEST_SIZE, random_state=SEED\n",
    ")\n",
    "report.report_train_test_split(X_train, X_test, y_train, y_test)"
   ]
  },
  {
   "cell_type": "markdown",
   "metadata": {},
   "source": [
    "### RF hyperparameter tuning"
   ]
  },
  {
   "cell_type": "code",
   "execution_count": 24,
   "metadata": {},
   "outputs": [
    {
     "data": {
      "text/plain": [
       "True"
      ]
     },
     "execution_count": 24,
     "metadata": {},
     "output_type": "execute_result"
    }
   ],
   "source": [
    "# init grid\n",
    "param_grid = { \n",
    "    'n_estimators': [200, 500],\n",
    "    'max_features': ['auto', 'sqrt', 'log2'],\n",
    "    'max_depth' : [4,5,6,7,8],\n",
    "    'criterion' :['gini', 'entropy']\n",
    "}\n",
    "\n",
    "# tune\n",
    "with helper.Timer(\"Tune RF\"):\n",
    "    CV_rfc = GridSearchCV(\n",
    "        estimator=RandomForestClassifier(random_state=SEED), \n",
    "        param_grid=param_grid, cv=KFOLD, n_jobs=N_JOBS, return_train_score=True)\n",
    "    CV_rfc.fit(X_train, y_train)"
   ]
  },
  {
   "cell_type": "code",
   "execution_count": null,
   "metadata": {},
   "outputs": [],
   "source": [
    "### Show best model from CV\n",
    "CV_rfc.best_params_\n",
    "plotting.plot_search_results(CV_rfc)\n",
    "\n",
    "### Fit with best model\n",
    "#! modify if necessary\n",
    "rfc1=RandomForestClassifier(random_state=SEED)\n",
    "rfc1.set_params(**CV_rfc.best_params_)"
   ]
  },
  {
   "cell_type": "markdown",
   "metadata": {},
   "source": [
    "### Fit model"
   ]
  },
  {
   "cell_type": "code",
   "execution_count": null,
   "metadata": {},
   "outputs": [],
   "source": [
    "rf_param_grid = { \n",
    "    'n_estimators': [200, 500],\n",
    "    'max_features': ['auto', 'sqrt', 'log2'],\n",
    "    'max_depth' : [4,5,6,7,8],\n",
    "    'criterion' :['gini', 'entropy']\n",
    "}\n",
    "\n",
    "## SCALING?\n",
    "classifiers = [\n",
    "    # name         # scaler        \n",
    "    ('KNNdefault', StandardScaler(), KNeighborsClassifier()),\n",
    "    ('RFdefault',  None,             RandomForestClassifier(random_state=SEED)),\n",
    "    ('RFbest',     None,             GridSearchCV(\n",
    "        estimator=RandomForestClassifier(random_state=SEED), \n",
    "        param_grid=rf_param_grid, cv=KFOLD, n_jobs=N_JOBS, return_train_score=True)\n",
    "    ),\n",
    "    ('SVMlinear',  StandardScaler(), svm.SVC(kernel='poly'),  ),\n",
    "    ('SVMpoly',    StandardScaler(), ),\n",
    "    ('SVMrbf',     StandardScaler(), ),\n",
    "    ('SVMsigmoid', StandardScaler(), )\n",
    "]    "
   ]
  },
  {
   "cell_type": "code",
   "execution_count": 6,
   "metadata": {},
   "outputs": [
    {
     "ename": "NameError",
     "evalue": "name 'X_train' is not defined",
     "output_type": "error",
     "traceback": [
      "\u001b[1;31m---------------------------------------------------------------------------\u001b[0m",
      "\u001b[1;31mNameError\u001b[0m                                 Traceback (most recent call last)",
      "\u001b[1;32mc:\\Users\\Harris\\projects\\msc-proj\\analysis\\notebooks\\baseline_model_mar23.ipynb Cell 22'\u001b[0m in \u001b[0;36m<module>\u001b[1;34m\u001b[0m\n\u001b[1;32m----> <a href='vscode-notebook-cell:/c%3A/Users/Harris/projects/msc-proj/analysis/notebooks/baseline_model_mar23.ipynb#ch0000041?line=0'>1</a>\u001b[0m StandardScaler()\u001b[39m.\u001b[39mfit(X_train)\n",
      "\u001b[1;31mNameError\u001b[0m: name 'X_train' is not defined"
     ]
    }
   ],
   "source": [
    "StandardScaler().fit_transform(X_train)"
   ]
  },
  {
   "cell_type": "code",
   "execution_count": null,
   "metadata": {},
   "outputs": [],
   "source": [
    "predictions = {}\n",
    "classifiers_fitted = {}\n",
    "for name, clf, scaler, tune in classifiers:\n",
    "    if scaler:\n",
    "        print(\"# SCALE\")\n",
    "        X_train_preprocessed = scaler.fit_transform(X_train)\n",
    "    if isinstance(tune, GridSearchCV):\n",
    "        print(\"# TUNE\")\n",
    "        with helper.Timer(\"tune\"):\n",
    "                \n",
    "        pass\n",
    "    \n",
    "    \n",
    "    \n",
    "    with helper.Timer(name):\n",
    "        clf.fit(X_train_preprocessed, y_train.values.ravel())\n",
    "    prediction = clf.predict(X_test)\n",
    "    predictions[name] = (prediction, clf, )"
   ]
  },
  {
   "cell_type": "code",
   "execution_count": null,
   "metadata": {},
   "outputs": [],
   "source": [
    "pd.DataFrame(classification_report(y_test, pred, output_dict=True)).transpose().reset_index()"
   ]
  },
  {
   "cell_type": "code",
   "execution_count": null,
   "metadata": {},
   "outputs": [],
   "source": [
    "print(classification_report(y_test, pred))"
   ]
  },
  {
   "cell_type": "code",
   "execution_count": null,
   "metadata": {},
   "outputs": [],
   "source": [
    "rfc1"
   ]
  },
  {
   "cell_type": "code",
   "execution_count": null,
   "metadata": {},
   "outputs": [],
   "source": [
    "### Feature importance\n",
    "from sklearn.inspection import permutation_importance\n",
    "\n",
    "with helper.Timer(\"RF permutation importance\"):\n",
    "    imp_perm = permutation_importance(rfc1, X_test, y_test)\n",
    "\n",
    "plotting.plot_imp_perm(imp_perm, features=X_test.columns, n=10);"
   ]
  }
 ],
 "metadata": {
  "interpreter": {
   "hash": "08e2e84546486c2044445a736a214ed62f1a22506b89afaacfc141956dd76d05"
  },
  "kernelspec": {
   "display_name": "Python 3.8.8 ('base')",
   "language": "python",
   "name": "python3"
  },
  "language_info": {
   "codemirror_mode": {
    "name": "ipython",
    "version": 3
   },
   "file_extension": ".py",
   "mimetype": "text/x-python",
   "name": "python",
   "nbconvert_exporter": "python",
   "pygments_lexer": "ipython3",
   "version": "3.8.12"
  },
  "orig_nbformat": 4
 },
 "nbformat": 4,
 "nbformat_minor": 2
}
