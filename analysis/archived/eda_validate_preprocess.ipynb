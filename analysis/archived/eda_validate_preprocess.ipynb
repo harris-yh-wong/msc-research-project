{
 "cells": [
  {
   "cell_type": "markdown",
   "metadata": {},
   "source": [
    "# AIM\n",
    "- To validate preprocessing data\n",
    "\n",
    "Created on: 21 Mar 2022"
   ]
  },
  {
   "cell_type": "markdown",
   "metadata": {},
   "source": [
    "# Workspace"
   ]
  },
  {
   "cell_type": "code",
   "execution_count": 2,
   "metadata": {},
   "outputs": [],
   "source": [
    "##### MODULES\n",
    "import os\n",
    "import numpy as np\n",
    "import pandas as pd\n",
    "from pathlib import Path\n",
    "from matplotlib import pyplot as plt\n",
    "import matplotlib.dates\n",
    "import matplotlib.patches\n",
    "import datetime as dt\n",
    "import feather\n",
    "\n",
    "## custom modules\n",
    "# import sys  \n",
    "# sys.path.append('../../scripts')\n",
    "\n",
    "import import_data\n",
    "import clean_data\n",
    "import helper\n",
    "import report\n",
    "import plotting\n",
    "\n",
    "##### OPTIONS\n",
    "pd.options.mode.chained_assignment = None\n",
    "\n",
    "# autoreload external modules after saving changes to disk\n",
    "%reload_ext autoreload\n",
    "%autoreload 2\n",
    "\n",
    "##### DIRECTORIES\n",
    "proj_dir = Path('.') / '..' / '..'\n",
    "source_data_dir = proj_dir/'data'/'source'\n",
    "clean_data_dir =  proj_dir/'data'/'clean'\n",
    "viz_dir = proj_dir/'viz'"
   ]
  },
  {
   "cell_type": "markdown",
   "metadata": {},
   "source": [
    "# PARAMETERS"
   ]
  },
  {
   "cell_type": "code",
   "execution_count": 3,
   "metadata": {},
   "outputs": [],
   "source": [
    "WRITE_TO_DISK = True\n",
    "OUTPUT_DIR = clean_data_dir / \"preprocessMar22\"\n",
    "\n",
    "SLEEP_TIME_START = '20:00'\n",
    "SLEEP_TIME_END = '10:00'\n",
    "\n",
    "PANDEMIC_CUTOFF   = dt.date(2020, 1, 30) \n",
    "\n",
    "## SUBSETTING\n",
    "SUBSET_START_DATE = None\n",
    "SUBSET_END_DATE   = None\n",
    "SUBSET_PID        = None\n",
    "#  ['0104dfff-4dcd-48ff-b912-51362f098ed0']"
   ]
  },
  {
   "cell_type": "markdown",
   "metadata": {},
   "source": [
    "# Import"
   ]
  },
  {
   "cell_type": "code",
   "execution_count": 11,
   "metadata": {},
   "outputs": [],
   "source": [
    "phqs_raw, slps_raw, metadata = import_data.import_data(source_data_dir)"
   ]
  },
  {
   "cell_type": "markdown",
   "metadata": {},
   "source": [
    "# Preprocessing using method 2 (expanding intervals to timestamps)"
   ]
  },
  {
   "cell_type": "markdown",
   "metadata": {},
   "source": [
    "create output directory"
   ]
  },
  {
   "cell_type": "code",
   "execution_count": 4,
   "metadata": {},
   "outputs": [],
   "source": [
    "OUTPUT_DIR.mkdir(exist_ok=True)"
   ]
  },
  {
   "cell_type": "markdown",
   "metadata": {},
   "source": [
    "clean_slps"
   ]
  },
  {
   "cell_type": "code",
   "execution_count": 5,
   "metadata": {},
   "outputs": [
    {
     "name": "stdout",
     "output_type": "stream",
     "text": [
      "# [clean_slps]\n",
      "Elapsed: 5.0 seconds\n"
     ]
    }
   ],
   "source": [
    "with helper.Timer(\"clean_slps\"):\n",
    "    intervals_all = clean_data.clean_slps(slps_raw)"
   ]
  },
  {
   "cell_type": "markdown",
   "metadata": {},
   "source": [
    "Drop intervals after COVID"
   ]
  },
  {
   "cell_type": "code",
   "execution_count": 6,
   "metadata": {},
   "outputs": [
    {
     "name": "stdout",
     "output_type": "stream",
     "text": [
      "# Drop intervals after pandemic\n",
      "1855957->1844095 rows (Change = -11862) (nrow after = 99.36% of before)\n"
     ]
    }
   ],
   "source": [
    "intervals = plotting.subset_intervals(intervals_all, end_date=PANDEMIC_CUTOFF, msg=\"Drop intervals after pandemic\")"
   ]
  },
  {
   "cell_type": "markdown",
   "metadata": {},
   "source": [
    "!!!!! EXAMPLE INTERVAL SUBSET"
   ]
  },
  {
   "cell_type": "code",
   "execution_count": 7,
   "metadata": {},
   "outputs": [
    {
     "name": "stdout",
     "output_type": "stream",
     "text": [
      "Intervals sampled: 2\n"
     ]
    }
   ],
   "source": [
    "#### Subset by criteria\n",
    "# intervals = plotting.subset_intervals(intervals_all, start_date=SUBSET_START_DATE, end_date=SUBSET_END_DATE, id=SUBSET_PID, msg=\"Sample a small testing set\")\n",
    "\n",
    "### Slicing\n",
    "intervals = intervals_all.head(2)\n",
    "\n",
    "print(f\"Intervals sampled: {intervals.shape[0]}\")"
   ]
  },
  {
   "cell_type": "code",
   "execution_count": null,
   "metadata": {},
   "outputs": [],
   "source": [
    "with helper.Timer(\"Binning and normalization\"):\n",
    "    binned = clean_data.bin_by_time(dedupped, freq='1H')\n",
    "    binned_norm = clean_data.normalize_binned(binned)"
   ]
  },
  {
   "cell_type": "code",
   "execution_count": null,
   "metadata": {},
   "outputs": [],
   "source": [
    "with helper.Timer(\"Expand to full range of hours\"):\n",
    "    binned_norm['hour'] = binned_norm['t'].dt.hour\n",
    "    binned_norm['start_date'] = binned_norm['t'].dt.date\n",
    "    expanded = clean_data.expand_full_hours(binned_norm)"
   ]
  },
  {
   "cell_type": "code",
   "execution_count": null,
   "metadata": {},
   "outputs": [],
   "source": [
    "intervals = plotting.subset_intervals(intervals_all, end_date=PANDEMIC_CUTOFF, msg=\"Drop intervals after pandemic\")"
   ]
  },
  {
   "cell_type": "code",
   "execution_count": null,
   "metadata": {},
   "outputs": [],
   "source": [
    "### EXAMPLE INTERVAL SUBSET\n",
    "#### Subset by criteria\n",
    "# intervals = plotting.subset_intervals(intervals_all, start_date=SUBSET_START_DATE, end_date=SUBSET_END_DATE, id=SUBSET_PID, msg=\"Sample a small testing set\")\n",
    "\n",
    "### Slicing\n",
    "# FRAC = 0.1\n",
    "# keep_flag = int(np.floor(intervals_all.shape[0] * FRAC))\n",
    "# intervals = intervals_all.head(keep_flag)"
   ]
  },
  {
   "cell_type": "code",
   "execution_count": null,
   "metadata": {},
   "outputs": [],
   "source": [
    "### KEEP ALL\n",
    "intervals = intervals_all\n",
    "\n",
    "print(f\"Intervals sampled: {intervals.shape[0]}\")"
   ]
  },
  {
   "cell_type": "markdown",
   "metadata": {},
   "source": [
    "explode"
   ]
  },
  {
   "cell_type": "code",
   "execution_count": null,
   "metadata": {},
   "outputs": [],
   "source": [
    "with helper.Timer(\"explode2ts\"):\n",
    "    timeseries = clean_data.explode2ts(intervals)\n",
    "    report.report_change_in_nrow(intervals, timeseries)"
   ]
  },
  {
   "cell_type": "markdown",
   "metadata": {},
   "source": [
    "Subset timestamps within a defined interval"
   ]
  },
  {
   "cell_type": "code",
   "execution_count": null,
   "metadata": {},
   "outputs": [],
   "source": [
    "with helper.Timer(\"Subset timestamps within defined interval\"):\n",
    "    timeseries_subset = clean_data.subset_timeseries_within_interval(timeseries, SLEEP_TIME_START, SLEEP_TIME_END)"
   ]
  },
  {
   "cell_type": "markdown",
   "metadata": {},
   "source": [
    "Fix overlap"
   ]
  },
  {
   "cell_type": "code",
   "execution_count": null,
   "metadata": {},
   "outputs": [],
   "source": [
    "with helper.Timer(\"Remove overlapped timestamps and sleep stage labels\"):\n",
    "    dedupped = clean_data.dedup_timeseries(timeseries_subset)\n",
    "with helper.Timer(\"Binning and normalization\"):\n",
    "    binned = clean_data.bin_by_time(dedupped, freq='1H')\n",
    "    binned_norm = clean_data.normalize_binned(binned)\n",
    "with helper.Timer(\"Expand to full range of hours\"):\n",
    "    binned_norm['hour'] = binned_norm['t'].dt.hour\n",
    "    binned_norm['start_date'] = binned_norm['t'].dt.date\n",
    "    expanded = clean_data.expand_full_hours(binned_norm)\n",
    "    expanded.drop('t', axis=1, inplace=True)"
   ]
  },
  {
   "cell_type": "markdown",
   "metadata": {},
   "source": [
    "Binning"
   ]
  },
  {
   "cell_type": "code",
   "execution_count": null,
   "metadata": {},
   "outputs": [],
   "source": [
    "OUTPUT_DIR"
   ]
  },
  {
   "cell_type": "code",
   "execution_count": null,
   "metadata": {},
   "outputs": [],
   "source": [
    "# save\n",
    "if WRITE_TO_DISK:\n",
    "\n",
    "    # p = OUTPUT_DIR / 'timeseries.ftr'\n",
    "    # timeseries.reset_index(drop=True).to_feather(p)\n",
    "    \n",
    "    # p = OUTPUT_DIR / 'dedupped.ftr'\n",
    "    # dedupped.reset_index(drop=True).to_feather(p)\n",
    "\n",
    "    # p = OUTPUT_DIR / 'binned.ftr'\n",
    "    # binned.reset_index(drop=True).to_feather(p)\n",
    "    \n",
    "    p = OUTPUT_DIR / 'expanded.ftr'\n",
    "    expanded.reset_index(drop=True).to_feather(p)\n"
   ]
  },
  {
   "cell_type": "markdown",
   "metadata": {},
   "source": [
    "Try other frequencies\n",
    "\n",
    "Section is unfinished because expand_full_hours is not compatiable with other frequencies\n",
    "This is a loop to loop for any frequencies, to be passed into bin_by_time, for later use\n"
   ]
  },
  {
   "cell_type": "code",
   "execution_count": null,
   "metadata": {},
   "outputs": [],
   "source": [
    "p = OUTPUT_DIR / 'dedupped.ftr'\n",
    "dedupped_all = pd.read_feather(p)"
   ]
  },
  {
   "cell_type": "code",
   "execution_count": null,
   "metadata": {},
   "outputs": [],
   "source": [
    "\n",
    "#### NOT RUN ###\n",
    "if False:\n",
    "    ### load from disk\n",
    "    p = OUTPUT_DIR / 'dedupped.ftr'\n",
    "    dedupped_all = pd.read_feather(p)\n",
    "\n",
    "    ### sample\n",
    "    dedupped = dedupped_all.head(10000)\n",
    "\n",
    "    ### params\n",
    "    freqs = ['30M']\n",
    "    WRITE_TO_TASK = False\n",
    "        \n",
    "    ### main loop\n",
    "    for freq in freqs:\n",
    "        print(f\"### {freq=}\")\n",
    "        \n",
    "        with helper.Timer(\"Binning and normalization\"):\n",
    "            binned = clean_data.bin_by_time(dedupped, freq=freq)\n",
    "            binned_norm = clean_data.normalize_binned(binned)\n",
    "\n",
    "        with helper.Timer(\"Expand to full range of hours\"):\n",
    "            binned_norm['hour'] = binned_norm['t'].dt.hour\n",
    "            binned_norm['start_date'] = binned_norm['t'].dt.date\n",
    "            expanded = clean_data.expand_full_hours(binned_norm)\n",
    "            expanded.drop(\"t\", axis=1, inplace=True)\n",
    "\n",
    "        WRITE_TO_DISK = True\n",
    "        if WRITE_TO_DISK:\n",
    "            sufffix = 'preprocess' + freq\n",
    "            OUTPUT_DIR = proj_dir/'data'/'clean'\n",
    "            OUTPUT_DIR.mkdir(exist_ok=True)\n",
    "            \n",
    "            p = OUTPUT_DIR / 'expanded.ftr'\n",
    "            expanded.reset_index(drop=True).to_feather(p)"
   ]
  },
  {
   "cell_type": "markdown",
   "metadata": {},
   "source": [
    "Export"
   ]
  },
  {
   "cell_type": "code",
   "execution_count": null,
   "metadata": {},
   "outputs": [],
   "source": [
    "# # save\n",
    "# if WRITE_TO_DISK:\n",
    "    \n",
    "#     p = clean_data_dir / 'slps_timeseries.ftr'\n",
    "#     timeseries.reset_index(drop=True).to_feather(p)\n",
    "    \n",
    "#     p = clean_data_dir / 'slps_dedupped.ftr'\n",
    "#     dedupped.reset_index(drop=True).to_feather(p)\n",
    "\n",
    "#     p = clean_data_dir / 'binned.ftr'\n",
    "#     binned.reset_index(drop=True).to_feather(p)\n",
    "    \n",
    "#     p = clean_data_dir / 'expanded.ftr'\n",
    "#     expanded.reset_index(drop=True).to_feather(p)"
   ]
  },
  {
   "cell_type": "markdown",
   "metadata": {},
   "source": [
    "Import from saves"
   ]
  },
  {
   "cell_type": "code",
   "execution_count": 9,
   "metadata": {},
   "outputs": [],
   "source": [
    "SAVE_DIR = proj_dir/\"data\"/\"clean\"/\"preprocessMar22\"\n",
    "\n",
    "p = SAVE_DIR / 'binned.ftr'\n",
    "binned = pd.read_feather(p)\n",
    "\n",
    "p = SAVE_DIR / 'expanded.ftr'\n",
    "expanded = pd.read_feather(p)\n",
    "\n",
    "p = SAVE_DIR / 'dedupped.ftr'\n",
    "dedupped = pd.read_feather(p)"
   ]
  },
  {
   "cell_type": "markdown",
   "metadata": {},
   "source": [
    "# QC histograms by hour"
   ]
  },
  {
   "cell_type": "code",
   "execution_count": 6,
   "metadata": {},
   "outputs": [
    {
     "data": {
      "image/png": "[encoded data removed]",
      "text/plain": [
       "<Figure size 1080x540 with 15 Axes>"
      ]
     },
     "metadata": {
      "needs_background": "light"
     },
     "output_type": "display_data"
    },
    {
     "data": {
      "image/png": "[encoded data removed]",
      "text/plain": [
       "<Figure size 1080x540 with 15 Axes>"
      ]
     },
     "metadata": {
      "needs_background": "light"
     },
     "output_type": "display_data"
    }
   ],
   "source": [
    "import seaborn as sns\n",
    "\n",
    "\n",
    "g = sns.FacetGrid(binned, col=\"hour\", height=2.5, col_wrap=6)\n",
    "g.map(sns.histplot, \"sum\");\n",
    "plt.savefig(viz_dir/\"binned_hist_by_hour.png\")\n",
    "\n",
    "g = sns.FacetGrid(expanded, col=\"hour\", height=2.5, col_wrap=6)\n",
    "g.map(sns.histplot, \"sum\");\n",
    "plt.savefig(viz_dir/\"binned_expanded_hist_by_hour.png\")\n",
    "\n",
    "fig = expanded['sum'].plot.hist(bins=100);\n"
   ]
  },
  {
   "cell_type": "code",
   "execution_count": 8,
   "metadata": {},
   "outputs": [
    {
     "data": {
      "image/png": "[encoded data removed]",
      "text/plain": [
       "<Figure size 432x288 with 1 Axes>"
      ]
     },
     "metadata": {
      "needs_background": "light"
     },
     "output_type": "display_data"
    }
   ],
   "source": [
    "hours = [20,21,22,23,0,1,2,3,4,5,6,7,8,9,10]\n",
    "\n",
    "hourly_sums = binned.groupby('hour').sum()\n",
    "hourly_sums = hourly_sums.reindex(hours)\n",
    "hourly_sums.plot.bar();\n",
    "plt.savefig(viz_dir/\"sleep_stage_duration_by_hour.png\")"
   ]
  },
  {
   "cell_type": "markdown",
   "metadata": {},
   "source": [
    "# Merge"
   ]
  },
  {
   "cell_type": "markdown",
   "metadata": {},
   "source": [
    "Clean `phqs_raw` to match Haotian's code"
   ]
  },
  {
   "cell_type": "code",
   "execution_count": 76,
   "metadata": {},
   "outputs": [],
   "source": [
    "target = phqs_raw[['centre', 'pid', 'time', 'phq']].copy()\n",
    "target.columns = ['centre', 'id', 'time_y', 'phq']\n",
    "\n",
    "target['time_y'] = pd.to_datetime(target['time_y'])"
   ]
  },
  {
   "cell_type": "markdown",
   "metadata": {},
   "source": [
    "Beginning of Haotian's code, with modificdations"
   ]
  },
  {
   "cell_type": "code",
   "execution_count": 77,
   "metadata": {},
   "outputs": [],
   "source": [
    "#Clean target data\n",
    "\"\"\"target[\"test_date\"] = target[\"time_y\"].map(lambda x: x[:10])\"\"\"\n",
    "#! replaced by:\n",
    "target[\"test_date\"] = target['time_y'].dt.date\n",
    "target_new = target.loc[:,[\"id\", \"test_date\", \"phq\"]]\n",
    "\n",
    "#Get observation start and end times\n",
    "\"\"\"\n",
    "id_obs_start = data_tab.groupby('id')['date'].min()\n",
    "id_obs_end = data_tab.groupby('id')['date'].max()\n",
    "\"\"\"\n",
    "\n",
    "#! replaced by\n",
    "expanded.columns = ['id', 'date', 'start_time', 'AWAKE', 'DEEP', 'LIGHT', 'REM', 'total']\n",
    "id_obs_start = expanded.groupby('id')['date'].min()\n",
    "id_obs_end = expanded.groupby('id')['date'].max()"
   ]
  },
  {
   "cell_type": "code",
   "execution_count": 78,
   "metadata": {},
   "outputs": [],
   "source": [
    "#Adjust the time format\n",
    "target_new[\"obs_start\"] = pd.to_datetime(target_new.test_date) - pd.Timedelta(days=15)\n",
    "\n",
    "target_new[\"obs_start\"] = target_new[\"obs_start\"].apply(lambda x:x.strftime('%Y-%m-%d'))"
   ]
  },
  {
   "cell_type": "code",
   "execution_count": 79,
   "metadata": {},
   "outputs": [
    {
     "data": {
      "text/html": [
       "<div>\n",
       "<style scoped>\n",
       "    .dataframe tbody tr th:only-of-type {\n",
       "        vertical-align: middle;\n",
       "    }\n",
       "\n",
       "    .dataframe tbody tr th {\n",
       "        vertical-align: top;\n",
       "    }\n",
       "\n",
       "    .dataframe thead th {\n",
       "        text-align: right;\n",
       "    }\n",
       "</style>\n",
       "<table border=\"1\" class=\"dataframe\">\n",
       "  <thead>\n",
       "    <tr style=\"text-align: right;\">\n",
       "      <th></th>\n",
       "      <th>id</th>\n",
       "      <th>test_date</th>\n",
       "      <th>phq</th>\n",
       "      <th>obs_start</th>\n",
       "    </tr>\n",
       "    <tr>\n",
       "      <th>index</th>\n",
       "      <th></th>\n",
       "      <th></th>\n",
       "      <th></th>\n",
       "      <th></th>\n",
       "    </tr>\n",
       "  </thead>\n",
       "  <tbody>\n",
       "    <tr>\n",
       "      <th>0</th>\n",
       "      <td>bf3defd7-2a52-4557-8202-9d887957e109</td>\n",
       "      <td>2019-01-21</td>\n",
       "      <td>16.0</td>\n",
       "      <td>2019-01-06</td>\n",
       "    </tr>\n",
       "    <tr>\n",
       "      <th>1</th>\n",
       "      <td>bf3defd7-2a52-4557-8202-9d887957e109</td>\n",
       "      <td>2019-02-04</td>\n",
       "      <td>17.0</td>\n",
       "      <td>2019-01-20</td>\n",
       "    </tr>\n",
       "    <tr>\n",
       "      <th>2</th>\n",
       "      <td>bf3defd7-2a52-4557-8202-9d887957e109</td>\n",
       "      <td>2019-03-04</td>\n",
       "      <td>22.0</td>\n",
       "      <td>2019-02-17</td>\n",
       "    </tr>\n",
       "  </tbody>\n",
       "</table>\n",
       "</div>"
      ],
      "text/plain": [
       "                                         id   test_date   phq   obs_start\n",
       "index                                                                    \n",
       "0      bf3defd7-2a52-4557-8202-9d887957e109  2019-01-21  16.0  2019-01-06\n",
       "1      bf3defd7-2a52-4557-8202-9d887957e109  2019-02-04  17.0  2019-01-20\n",
       "2      bf3defd7-2a52-4557-8202-9d887957e109  2019-03-04  22.0  2019-02-17"
      ]
     },
     "execution_count": 79,
     "metadata": {},
     "output_type": "execute_result"
    }
   ],
   "source": [
    "target_new.head(3)"
   ]
  },
  {
   "cell_type": "code",
   "execution_count": 80,
   "metadata": {},
   "outputs": [],
   "source": [
    "#Join the tables\n",
    "target_new = target_new.merge(id_obs_start, on=\"id\", how=\"left\").merge(id_obs_end, on=\"id\", how=\"left\")\n",
    "\n",
    "#Filter the target data during the observation period\n",
    "target_select = target_new.loc[\n",
    "    (pd.to_datetime(target_new['test_date']) >= pd.to_datetime(target_new['date_x'])) & \n",
    "    (pd.to_datetime(target_new['obs_start']) <= pd.to_datetime(target_new['date_y']))\n",
    "]\n",
    "#Drop extra columns\n",
    "target_select = target_select.drop([\"date_x\", \"date_y\"], axis = 1)\n"
   ]
  },
  {
   "cell_type": "code",
   "execution_count": 81,
   "metadata": {},
   "outputs": [
    {
     "name": "stdout",
     "output_type": "stream",
     "text": [
      "# Drop PHQ test results which are within 14 days from previous result\n",
      "4285->4076 rows (Change = -209) (nrow after = 95.12% of before)\n"
     ]
    }
   ],
   "source": [
    "target_select = clean_data.drop_days_delta(target_select)"
   ]
  },
  {
   "cell_type": "code",
   "execution_count": 82,
   "metadata": {},
   "outputs": [],
   "source": [
    "#Link target data and observation data\n",
    "\"\"\"data_merge = pd.merge(target_select, data_tab, how='outer', on=['id'])\"\"\"\n",
    "#! replaced by\n",
    "data_merge = pd.merge(target_select, expanded, how='outer', on=['id'])"
   ]
  },
  {
   "cell_type": "code",
   "execution_count": 83,
   "metadata": {},
   "outputs": [
    {
     "data": {
      "text/html": [
       "<div>\n",
       "<style scoped>\n",
       "    .dataframe tbody tr th:only-of-type {\n",
       "        vertical-align: middle;\n",
       "    }\n",
       "\n",
       "    .dataframe tbody tr th {\n",
       "        vertical-align: top;\n",
       "    }\n",
       "\n",
       "    .dataframe thead th {\n",
       "        text-align: right;\n",
       "    }\n",
       "</style>\n",
       "<table border=\"1\" class=\"dataframe\">\n",
       "  <thead>\n",
       "    <tr style=\"text-align: right;\">\n",
       "      <th></th>\n",
       "      <th>id</th>\n",
       "      <th>test_date</th>\n",
       "      <th>phq</th>\n",
       "      <th>obs_start</th>\n",
       "      <th>date</th>\n",
       "      <th>start_time</th>\n",
       "      <th>AWAKE</th>\n",
       "      <th>DEEP</th>\n",
       "      <th>LIGHT</th>\n",
       "      <th>REM</th>\n",
       "      <th>total</th>\n",
       "    </tr>\n",
       "  </thead>\n",
       "  <tbody>\n",
       "    <tr>\n",
       "      <th>0</th>\n",
       "      <td>bf3defd7-2a52-4557-8202-9d887957e109</td>\n",
       "      <td>2019-01-21</td>\n",
       "      <td>16.0</td>\n",
       "      <td>2019-01-06</td>\n",
       "      <td>2019-01-21</td>\n",
       "      <td>20</td>\n",
       "      <td>0.0</td>\n",
       "      <td>0.0</td>\n",
       "      <td>0.0</td>\n",
       "      <td>0.0</td>\n",
       "      <td>0.0</td>\n",
       "    </tr>\n",
       "    <tr>\n",
       "      <th>1</th>\n",
       "      <td>bf3defd7-2a52-4557-8202-9d887957e109</td>\n",
       "      <td>2019-01-21</td>\n",
       "      <td>16.0</td>\n",
       "      <td>2019-01-06</td>\n",
       "      <td>2019-01-21</td>\n",
       "      <td>21</td>\n",
       "      <td>0.0</td>\n",
       "      <td>0.0</td>\n",
       "      <td>0.0</td>\n",
       "      <td>0.0</td>\n",
       "      <td>0.0</td>\n",
       "    </tr>\n",
       "    <tr>\n",
       "      <th>2</th>\n",
       "      <td>bf3defd7-2a52-4557-8202-9d887957e109</td>\n",
       "      <td>2019-01-21</td>\n",
       "      <td>16.0</td>\n",
       "      <td>2019-01-06</td>\n",
       "      <td>2019-01-21</td>\n",
       "      <td>22</td>\n",
       "      <td>0.1</td>\n",
       "      <td>0.0</td>\n",
       "      <td>0.0</td>\n",
       "      <td>0.0</td>\n",
       "      <td>0.1</td>\n",
       "    </tr>\n",
       "  </tbody>\n",
       "</table>\n",
       "</div>"
      ],
      "text/plain": [
       "                                     id   test_date   phq   obs_start  \\\n",
       "0  bf3defd7-2a52-4557-8202-9d887957e109  2019-01-21  16.0  2019-01-06   \n",
       "1  bf3defd7-2a52-4557-8202-9d887957e109  2019-01-21  16.0  2019-01-06   \n",
       "2  bf3defd7-2a52-4557-8202-9d887957e109  2019-01-21  16.0  2019-01-06   \n",
       "\n",
       "         date  start_time  AWAKE  DEEP  LIGHT  REM  total  \n",
       "0  2019-01-21          20    0.0   0.0    0.0  0.0    0.0  \n",
       "1  2019-01-21          21    0.0   0.0    0.0  0.0    0.0  \n",
       "2  2019-01-21          22    0.1   0.0    0.0  0.0    0.1  "
      ]
     },
     "execution_count": 83,
     "metadata": {},
     "output_type": "execute_result"
    }
   ],
   "source": [
    "data_merge.head(3)"
   ]
  },
  {
   "cell_type": "code",
   "execution_count": 87,
   "metadata": {},
   "outputs": [
    {
     "name": "stdout",
     "output_type": "stream",
     "text": [
      "735945->735945 rows (Change = 0) (nrow after = 100.0% of before)\n"
     ]
    }
   ],
   "source": [
    "\"\"\"\n",
    "data_merge_select = data_merge.loc[(pd.to_datetime(data_merge.obs_start) <= pd.to_datetime(data_merge.date)) & (pd.to_datetime(data_merge.date) <= pd.to_datetime(data_merge.test_date))]\n",
    "\"\"\"\n",
    "\n",
    "#! replaced by (formatting)\n",
    "mask1 = (pd.to_datetime(data_merge.obs_start) <= pd.to_datetime(data_merge.date))\n",
    "mask2 = (pd.to_datetime(data_merge.date) <= pd.to_datetime(data_merge.test_date))\n",
    "data_merge_select = data_merge.loc[mask1 & mask2]\n",
    "report.report_change_in_nrow(data_merge, data_merge_select)"
   ]
  },
  {
   "cell_type": "code",
   "execution_count": 88,
   "metadata": {},
   "outputs": [],
   "source": [
    "# Set new ID: old_ID + PHQ time\n",
    "#! updated\n",
    "data_merge_select[\"id_new\"] = data_merge_select.id + \"_\" + data_merge_select.test_date.astype(\"string\")"
   ]
  },
  {
   "cell_type": "code",
   "execution_count": 89,
   "metadata": {},
   "outputs": [],
   "source": [
    "# Set new time: date + start_time\n",
    "#! updated\n",
    "data_merge_select[\"time\"] = data_merge_select.date.astype(\"string\") + \" \" + data_merge_select.start_time.astype(\"string\")"
   ]
  },
  {
   "cell_type": "code",
   "execution_count": null,
   "metadata": {},
   "outputs": [],
   "source": [
    "phqs_raw, slps_raw, metadata = import_data.import_data(source_data_dir)"
   ]
  },
  {
   "cell_type": "markdown",
   "metadata": {},
   "source": [
    "# Merge"
   ]
  },
  {
   "cell_type": "code",
   "execution_count": 91,
   "metadata": {},
   "outputs": [
    {
     "data": {
      "text/html": [
       "<div>\n",
       "<style scoped>\n",
       "    .dataframe tbody tr th:only-of-type {\n",
       "        vertical-align: middle;\n",
       "    }\n",
       "\n",
       "    .dataframe tbody tr th {\n",
       "        vertical-align: top;\n",
       "    }\n",
       "\n",
       "    .dataframe thead th {\n",
       "        text-align: right;\n",
       "    }\n",
       "</style>\n",
       "<table border=\"1\" class=\"dataframe\">\n",
       "  <thead>\n",
       "    <tr style=\"text-align: right;\">\n",
       "      <th></th>\n",
       "      <th>centre</th>\n",
       "      <th>pid</th>\n",
       "      <th>time</th>\n",
       "      <th>phq</th>\n",
       "      <th>phq1</th>\n",
       "      <th>phq2</th>\n",
       "      <th>phq3</th>\n",
       "      <th>phq4</th>\n",
       "      <th>phq5</th>\n",
       "      <th>phq6</th>\n",
       "      <th>phq7</th>\n",
       "      <th>phq8</th>\n",
       "    </tr>\n",
       "    <tr>\n",
       "      <th>index</th>\n",
       "      <th></th>\n",
       "      <th></th>\n",
       "      <th></th>\n",
       "      <th></th>\n",
       "      <th></th>\n",
       "      <th></th>\n",
       "      <th></th>\n",
       "      <th></th>\n",
       "      <th></th>\n",
       "      <th></th>\n",
       "      <th></th>\n",
       "      <th></th>\n",
       "    </tr>\n",
       "  </thead>\n",
       "  <tbody>\n",
       "    <tr>\n",
       "      <th>0</th>\n",
       "      <td>ciber</td>\n",
       "      <td>bf3defd7-2a52-4557-8202-9d887957e109</td>\n",
       "      <td>2019-01-21 17:18:28.927000046</td>\n",
       "      <td>16.0</td>\n",
       "      <td>2.0</td>\n",
       "      <td>1.0</td>\n",
       "      <td>3.0</td>\n",
       "      <td>3.0</td>\n",
       "      <td>1.0</td>\n",
       "      <td>2.0</td>\n",
       "      <td>2.0</td>\n",
       "      <td>2.0</td>\n",
       "    </tr>\n",
       "    <tr>\n",
       "      <th>1</th>\n",
       "      <td>ciber</td>\n",
       "      <td>bf3defd7-2a52-4557-8202-9d887957e109</td>\n",
       "      <td>2019-02-04 18:03:59.214999914</td>\n",
       "      <td>17.0</td>\n",
       "      <td>3.0</td>\n",
       "      <td>2.0</td>\n",
       "      <td>3.0</td>\n",
       "      <td>3.0</td>\n",
       "      <td>2.0</td>\n",
       "      <td>2.0</td>\n",
       "      <td>1.0</td>\n",
       "      <td>1.0</td>\n",
       "    </tr>\n",
       "    <tr>\n",
       "      <th>2</th>\n",
       "      <td>ciber</td>\n",
       "      <td>bf3defd7-2a52-4557-8202-9d887957e109</td>\n",
       "      <td>2019-03-04 14:00:03.736000061</td>\n",
       "      <td>22.0</td>\n",
       "      <td>3.0</td>\n",
       "      <td>3.0</td>\n",
       "      <td>3.0</td>\n",
       "      <td>2.0</td>\n",
       "      <td>3.0</td>\n",
       "      <td>3.0</td>\n",
       "      <td>3.0</td>\n",
       "      <td>2.0</td>\n",
       "    </tr>\n",
       "    <tr>\n",
       "      <th>3</th>\n",
       "      <td>ciber</td>\n",
       "      <td>bf3defd7-2a52-4557-8202-9d887957e109</td>\n",
       "      <td>2019-03-18 19:34:10.964999914</td>\n",
       "      <td>19.0</td>\n",
       "      <td>3.0</td>\n",
       "      <td>2.0</td>\n",
       "      <td>3.0</td>\n",
       "      <td>3.0</td>\n",
       "      <td>2.0</td>\n",
       "      <td>2.0</td>\n",
       "      <td>2.0</td>\n",
       "      <td>2.0</td>\n",
       "    </tr>\n",
       "    <tr>\n",
       "      <th>4</th>\n",
       "      <td>ciber</td>\n",
       "      <td>bf3defd7-2a52-4557-8202-9d887957e109</td>\n",
       "      <td>2019-04-01 11:04:21.759999990</td>\n",
       "      <td>14.0</td>\n",
       "      <td>2.0</td>\n",
       "      <td>1.0</td>\n",
       "      <td>3.0</td>\n",
       "      <td>2.0</td>\n",
       "      <td>2.0</td>\n",
       "      <td>1.0</td>\n",
       "      <td>2.0</td>\n",
       "      <td>1.0</td>\n",
       "    </tr>\n",
       "  </tbody>\n",
       "</table>\n",
       "</div>"
      ],
      "text/plain": [
       "      centre                                   pid  \\\n",
       "index                                                \n",
       "0      ciber  bf3defd7-2a52-4557-8202-9d887957e109   \n",
       "1      ciber  bf3defd7-2a52-4557-8202-9d887957e109   \n",
       "2      ciber  bf3defd7-2a52-4557-8202-9d887957e109   \n",
       "3      ciber  bf3defd7-2a52-4557-8202-9d887957e109   \n",
       "4      ciber  bf3defd7-2a52-4557-8202-9d887957e109   \n",
       "\n",
       "                                time   phq  phq1  phq2  phq3  phq4  phq5  \\\n",
       "index                                                                      \n",
       "0      2019-01-21 17:18:28.927000046  16.0   2.0   1.0   3.0   3.0   1.0   \n",
       "1      2019-02-04 18:03:59.214999914  17.0   3.0   2.0   3.0   3.0   2.0   \n",
       "2      2019-03-04 14:00:03.736000061  22.0   3.0   3.0   3.0   2.0   3.0   \n",
       "3      2019-03-18 19:34:10.964999914  19.0   3.0   2.0   3.0   3.0   2.0   \n",
       "4      2019-04-01 11:04:21.759999990  14.0   2.0   1.0   3.0   2.0   2.0   \n",
       "\n",
       "       phq6  phq7  phq8  \n",
       "index                    \n",
       "0       2.0   2.0   2.0  \n",
       "1       2.0   1.0   1.0  \n",
       "2       3.0   3.0   2.0  \n",
       "3       2.0   2.0   2.0  \n",
       "4       1.0   2.0   1.0  "
      ]
     },
     "execution_count": 91,
     "metadata": {},
     "output_type": "execute_result"
    }
   ],
   "source": [
    "phqs_raw.head()"
   ]
  },
  {
   "cell_type": "code",
   "execution_count": 92,
   "metadata": {},
   "outputs": [],
   "source": [
    "#Clean target data\n",
    "\"\"\"target[\"test_date\"] = target[\"time_y\"].map(lambda x: x[:10])\"\"\"\n",
    "#! replaced by:\n",
    "target[\"test_date\"] = target['time_y'].dt.date\n",
    "target_new = target.loc[:,[\"id\", \"test_date\", \"phq\"]]\n",
    "\n",
    "#Get observation start and end times\n",
    "\"\"\"\n",
    "id_obs_start = data_tab.groupby('id')['date'].min()\n",
    "id_obs_end = data_tab.groupby('id')['date'].max()\n",
    "\"\"\"\n",
    "\n",
    "#! replaced by\n",
    "expanded.columns = ['id', 'date', 'start_time', 'AWAKE', 'DEEP', 'LIGHT', 'REM', 'total']\n",
    "id_obs_start = expanded.groupby('id')['date'].min()\n",
    "id_obs_end = expanded.groupby('id')['date'].max()"
   ]
  },
  {
   "cell_type": "code",
   "execution_count": 93,
   "metadata": {},
   "outputs": [],
   "source": [
    "#Adjust the time format\n",
    "target_new[\"obs_start\"] = pd.to_datetime(target_new.test_date) - pd.Timedelta(days=15)\n",
    "target_new[\"obs_start\"] = target_new[\"obs_start\"].apply(lambda x:x.strftime('%Y-%m-%d'))"
   ]
  },
  {
   "cell_type": "code",
   "execution_count": null,
   "metadata": {},
   "outputs": [
    {
     "data": {
      "text/html": [
       "<div>\n",
       "<style scoped>\n",
       "    .dataframe tbody tr th:only-of-type {\n",
       "        vertical-align: middle;\n",
       "    }\n",
       "\n",
       "    .dataframe tbody tr th {\n",
       "        vertical-align: top;\n",
       "    }\n",
       "\n",
       "    .dataframe thead th {\n",
       "        text-align: right;\n",
       "    }\n",
       "</style>\n",
       "<table border=\"1\" class=\"dataframe\">\n",
       "  <thead>\n",
       "    <tr style=\"text-align: right;\">\n",
       "      <th></th>\n",
       "      <th>id</th>\n",
       "      <th>test_date</th>\n",
       "      <th>phq</th>\n",
       "      <th>obs_start</th>\n",
       "    </tr>\n",
       "  </thead>\n",
       "  <tbody>\n",
       "    <tr>\n",
       "      <th>0</th>\n",
       "      <td>bf3defd7-2a52-4557-8202-9d887957e109</td>\n",
       "      <td>2019-01-21</td>\n",
       "      <td>16.0</td>\n",
       "      <td>2019-01-06</td>\n",
       "    </tr>\n",
       "    <tr>\n",
       "      <th>1</th>\n",
       "      <td>bf3defd7-2a52-4557-8202-9d887957e109</td>\n",
       "      <td>2019-02-04</td>\n",
       "      <td>17.0</td>\n",
       "      <td>2019-01-20</td>\n",
       "    </tr>\n",
       "    <tr>\n",
       "      <th>2</th>\n",
       "      <td>bf3defd7-2a52-4557-8202-9d887957e109</td>\n",
       "      <td>2019-03-04</td>\n",
       "      <td>22.0</td>\n",
       "      <td>2019-02-17</td>\n",
       "    </tr>\n",
       "    <tr>\n",
       "      <th>3</th>\n",
       "      <td>bf3defd7-2a52-4557-8202-9d887957e109</td>\n",
       "      <td>2019-03-18</td>\n",
       "      <td>19.0</td>\n",
       "      <td>2019-03-03</td>\n",
       "    </tr>\n",
       "    <tr>\n",
       "      <th>4</th>\n",
       "      <td>bf3defd7-2a52-4557-8202-9d887957e109</td>\n",
       "      <td>2019-04-01</td>\n",
       "      <td>14.0</td>\n",
       "      <td>2019-03-17</td>\n",
       "    </tr>\n",
       "    <tr>\n",
       "      <th>...</th>\n",
       "      <td>...</td>\n",
       "      <td>...</td>\n",
       "      <td>...</td>\n",
       "      <td>...</td>\n",
       "    </tr>\n",
       "    <tr>\n",
       "      <th>26740932</th>\n",
       "      <td>09828ab7-192f-4aab-88d5-eb1f5891e367</td>\n",
       "      <td>2019-11-06</td>\n",
       "      <td>19.0</td>\n",
       "      <td>2019-10-22</td>\n",
       "    </tr>\n",
       "    <tr>\n",
       "      <th>26740933</th>\n",
       "      <td>09828ab7-192f-4aab-88d5-eb1f5891e367</td>\n",
       "      <td>2019-11-20</td>\n",
       "      <td>13.0</td>\n",
       "      <td>2019-11-05</td>\n",
       "    </tr>\n",
       "    <tr>\n",
       "      <th>26740934</th>\n",
       "      <td>09828ab7-192f-4aab-88d5-eb1f5891e367</td>\n",
       "      <td>2019-12-04</td>\n",
       "      <td>18.0</td>\n",
       "      <td>2019-11-19</td>\n",
       "    </tr>\n",
       "    <tr>\n",
       "      <th>26740935</th>\n",
       "      <td>09828ab7-192f-4aab-88d5-eb1f5891e367</td>\n",
       "      <td>2019-12-18</td>\n",
       "      <td>21.0</td>\n",
       "      <td>2019-12-03</td>\n",
       "    </tr>\n",
       "    <tr>\n",
       "      <th>26740936</th>\n",
       "      <td>09828ab7-192f-4aab-88d5-eb1f5891e367</td>\n",
       "      <td>2020-01-01</td>\n",
       "      <td>17.0</td>\n",
       "      <td>2019-12-17</td>\n",
       "    </tr>\n",
       "  </tbody>\n",
       "</table>\n",
       "<p>4849 rows × 4 columns</p>\n",
       "</div>"
      ],
      "text/plain": [
       "                                            id   test_date   phq   obs_start\n",
       "0         bf3defd7-2a52-4557-8202-9d887957e109  2019-01-21  16.0  2019-01-06\n",
       "1         bf3defd7-2a52-4557-8202-9d887957e109  2019-02-04  17.0  2019-01-20\n",
       "2         bf3defd7-2a52-4557-8202-9d887957e109  2019-03-04  22.0  2019-02-17\n",
       "3         bf3defd7-2a52-4557-8202-9d887957e109  2019-03-18  19.0  2019-03-03\n",
       "4         bf3defd7-2a52-4557-8202-9d887957e109  2019-04-01  14.0  2019-03-17\n",
       "...                                        ...         ...   ...         ...\n",
       "26740932  09828ab7-192f-4aab-88d5-eb1f5891e367  2019-11-06  19.0  2019-10-22\n",
       "26740933  09828ab7-192f-4aab-88d5-eb1f5891e367  2019-11-20  13.0  2019-11-05\n",
       "26740934  09828ab7-192f-4aab-88d5-eb1f5891e367  2019-12-04  18.0  2019-11-19\n",
       "26740935  09828ab7-192f-4aab-88d5-eb1f5891e367  2019-12-18  21.0  2019-12-03\n",
       "26740936  09828ab7-192f-4aab-88d5-eb1f5891e367  2020-01-01  17.0  2019-12-17\n",
       "\n",
       "[4849 rows x 4 columns]"
      ]
     },
     "metadata": {},
     "output_type": "display_data"
    }
   ],
   "source": [
    "target_new"
   ]
  },
  {
   "cell_type": "code",
   "execution_count": null,
   "metadata": {},
   "outputs": [],
   "source": [
    "#Join the tables\n",
    "target_new = target_new.merge(id_obs_start, on=\"id\", how=\"left\").merge(id_obs_end, on=\"id\", how=\"left\")\n",
    "\n",
    "#Filter the target data during the observation period\n",
    "target_select = target_new.loc[\n",
    "    (pd.to_datetime(target_new['test_date']) >= pd.to_datetime(target_new['date_x'])) & \n",
    "    (pd.to_datetime(target_new['obs_start']) <= pd.to_datetime(target_new['date_y']))\n",
    "]\n",
    "#Drop extra columns\n",
    "target_select = target_select.drop([\"date_x\", \"date_y\"], axis = 1)\n"
   ]
  },
  {
   "cell_type": "code",
   "execution_count": null,
   "metadata": {},
   "outputs": [
    {
     "name": "stdout",
     "output_type": "stream",
     "text": [
      "# Drop PHQ records which is <14 days from previous:\n",
      "4283->4074 rows (Change:-209, 95.12% of original)\n"
     ]
    }
   ],
   "source": [
    "target_select = clean_data.drop_days_delta(target_select)"
   ]
  },
  {
   "cell_type": "code",
   "execution_count": null,
   "metadata": {},
   "outputs": [],
   "source": [
    "#Link target data and observation data\n",
    "\"\"\"data_merge = pd.merge(target_select, data_tab, how='outer', on=['id'])\"\"\"\n",
    "#! replaced by\n",
    "data_merge = pd.merge(target_select, expanded, how='outer', on=['id'])"
   ]
  },
  {
   "cell_type": "code",
   "execution_count": null,
   "metadata": {},
   "outputs": [
    {
     "data": {
      "text/html": [
       "<div>\n",
       "<style scoped>\n",
       "    .dataframe tbody tr th:only-of-type {\n",
       "        vertical-align: middle;\n",
       "    }\n",
       "\n",
       "    .dataframe tbody tr th {\n",
       "        vertical-align: top;\n",
       "    }\n",
       "\n",
       "    .dataframe thead th {\n",
       "        text-align: right;\n",
       "    }\n",
       "</style>\n",
       "<table border=\"1\" class=\"dataframe\">\n",
       "  <thead>\n",
       "    <tr style=\"text-align: right;\">\n",
       "      <th></th>\n",
       "      <th>id</th>\n",
       "      <th>test_date</th>\n",
       "      <th>phq</th>\n",
       "      <th>obs_start</th>\n",
       "      <th>date</th>\n",
       "      <th>start_time</th>\n",
       "      <th>AWAKE</th>\n",
       "      <th>DEEP</th>\n",
       "      <th>LIGHT</th>\n",
       "      <th>REM</th>\n",
       "      <th>total</th>\n",
       "    </tr>\n",
       "  </thead>\n",
       "  <tbody>\n",
       "    <tr>\n",
       "      <th>0</th>\n",
       "      <td>bf3defd7-2a52-4557-8202-9d887957e109</td>\n",
       "      <td>2019-01-21</td>\n",
       "      <td>16.0</td>\n",
       "      <td>2019-01-06</td>\n",
       "      <td>2019-01-21</td>\n",
       "      <td>20</td>\n",
       "      <td>0.0</td>\n",
       "      <td>0.0</td>\n",
       "      <td>0.0</td>\n",
       "      <td>0.0</td>\n",
       "      <td>0.0</td>\n",
       "    </tr>\n",
       "    <tr>\n",
       "      <th>1</th>\n",
       "      <td>bf3defd7-2a52-4557-8202-9d887957e109</td>\n",
       "      <td>2019-01-21</td>\n",
       "      <td>16.0</td>\n",
       "      <td>2019-01-06</td>\n",
       "      <td>2019-01-21</td>\n",
       "      <td>21</td>\n",
       "      <td>0.0</td>\n",
       "      <td>0.0</td>\n",
       "      <td>0.0</td>\n",
       "      <td>0.0</td>\n",
       "      <td>0.0</td>\n",
       "    </tr>\n",
       "    <tr>\n",
       "      <th>2</th>\n",
       "      <td>bf3defd7-2a52-4557-8202-9d887957e109</td>\n",
       "      <td>2019-01-21</td>\n",
       "      <td>16.0</td>\n",
       "      <td>2019-01-06</td>\n",
       "      <td>2019-01-21</td>\n",
       "      <td>22</td>\n",
       "      <td>0.1</td>\n",
       "      <td>0.0</td>\n",
       "      <td>0.0</td>\n",
       "      <td>0.0</td>\n",
       "      <td>0.1</td>\n",
       "    </tr>\n",
       "  </tbody>\n",
       "</table>\n",
       "</div>"
      ],
      "text/plain": [
       "                                     id   test_date   phq   obs_start  \\\n",
       "0  bf3defd7-2a52-4557-8202-9d887957e109  2019-01-21  16.0  2019-01-06   \n",
       "1  bf3defd7-2a52-4557-8202-9d887957e109  2019-01-21  16.0  2019-01-06   \n",
       "2  bf3defd7-2a52-4557-8202-9d887957e109  2019-01-21  16.0  2019-01-06   \n",
       "\n",
       "         date  start_time  AWAKE  DEEP  LIGHT  REM  total  \n",
       "0  2019-01-21          20    0.0   0.0    0.0  0.0    0.0  \n",
       "1  2019-01-21          21    0.0   0.0    0.0  0.0    0.0  \n",
       "2  2019-01-21          22    0.1   0.0    0.0  0.0    0.1  "
      ]
     },
     "metadata": {},
     "output_type": "display_data"
    }
   ],
   "source": [
    "data_merge.head(3)"
   ]
  },
  {
   "cell_type": "code",
   "execution_count": 90,
   "metadata": {},
   "outputs": [
    {
     "name": "stdout",
     "output_type": "stream",
     "text": [
      "735945->735945 rows (Change = 0) (nrow after = 100.0% of before)\n"
     ]
    }
   ],
   "source": [
    "\"\"\"\n",
    "data_merge_select = data_merge.loc[(pd.to_datetime(data_merge.obs_start) <= pd.to_datetime(data_merge.date)) & (pd.to_datetime(data_merge.date) <= pd.to_datetime(data_merge.test_date))]\n",
    "\"\"\"\n",
    "\n",
    "#! replaced by (formatting)\n",
    "mask1 = (pd.to_datetime(data_merge.obs_start) <= pd.to_datetime(data_merge.date))\n",
    "mask2 = (pd.to_datetime(data_merge.date) <= pd.to_datetime(data_merge.test_date))\n",
    "data_merge_select = data_merge.loc[mask1 & mask2]\n",
    "report.report_change_in_nrow(data_merge, data_merge_select)"
   ]
  },
  {
   "cell_type": "code",
   "execution_count": null,
   "metadata": {},
   "outputs": [],
   "source": [
    "# Set new ID: old_ID + PHQ time\n",
    "#! updated\n",
    "data_merge_select[\"id_new\"] = data_merge_select.id + \"_\" + data_merge_select.test_date.astype(\"string\")"
   ]
  },
  {
   "cell_type": "code",
   "execution_count": null,
   "metadata": {},
   "outputs": [],
   "source": [
    "# Set new time: date + start_time\n",
    "#! updated\n",
    "data_merge_select[\"time\"] = data_merge_select.date.astype(\"string\") + \" \" + data_merge_select.start_time.astype(\"string\")"
   ]
  },
  {
   "cell_type": "code",
   "execution_count": null,
   "metadata": {},
   "outputs": [],
   "source": [
    "data_merge_select = data_merge_select.drop([\"test_date\", \"obs_start\", \"start_time\"], axis = 1)"
   ]
  },
  {
   "cell_type": "code",
   "execution_count": null,
   "metadata": {},
   "outputs": [],
   "source": [
    "show = data_merge_select.head(1000)"
   ]
  },
  {
   "cell_type": "code",
   "execution_count": null,
   "metadata": {},
   "outputs": [],
   "source": [
    "p1 = clean_data_dir/'data_merge.csv'\n",
    "p2 = clean_data_dir/'data_merge.ftr'\n",
    "data_merge.to_csv(p1,index=0)\n",
    "data_merge.reset_index().to_feather(p2)"
   ]
  },
  {
   "cell_type": "code",
   "execution_count": null,
   "metadata": {},
   "outputs": [
    {
     "name": "stdout",
     "output_type": "stream",
     "text": [
      "(1171860, 8) (735555, 10)\n"
     ]
    }
   ],
   "source": [
    "print(expanded.shape, data_merge.shape)\n"
   ]
  },
  {
   "cell_type": "code",
   "execution_count": null,
   "metadata": {},
   "outputs": [
    {
     "data": {
      "text/plain": [
       "Index(['id', 'phq', 'date', 'AWAKE', 'DEEP', 'LIGHT', 'REM', 'total', 'id_new',\n",
       "       'time'],\n",
       "      dtype='object')"
      ]
     },
     "metadata": {},
     "output_type": "display_data"
    }
   ],
   "source": [
    "data_merge.columns"
   ]
  },
  {
   "cell_type": "code",
   "execution_count": null,
   "metadata": {},
   "outputs": [
    {
     "name": "stdout",
     "output_type": "stream",
     "text": [
      "\n",
      "Shape = (735555, 10),\n",
      "\n",
      "\n"
     ]
    }
   ],
   "source": [
    "print(f\"\"\"\n",
    "Shape = {data_merge.shape},\n",
    "{data_merge[\"id']}\n",
    "\"\"\"\n",
    ")\n"
   ]
  },
  {
   "cell_type": "code",
   "execution_count": null,
   "metadata": {},
   "outputs": [],
   "source": [
    "data_merge = data_merge.drop([\"test_date\", \"obs_start\", \"start_time\"], axis = 1)"
   ]
  },
  {
   "cell_type": "code",
   "execution_count": 56,
   "metadata": {},
   "outputs": [],
   "source": [
    "show = data_merge.head(1000)"
   ]
  },
  {
   "cell_type": "code",
   "execution_count": 61,
   "metadata": {},
   "outputs": [],
   "source": [
    "p1 = OUTPUT_DIR /'data_merge.csv'\n",
    "p2 = OUTPUT_DIR /'data_merge.ftr'\n",
    "data_merge.to_csv(p1,index=0)\n",
    "data_merge.reset_index().to_feather(p2)"
   ]
  },
  {
   "cell_type": "code",
   "execution_count": 62,
   "metadata": {},
   "outputs": [
    {
     "name": "stdout",
     "output_type": "stream",
     "text": [
      "(1211205, 8) (774720, 10)\n"
     ]
    }
   ],
   "source": [
    "print(expanded.shape, data_merge.shape)\n",
    "# Old:    (1171860, 8) (735555, 10)\n",
    "# Mar 22: (1211205, 8) (774720, 10)"
   ]
  },
  {
   "cell_type": "markdown",
   "metadata": {},
   "source": [
    "# Merge using routine"
   ]
  },
  {
   "cell_type": "code",
   "execution_count": 94,
   "metadata": {},
   "outputs": [
    {
     "name": "stdout",
     "output_type": "stream",
     "text": [
      "# Drop PHQ test results which are within 14 days from previous result\n",
      "4285->4076 rows (Change = -209) (nrow after = 95.12% of before)\n",
      "15886680->735945 rows (Change = -15150735) (nrow after = 4.63% of before)\n"
     ]
    }
   ],
   "source": [
    "data_merge2 = clean_data.merge_slp_phq(expanded, phqs_raw)"
   ]
  },
  {
   "cell_type": "code",
   "execution_count": 108,
   "metadata": {},
   "outputs": [],
   "source": [
    "p2 = OUTPUT_DIR / 'data_merge2.ftr'\n",
    "data_merge2.reset_index().to_feather(p2)"
   ]
  }
 ],
 "metadata": {
  "interpreter": {
   "hash": "08e2e84546486c2044445a736a214ed62f1a22506b89afaacfc141956dd76d05"
  },
  "kernelspec": {
   "display_name": "Python 3.8.8 ('base')",
   "language": "python",
   "name": "python3"
  },
  "language_info": {
   "codemirror_mode": {
    "name": "ipython",
    "version": 3
   },
   "file_extension": ".py",
   "mimetype": "text/x-python",
   "name": "python",
   "nbconvert_exporter": "python",
   "pygments_lexer": "ipython3",
   "version": "3.8.12"
  },
  "orig_nbformat": 4
 },
 "nbformat": 4,
 "nbformat_minor": 2
}
