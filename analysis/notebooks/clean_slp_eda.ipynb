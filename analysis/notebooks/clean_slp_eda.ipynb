{
 "cells": [
  {
   "cell_type": "markdown",
   "metadata": {},
   "source": [
    "# AIM\n",
    "- It is a known issue that sleep stage intervals outputted by FitBit contains overlap. Some may be the same label (duplication) but some are now\n",
    "- This notebook investigate this problem in the data quality\n",
    "\n",
    "# RESULTS\n",
    "- Only a small proportion of sleep stage data contains overlap\n",
    "- A routine to remove the overlap was engineered"
   ]
  },
  {
   "cell_type": "code",
   "execution_count": 13,
   "metadata": {},
   "outputs": [],
   "source": [
    "##### MODULES\n",
    "import os\n",
    "import numpy as np\n",
    "import pandas as pd\n",
    "from pathlib import Path\n",
    "from matplotlib import pyplot as plt\n",
    "import matplotlib.dates\n",
    "import matplotlib.patches\n",
    "import datetime as dt\n",
    "\n",
    "# custom modules\n",
    "import sys  \n",
    "sys.path.append('../../scripts')\n",
    "\n",
    "from import_data import *\n",
    "from clean_data import *\n",
    "from mappings import *\n",
    "from plotting import *\n",
    "\n",
    "##### OPTIONS\n",
    "pd.options.mode.chained_assignment = None\n",
    "\n",
    "# autoreload external modules after saving changes to disk\n",
    "%reload_ext autoreload\n",
    "%autoreload 2\n",
    "\n",
    "proj_dir = Path('.') / '..' / '..'\n",
    "source_data_dir = proj_dir/'data'/'source'\n",
    "clean_data_dir =  proj_dir/'data'/'clean'\n",
    "viz_dir = proj_dir/'viz'"
   ]
  },
  {
   "cell_type": "code",
   "execution_count": 14,
   "metadata": {},
   "outputs": [],
   "source": [
    "import feather"
   ]
  },
  {
   "cell_type": "markdown",
   "metadata": {},
   "source": [
    "# Import/Clean or Load from Disk"
   ]
  },
  {
   "cell_type": "markdown",
   "metadata": {},
   "source": [
    "### Cleaning"
   ]
  },
  {
   "cell_type": "code",
   "execution_count": 15,
   "metadata": {},
   "outputs": [
    {
     "ename": "ArrowNotImplementedError",
     "evalue": "Support for codec 'lz4' not built",
     "output_type": "error",
     "traceback": [
      "\u001b[1;31m---------------------------------------------------------------------------\u001b[0m",
      "\u001b[1;31mArrowNotImplementedError\u001b[0m                  Traceback (most recent call last)",
      "\u001b[1;32m<ipython-input-15-40a33cf38450>\u001b[0m in \u001b[0;36m<module>\u001b[1;34m\u001b[0m\n\u001b[0;32m      2\u001b[0m \u001b[1;33m\u001b[0m\u001b[0m\n\u001b[0;32m      3\u001b[0m \u001b[1;32mif\u001b[0m \u001b[0mLOAD_FROM_DISK\u001b[0m\u001b[1;33m:\u001b[0m\u001b[1;33m\u001b[0m\u001b[1;33m\u001b[0m\u001b[0m\n\u001b[1;32m----> 4\u001b[1;33m     \u001b[0mtimeseries\u001b[0m \u001b[1;33m=\u001b[0m \u001b[0mpd\u001b[0m\u001b[1;33m.\u001b[0m\u001b[0mread_feather\u001b[0m\u001b[1;33m(\u001b[0m\u001b[0mclean_data_dir\u001b[0m\u001b[1;33m/\u001b[0m\u001b[1;34m'slps_timeseries.ftr'\u001b[0m\u001b[1;33m)\u001b[0m\u001b[1;33m\u001b[0m\u001b[1;33m\u001b[0m\u001b[0m\n\u001b[0m\u001b[0;32m      5\u001b[0m     \u001b[0mintervals\u001b[0m \u001b[1;33m=\u001b[0m \u001b[0mpd\u001b[0m\u001b[1;33m.\u001b[0m\u001b[0mread_feather\u001b[0m\u001b[1;33m(\u001b[0m\u001b[0mclean_data_dir\u001b[0m\u001b[1;33m/\u001b[0m\u001b[1;34m'slps_interval_clean.ftr'\u001b[0m\u001b[1;33m)\u001b[0m\u001b[1;33m\u001b[0m\u001b[1;33m\u001b[0m\u001b[0m\n\u001b[0;32m      6\u001b[0m     \u001b[0m_\u001b[0m\u001b[1;33m,\u001b[0m \u001b[0m_\u001b[0m\u001b[1;33m,\u001b[0m \u001b[0mmetadata\u001b[0m \u001b[1;33m=\u001b[0m \u001b[0mimport_data\u001b[0m\u001b[1;33m(\u001b[0m\u001b[0msource_data_dir\u001b[0m\u001b[1;33m)\u001b[0m\u001b[1;33m\u001b[0m\u001b[1;33m\u001b[0m\u001b[0m\n",
      "\u001b[1;32m~\\anaconda3\\lib\\site-packages\\pandas\\io\\feather_format.py\u001b[0m in \u001b[0;36mread_feather\u001b[1;34m(path, columns, use_threads, storage_options)\u001b[0m\n\u001b[0;32m    125\u001b[0m     ) as handles:\n\u001b[0;32m    126\u001b[0m \u001b[1;33m\u001b[0m\u001b[0m\n\u001b[1;32m--> 127\u001b[1;33m         return feather.read_feather(\n\u001b[0m\u001b[0;32m    128\u001b[0m             \u001b[0mhandles\u001b[0m\u001b[1;33m.\u001b[0m\u001b[0mhandle\u001b[0m\u001b[1;33m,\u001b[0m \u001b[0mcolumns\u001b[0m\u001b[1;33m=\u001b[0m\u001b[0mcolumns\u001b[0m\u001b[1;33m,\u001b[0m \u001b[0muse_threads\u001b[0m\u001b[1;33m=\u001b[0m\u001b[0mbool\u001b[0m\u001b[1;33m(\u001b[0m\u001b[0muse_threads\u001b[0m\u001b[1;33m)\u001b[0m\u001b[1;33m\u001b[0m\u001b[1;33m\u001b[0m\u001b[0m\n\u001b[0;32m    129\u001b[0m         )\n",
      "\u001b[1;32m~\\anaconda3\\lib\\site-packages\\pyarrow\\feather.py\u001b[0m in \u001b[0;36mread_feather\u001b[1;34m(source, columns, use_threads, memory_map)\u001b[0m\n\u001b[0;32m    213\u001b[0m     \"\"\"\n\u001b[0;32m    214\u001b[0m     \u001b[0m_check_pandas_version\u001b[0m\u001b[1;33m(\u001b[0m\u001b[1;33m)\u001b[0m\u001b[1;33m\u001b[0m\u001b[1;33m\u001b[0m\u001b[0m\n\u001b[1;32m--> 215\u001b[1;33m     return (read_table(source, columns=columns, memory_map=memory_map)\n\u001b[0m\u001b[0;32m    216\u001b[0m             .to_pandas(use_threads=use_threads))\n\u001b[0;32m    217\u001b[0m \u001b[1;33m\u001b[0m\u001b[0m\n",
      "\u001b[1;32m~\\anaconda3\\lib\\site-packages\\pyarrow\\feather.py\u001b[0m in \u001b[0;36mread_table\u001b[1;34m(source, columns, memory_map)\u001b[0m\n\u001b[0;32m    238\u001b[0m \u001b[1;33m\u001b[0m\u001b[0m\n\u001b[0;32m    239\u001b[0m     \u001b[1;32mif\u001b[0m \u001b[0mcolumns\u001b[0m \u001b[1;32mis\u001b[0m \u001b[1;32mNone\u001b[0m\u001b[1;33m:\u001b[0m\u001b[1;33m\u001b[0m\u001b[1;33m\u001b[0m\u001b[0m\n\u001b[1;32m--> 240\u001b[1;33m         \u001b[1;32mreturn\u001b[0m \u001b[0mreader\u001b[0m\u001b[1;33m.\u001b[0m\u001b[0mread\u001b[0m\u001b[1;33m(\u001b[0m\u001b[1;33m)\u001b[0m\u001b[1;33m\u001b[0m\u001b[1;33m\u001b[0m\u001b[0m\n\u001b[0m\u001b[0;32m    241\u001b[0m \u001b[1;33m\u001b[0m\u001b[0m\n\u001b[0;32m    242\u001b[0m     \u001b[0mcolumn_types\u001b[0m \u001b[1;33m=\u001b[0m \u001b[1;33m[\u001b[0m\u001b[0mtype\u001b[0m\u001b[1;33m(\u001b[0m\u001b[0mcolumn\u001b[0m\u001b[1;33m)\u001b[0m \u001b[1;32mfor\u001b[0m \u001b[0mcolumn\u001b[0m \u001b[1;32min\u001b[0m \u001b[0mcolumns\u001b[0m\u001b[1;33m]\u001b[0m\u001b[1;33m\u001b[0m\u001b[1;33m\u001b[0m\u001b[0m\n",
      "\u001b[1;32m~\\anaconda3\\lib\\site-packages\\pyarrow\\feather.pxi\u001b[0m in \u001b[0;36mpyarrow.lib.FeatherReader.read\u001b[1;34m()\u001b[0m\n",
      "\u001b[1;32m~\\anaconda3\\lib\\site-packages\\pyarrow\\error.pxi\u001b[0m in \u001b[0;36mpyarrow.lib.check_status\u001b[1;34m()\u001b[0m\n",
      "\u001b[1;31mArrowNotImplementedError\u001b[0m: Support for codec 'lz4' not built"
     ]
    }
   ],
   "source": [
    "LOAD_FROM_DISK = True\n",
    "\n",
    "if LOAD_FROM_DISK:\n",
    "    timeseries = pd.read_feather(clean_data_dir/'slps_timeseries.ftr')\n",
    "    intervals = pd.read_feather(clean_data_dir/'slps_interval_clean.ftr')\n",
    "    _, _, metadata = import_data(source_data_dir)\n",
    "    \n",
    "else:\n",
    "    phqs_raw, slps_raw, metadata = import_data(source_data_dir)\n",
    "    intervals = clean_slps(slps_raw)\n",
    "    timeseries = explode2ts(intervals, ID='intervalID', start='start', end='end')\n",
    "\n",
    "    outpath = proj_dir / 'data' / 'clean' / 'slps_interval_clean.ftr'\n",
    "    feather.write_feather(intervals, outpath)\n",
    "    \n",
    "    outpath = proj_dir / 'data' / 'clean' / 'slps_timeseries.ftr'\n",
    "    feather.write_feather(timeseries, outpath)"
   ]
  },
  {
   "cell_type": "markdown",
   "metadata": {},
   "source": [
    "Depth analysis"
   ]
  },
  {
   "cell_type": "code",
   "execution_count": 7,
   "metadata": {},
   "outputs": [],
   "source": [
    "### count depth/overlapping timestamps\n",
    "tsmerge = pd.merge(\n",
    "    timeseries, \n",
    "    intervals[['pid', 'intervalID']], \n",
    "    on='intervalID'\n",
    ")\n",
    "tsmerge['depth'] = tsmerge.groupby(['pid', 't']).cumcount()+1\n"
   ]
  },
  {
   "cell_type": "code",
   "execution_count": 126,
   "metadata": {},
   "outputs": [
    {
     "data": {
      "text/html": [
       "<div>\n",
       "<style scoped>\n",
       "    .dataframe tbody tr th:only-of-type {\n",
       "        vertical-align: middle;\n",
       "    }\n",
       "\n",
       "    .dataframe tbody tr th {\n",
       "        vertical-align: top;\n",
       "    }\n",
       "\n",
       "    .dataframe thead th {\n",
       "        text-align: right;\n",
       "    }\n",
       "</style>\n",
       "<table border=\"1\" class=\"dataframe\">\n",
       "  <thead>\n",
       "    <tr style=\"text-align: right;\">\n",
       "      <th></th>\n",
       "      <th>x</th>\n",
       "    </tr>\n",
       "    <tr>\n",
       "      <th>pid</th>\n",
       "      <th></th>\n",
       "    </tr>\n",
       "  </thead>\n",
       "  <tbody>\n",
       "    <tr>\n",
       "      <th>007751c5-d7ad-4bec-a58f-abf32500e2ae</th>\n",
       "      <td>1.000000</td>\n",
       "    </tr>\n",
       "    <tr>\n",
       "      <th>0104dfff-4dcd-48ff-b912-51362f098ed0</th>\n",
       "      <td>1.000000</td>\n",
       "    </tr>\n",
       "    <tr>\n",
       "      <th>01318193-bb33-4c1b-b1bf-d316a014b5ad</th>\n",
       "      <td>1.000000</td>\n",
       "    </tr>\n",
       "    <tr>\n",
       "      <th>0157930f-10f7-4d5f-9575-a65efbd1d505</th>\n",
       "      <td>1.000000</td>\n",
       "    </tr>\n",
       "    <tr>\n",
       "      <th>02919d70-343c-4efa-97c0-c34bf85546f0</th>\n",
       "      <td>1.000825</td>\n",
       "    </tr>\n",
       "    <tr>\n",
       "      <th>...</th>\n",
       "      <td>...</td>\n",
       "    </tr>\n",
       "    <tr>\n",
       "      <th>fa570b90-38af-4fbd-8dac-42649b93f1c9</th>\n",
       "      <td>1.000000</td>\n",
       "    </tr>\n",
       "    <tr>\n",
       "      <th>fb62039c-0b79-4be0-a7b9-ebf5d926eff2</th>\n",
       "      <td>1.000000</td>\n",
       "    </tr>\n",
       "    <tr>\n",
       "      <th>fbcf7045-e013-4d0d-9f0e-139df2c3b332</th>\n",
       "      <td>1.000000</td>\n",
       "    </tr>\n",
       "    <tr>\n",
       "      <th>fe133386-510c-4977-9546-00aa38f5156b</th>\n",
       "      <td>1.000000</td>\n",
       "    </tr>\n",
       "    <tr>\n",
       "      <th>ffd0fbde-c320-42d6-80a1-a7656da661dd</th>\n",
       "      <td>1.000000</td>\n",
       "    </tr>\n",
       "  </tbody>\n",
       "</table>\n",
       "<p>461 rows × 1 columns</p>\n",
       "</div>"
      ],
      "text/plain": [
       "                                             x\n",
       "pid                                           \n",
       "007751c5-d7ad-4bec-a58f-abf32500e2ae  1.000000\n",
       "0104dfff-4dcd-48ff-b912-51362f098ed0  1.000000\n",
       "01318193-bb33-4c1b-b1bf-d316a014b5ad  1.000000\n",
       "0157930f-10f7-4d5f-9575-a65efbd1d505  1.000000\n",
       "02919d70-343c-4efa-97c0-c34bf85546f0  1.000825\n",
       "...                                        ...\n",
       "fa570b90-38af-4fbd-8dac-42649b93f1c9  1.000000\n",
       "fb62039c-0b79-4be0-a7b9-ebf5d926eff2  1.000000\n",
       "fbcf7045-e013-4d0d-9f0e-139df2c3b332  1.000000\n",
       "fe133386-510c-4977-9546-00aa38f5156b  1.000000\n",
       "ffd0fbde-c320-42d6-80a1-a7656da661dd  1.000000\n",
       "\n",
       "[461 rows x 1 columns]"
      ]
     },
     "execution_count": 126,
     "metadata": {},
     "output_type": "execute_result"
    }
   ],
   "source": [
    "def get_dup_percent(df):\n",
    "    ### not perfect, wrong formula but a general idea\n",
    "    return ( (df['depth']>1).sum() / len(df) )*100\n",
    "\n",
    "pids = list(set(intervals['pid']))\n",
    "\n",
    "tsmerge.groupby('pid').agg(x=('depth', np.mean))\n"
   ]
  },
  {
   "cell_type": "code",
   "execution_count": 134,
   "metadata": {},
   "outputs": [
    {
     "name": "stdout",
     "output_type": "stream",
     "text": [
      "122 out of 461 subjects have duplication\n"
     ]
    }
   ],
   "source": [
    "pid_with_dup = set(tsmerge.loc[tsmerge['depth']>1, 'pid'])\n",
    "pids = set(intervals['pid'])\n",
    "\n",
    "n_pid_with_dup = len(pid_with_dup)\n",
    "n_pid = len(pids)\n",
    "print(n_pid_with_dup, 'out of', n_pid, 'subjects have duplication')"
   ]
  },
  {
   "cell_type": "code",
   "execution_count": 138,
   "metadata": {},
   "outputs": [],
   "source": [
    "pid_without_dup = pids.difference(pid_with_dup)\n",
    "with open(clean_data_dir/'pid_without_dup.txt','w') as f:\n",
    "   f.write(str(pid_without_dup)) "
   ]
  },
  {
   "cell_type": "markdown",
   "metadata": {},
   "source": [
    "### Cleaning routine"
   ]
  },
  {
   "cell_type": "markdown",
   "metadata": {},
   "source": [
    "- Step 1: try with one patient"
   ]
  },
  {
   "cell_type": "code",
   "execution_count": 1,
   "metadata": {},
   "outputs": [
    {
     "ename": "NameError",
     "evalue": "name 'dt' is not defined",
     "output_type": "error",
     "traceback": [
      "\u001b[1;31m---------------------------------------------------------------------------\u001b[0m",
      "\u001b[1;31mNameError\u001b[0m                                 Traceback (most recent call last)",
      "Input \u001b[1;32mIn [1]\u001b[0m, in \u001b[0;36m<module>\u001b[1;34m\u001b[0m\n\u001b[1;32m----> 1\u001b[0m date_select \u001b[38;5;241m=\u001b[39m \u001b[43mdt\u001b[49m\u001b[38;5;241m.\u001b[39mdate(\u001b[38;5;241m2018\u001b[39m, \u001b[38;5;241m11\u001b[39m, \u001b[38;5;241m12\u001b[39m)\n\u001b[0;32m      2\u001b[0m pid_select  \u001b[38;5;241m=\u001b[39m \u001b[38;5;124m\"\u001b[39m\u001b[38;5;124m3c6671b8-45ae-4552-b92b-934ec6bbb89f\u001b[39m\u001b[38;5;124m\"\u001b[39m\n\u001b[0;32m      3\u001b[0m df \u001b[38;5;241m=\u001b[39m intervals\u001b[38;5;241m.\u001b[39mquery(\u001b[38;5;124m\"\u001b[39m\u001b[38;5;124mstart_date == @date_select & pid == @pid_select\u001b[39m\u001b[38;5;124m\"\u001b[39m)\n",
      "\u001b[1;31mNameError\u001b[0m: name 'dt' is not defined"
     ]
    }
   ],
   "source": [
    "date_select = dt.date(2018, 11, 12)\n",
    "pid_select  = \"3c6671b8-45ae-4552-b92b-934ec6bbb89f\"\n",
    "df = intervals.query(\"start_date == @date_select & pid == @pid_select\")"
   ]
  },
  {
   "cell_type": "code",
   "execution_count": 140,
   "metadata": {},
   "outputs": [
    {
     "data": {
      "image/png": "[encoded data removed]",
      "text/plain": [
       "<Figure size 1152x720 with 1 Axes>"
      ]
     },
     "metadata": {},
     "output_type": "display_data"
    }
   ],
   "source": [
    "fig = plot_gannt(df, metadata);\n",
    "fig.savefig(proj_dir/'viz'/'gannt_dup.png')"
   ]
  },
  {
   "cell_type": "code",
   "execution_count": 65,
   "metadata": {},
   "outputs": [],
   "source": [
    "ts = explode2ts(df)\n",
    "ts_merged = ts.merge(intervals, on='intervalID')"
   ]
  },
  {
   "cell_type": "code",
   "execution_count": 66,
   "metadata": {},
   "outputs": [
    {
     "data": {
      "text/plain": [
       "1    1335\n",
       "2     603\n",
       "dtype: int64"
      ]
     },
     "execution_count": 66,
     "metadata": {},
     "output_type": "execute_result"
    }
   ],
   "source": [
    "depth = ts_merged.groupby(['pid','t']).cumcount()+1\n",
    "depth.value_counts()"
   ]
  },
  {
   "cell_type": "code",
   "execution_count": 68,
   "metadata": {},
   "outputs": [],
   "source": [
    "times_with_repeated_obs = set(ts_merged.loc[depth>1, 't'])"
   ]
  },
  {
   "cell_type": "code",
   "execution_count": 71,
   "metadata": {},
   "outputs": [
    {
     "data": {
      "text/plain": [
       "1    1335\n",
       "dtype: int64"
      ]
     },
     "execution_count": 71,
     "metadata": {},
     "output_type": "execute_result"
    }
   ],
   "source": [
    "ts_full = dedup_ts(ts_merged, times_with_repeated_obs)\n",
    "ts_full = ts_full.sort_values('t')\n",
    "ts_full = ts_full[['t','stages','pid']]\n",
    "\n",
    "# timestamps by depth after dedup\n",
    "( ts_full.groupby(['pid', 't']).cumcount()+1 ).value_counts()"
   ]
  },
  {
   "cell_type": "code",
   "execution_count": 79,
   "metadata": {},
   "outputs": [
    {
     "data": {
      "image/png": "[encoded data removed]",
      "text/plain": [
       "<Figure size 1152x720 with 1 Axes>"
      ]
     },
     "metadata": {},
     "output_type": "display_data"
    }
   ],
   "source": [
    "out = ts2interval(ts_full)\n",
    "out['pid'] = pid_select\n",
    "out['end'] = out['end']  + dt.timedelta(seconds=30)\n",
    "out['start_date'] = date_select\n",
    "fig = plot_gannt(out, metadata);\n",
    "fig.savefig(viz_dir/'gannt_dedup.png')"
   ]
  },
  {
   "cell_type": "markdown",
   "metadata": {},
   "source": [
    "# To-do's\n",
    "\n",
    "1. Overlap issue (urgent)\n",
    "3. Start time histogram\n",
    "--- when does stages output start? At what times with any distribution?\n",
    "4. Data quality across dates & subjects & centres etc? --- 1. duplication\n",
    "\n",
    "Programming\n",
    "1. understand warning:\n",
    "\"A value is trying to be set on a copy of a slice from a DataFrame\"\n",
    "\n",
    "Analysis design\n",
    "1. Between-day, within-day, across-day patterns --> would ICC be a useful measure for EDA?\n",
    "2. "
   ]
  },
  {
   "cell_type": "markdown",
   "metadata": {},
   "source": [
    "### PIDs in sleep, PHQ, and metadata"
   ]
  },
  {
   "cell_type": "code",
   "execution_count": null,
   "metadata": {},
   "outputs": [],
   "source": [
    "out = pd.merge(slps, metadata[['ID','subject_id']], left_on='pid', right_on='subject_id', how='left')\n",
    "no_metadata = out[out['ID'].isna()]\n",
    "no_metadata.value_counts('pid')\n",
    "# out = out.drop(['pid', 'subject_id'], axis=1)\n",
    "# out = out['ID'].astype(int)"
   ]
  },
  {
   "cell_type": "code",
   "execution_count": 1,
   "metadata": {},
   "outputs": [
    {
     "ename": "NameError",
     "evalue": "name 'phqs' is not defined",
     "output_type": "error",
     "traceback": [
      "\u001b[1;31m---------------------------------------------------------------------------\u001b[0m",
      "\u001b[1;31mNameError\u001b[0m                                 Traceback (most recent call last)",
      "\u001b[1;32m<ipython-input-1-c42bcab37ff9>\u001b[0m in \u001b[0;36m<module>\u001b[1;34m\u001b[0m\n\u001b[1;32m----> 1\u001b[1;33m \u001b[0mphqs_pid\u001b[0m \u001b[1;33m=\u001b[0m \u001b[0mset\u001b[0m\u001b[1;33m(\u001b[0m\u001b[0mphqs\u001b[0m\u001b[1;33m[\u001b[0m\u001b[1;34m'pid'\u001b[0m\u001b[1;33m]\u001b[0m\u001b[1;33m)\u001b[0m\u001b[1;33m\u001b[0m\u001b[1;33m\u001b[0m\u001b[0m\n\u001b[0m\u001b[0;32m      2\u001b[0m \u001b[0mslps_pid\u001b[0m \u001b[1;33m=\u001b[0m \u001b[0mset\u001b[0m\u001b[1;33m(\u001b[0m\u001b[0mslps\u001b[0m\u001b[1;33m[\u001b[0m\u001b[1;34m'pid'\u001b[0m\u001b[1;33m]\u001b[0m\u001b[1;33m)\u001b[0m\u001b[1;33m\u001b[0m\u001b[1;33m\u001b[0m\u001b[0m\n\u001b[0;32m      3\u001b[0m \u001b[0mmeta_pid\u001b[0m \u001b[1;33m=\u001b[0m \u001b[0mset\u001b[0m\u001b[1;33m(\u001b[0m\u001b[0mmetadata\u001b[0m\u001b[1;33m[\u001b[0m\u001b[1;34m'subject_id'\u001b[0m\u001b[1;33m]\u001b[0m\u001b[1;33m)\u001b[0m\u001b[1;33m\u001b[0m\u001b[1;33m\u001b[0m\u001b[0m\n\u001b[0;32m      4\u001b[0m \u001b[1;33m\u001b[0m\u001b[0m\n\u001b[0;32m      5\u001b[0m \u001b[1;32mimport\u001b[0m \u001b[0mmatplotlib_venn\u001b[0m \u001b[1;32mas\u001b[0m \u001b[0mvenn\u001b[0m\u001b[1;33m\u001b[0m\u001b[1;33m\u001b[0m\u001b[0m\n",
      "\u001b[1;31mNameError\u001b[0m: name 'phqs' is not defined"
     ]
    }
   ],
   "source": [
    "phqs_pid = set(phqs['pid'])\n",
    "slps_pid = set(slps['pid'])\n",
    "meta_pid = set(metadata['subject_id'])\n",
    "\n",
    "import matplotlib_venn as venn\n",
    "venn.venn2([slps_pid,meta_pid],set_labels=('slps','meta'))"
   ]
  }
 ],
 "metadata": {
  "interpreter": {
   "hash": "08e2e84546486c2044445a736a214ed62f1a22506b89afaacfc141956dd76d05"
  },
  "kernelspec": {
   "display_name": "Python 3.8.8 64-bit ('base': conda)",
   "language": "python",
   "name": "python3"
  },
  "language_info": {
   "codemirror_mode": {
    "name": "ipython",
    "version": 3
   },
   "file_extension": ".py",
   "mimetype": "text/x-python",
   "name": "python",
   "nbconvert_exporter": "python",
   "pygments_lexer": "ipython3",
   "version": "3.8.8"
  },
  "orig_nbformat": 4
 },
 "nbformat": 4,
 "nbformat_minor": 2
}
