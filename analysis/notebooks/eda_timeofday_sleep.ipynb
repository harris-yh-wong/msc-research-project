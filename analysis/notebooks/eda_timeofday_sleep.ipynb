{
 "cells": [
  {
   "cell_type": "markdown",
   "metadata": {},
   "source": [
    "# AIM\n",
    "- Explore at what time of the day were sleep stages outputted?"
   ]
  },
  {
   "cell_type": "code",
   "execution_count": 2,
   "metadata": {},
   "outputs": [],
   "source": [
    "import os\n",
    "import numpy as np\n",
    "import pandas as pd\n",
    "from pathlib import Path\n",
    "\n",
    "import matplotlib.dates\n",
    "import matplotlib.patches\n",
    "import datetime as dt\n",
    "import feather \n",
    "import random \n",
    "import ast\n",
    "\n",
    "# custom modules\n",
    "from import_data import *\n",
    "from clean_data import *\n",
    "from mappings import *\n",
    "from plotting import *\n",
    "\n",
    "%matplotlib inline\n",
    "# import matplotlib.pylab as plt\n",
    "from matplotlib import pyplot as plt\n",
    "\n",
    "# from tsfresh import extract_features, extract_relevant_features, select_features\n",
    "# from tsfresh.utilities.dataframe_functions import impute\n",
    "# from tsfresh.feature_extraction import ComprehensiveFCParameters\n",
    "\n",
    "from sklearn.tree import DecisionTreeClassifier\n",
    "from sklearn.model_selection import train_test_split\n",
    "from sklearn.metrics import classification_report"
   ]
  },
  {
   "cell_type": "code",
   "execution_count": 3,
   "metadata": {},
   "outputs": [],
   "source": [
    "pd.options.mode.chained_assignment = None\n",
    "\n",
    "### autoreload external modules after saving changes to disk\n",
    "%reload_ext autoreload\n",
    "%autoreload 2"
   ]
  },
  {
   "cell_type": "markdown",
   "metadata": {},
   "source": [
    "# Import data"
   ]
  },
  {
   "cell_type": "code",
   "execution_count": 4,
   "metadata": {},
   "outputs": [],
   "source": [
    "proj_dir = Path('.') / '..' / '..'\n",
    "source_data_dir = proj_dir/'data'/'source'\n",
    "clean_data_dir =  proj_dir/'data'/'clean'\n",
    "viz_dir = proj_dir/'viz'\n",
    "_, _, metadata = import_data(source_data_dir)"
   ]
  },
  {
   "cell_type": "markdown",
   "metadata": {},
   "source": [
    "- Load from disk"
   ]
  },
  {
   "cell_type": "code",
   "execution_count": 5,
   "metadata": {},
   "outputs": [],
   "source": [
    "timeseries = pd.read_feather(clean_data_dir/'slps_timeseries.ftr')\n",
    "intervals = pd.read_feather(clean_data_dir/'slps_interval_clean.ftr')"
   ]
  },
  {
   "cell_type": "markdown",
   "metadata": {},
   "source": [
    "- Check dates"
   ]
  },
  {
   "cell_type": "code",
   "execution_count": 93,
   "metadata": {},
   "outputs": [
    {
     "data": {
      "text/html": [
       "<div>\n",
       "<style scoped>\n",
       "    .dataframe tbody tr th:only-of-type {\n",
       "        vertical-align: middle;\n",
       "    }\n",
       "\n",
       "    .dataframe tbody tr th {\n",
       "        vertical-align: top;\n",
       "    }\n",
       "\n",
       "    .dataframe thead th {\n",
       "        text-align: right;\n",
       "    }\n",
       "</style>\n",
       "<table border=\"1\" class=\"dataframe\">\n",
       "  <thead>\n",
       "    <tr style=\"text-align: right;\">\n",
       "      <th></th>\n",
       "      <th></th>\n",
       "      <th>duration</th>\n",
       "    </tr>\n",
       "    <tr>\n",
       "      <th>pid</th>\n",
       "      <th>start_date</th>\n",
       "      <th></th>\n",
       "    </tr>\n",
       "  </thead>\n",
       "  <tbody>\n",
       "    <tr>\n",
       "      <th>007751c5-d7ad-4bec-a58f-abf32500e2ae</th>\n",
       "      <th>2019-11-04</th>\n",
       "      <td>15.383333</td>\n",
       "    </tr>\n",
       "    <tr>\n",
       "      <th>0157930f-10f7-4d5f-9575-a65efbd1d505</th>\n",
       "      <th>2019-12-02</th>\n",
       "      <td>16.108333</td>\n",
       "    </tr>\n",
       "    <tr>\n",
       "      <th>03d596f1-cf28-4204-a4c0-f2c08a3fe00b</th>\n",
       "      <th>2019-12-20</th>\n",
       "      <td>15.508333</td>\n",
       "    </tr>\n",
       "    <tr>\n",
       "      <th rowspan=\"2\" valign=\"top\">04f2abf1-8fc5-49b6-8786-3def833f083d</th>\n",
       "      <th>2020-01-13</th>\n",
       "      <td>15.391667</td>\n",
       "    </tr>\n",
       "    <tr>\n",
       "      <th>2020-01-17</th>\n",
       "      <td>15.100000</td>\n",
       "    </tr>\n",
       "    <tr>\n",
       "      <th>...</th>\n",
       "      <th>...</th>\n",
       "      <td>...</td>\n",
       "    </tr>\n",
       "    <tr>\n",
       "      <th rowspan=\"3\" valign=\"top\">ee7bf346-039d-4efb-aa72-de3dbebcf823</th>\n",
       "      <th>2019-11-21</th>\n",
       "      <td>15.233333</td>\n",
       "    </tr>\n",
       "    <tr>\n",
       "      <th>2019-12-02</th>\n",
       "      <td>18.808333</td>\n",
       "    </tr>\n",
       "    <tr>\n",
       "      <th>2020-01-20</th>\n",
       "      <td>17.650000</td>\n",
       "    </tr>\n",
       "    <tr>\n",
       "      <th>ef3c8d02-f441-4aa5-ace1-69c2e863ebec</th>\n",
       "      <th>2019-03-17</th>\n",
       "      <td>17.308333</td>\n",
       "    </tr>\n",
       "    <tr>\n",
       "      <th>f4589eca-0e47-4bde-879e-f6b04c769c2b</th>\n",
       "      <th>2019-02-16</th>\n",
       "      <td>15.808333</td>\n",
       "    </tr>\n",
       "  </tbody>\n",
       "</table>\n",
       "<p>248 rows × 1 columns</p>\n",
       "</div>"
      ],
      "text/plain": [
       "                                                  duration\n",
       "pid                                  start_date           \n",
       "007751c5-d7ad-4bec-a58f-abf32500e2ae 2019-11-04  15.383333\n",
       "0157930f-10f7-4d5f-9575-a65efbd1d505 2019-12-02  16.108333\n",
       "03d596f1-cf28-4204-a4c0-f2c08a3fe00b 2019-12-20  15.508333\n",
       "04f2abf1-8fc5-49b6-8786-3def833f083d 2020-01-13  15.391667\n",
       "                                     2020-01-17  15.100000\n",
       "...                                                    ...\n",
       "ee7bf346-039d-4efb-aa72-de3dbebcf823 2019-11-21  15.233333\n",
       "                                     2019-12-02  18.808333\n",
       "                                     2020-01-20  17.650000\n",
       "ef3c8d02-f441-4aa5-ace1-69c2e863ebec 2019-03-17  17.308333\n",
       "f4589eca-0e47-4bde-879e-f6b04c769c2b 2019-02-16  15.808333\n",
       "\n",
       "[248 rows x 1 columns]"
      ]
     },
     "execution_count": 93,
     "metadata": {},
     "output_type": "execute_result"
    },
    {
     "data": {
      "image/png": "[encoded data removed]",
      "text/plain": [
       "<Figure size 432x288 with 1 Axes>"
      ]
     },
     "metadata": {
      "needs_background": "light"
     },
     "output_type": "display_data"
    }
   ],
   "source": [
    "intv_duration = (intervals\n",
    "    # .loc[intervals['pid'].isin(pids_select)]\n",
    "    .loc[~(intervals['stages']=='AWAKE')]\n",
    "    .groupby(['pid','start_date'])\n",
    "    .agg(duration=('duration', np.sum))\n",
    ")\n",
    "intv_duration['duration'] = intv_duration['duration'] / 3600\n",
    "\n",
    "intv_duration['duration'].plot.hist(bins=28);\n",
    "\n",
    "intv_duration.loc[intv_duration['duration']>15]"
   ]
  },
  {
   "cell_type": "markdown",
   "metadata": {},
   "source": [
    "- Select 3 patients (for now)"
   ]
  },
  {
   "cell_type": "code",
   "execution_count": 6,
   "metadata": {},
   "outputs": [],
   "source": [
    "with open(clean_data_dir/'pid_without_dup.txt','r') as f:\n",
    "   pid_without_dup = ast.literal_eval(f.read())"
   ]
  },
  {
   "cell_type": "code",
   "execution_count": 7,
   "metadata": {},
   "outputs": [],
   "source": [
    "pid_balance = set(['03d596f1-cf28-4204-a4c0-f2c08a3fe00b',\n",
    "       '24f82ff8-f2f5-448c-920e-a31d7bfb532f',\n",
    "       '3408c15c-48b3-4742-a47c-83cac676a66a',\n",
    "       '39635a7e-041f-497a-8768-2a4010840d9a',\n",
    "       '403e104c-3b9e-402b-8f23-86dd4e99031f',\n",
    "       '49a29158-e258-4949-bb1e-ee4292ed5243',\n",
    "       '52dac003-4f24-486d-a8f6-15f3184e0cf5',\n",
    "       '53a90883-4667-42f1-88ce-f6645f13626f',\n",
    "       '56372890-8d43-40f6-985e-6ba276ef2af3',\n",
    "       '57ad2c8f-d0ac-48f5-95a9-ef037b247d7b',\n",
    "       '66ead137-75c1-45b7-91c2-e1e47a095ae4',\n",
    "       '89d723a3-eb86-413e-b94b-c187c11abbeb',\n",
    "       '97761b89-7419-45d5-9716-179fd9a71244',\n",
    "       '9ec31ef3-94dd-4046-9283-aaed9d642c0a',\n",
    "       'a5692178-3c90-4a7d-b0a5-f3ce6c5e368b',\n",
    "       'a98e55ea-a2da-45f7-ac98-7484e82ec368',\n",
    "       'aa69cde9-b36f-408c-9990-f4e5ffaaf6c3',\n",
    "       'bb1eaf9d-ee98-42e4-9da5-0515767ca48c',\n",
    "       'bbc4315f-dd12-432f-ad96-9fb66aa02832',\n",
    "       'd0ee4138-d358-4ce6-bca5-ee5701f50378',\n",
    "       'd3ba5d0d-6d18-4663-a95e-8ac9d0cdf282',\n",
    "       'df96db2a-67cf-4ba8-bda1-25ea23ad6f71',\n",
    "       'e4456f61-48eb-409c-bbc0-d2b3f3c90c80',\n",
    "       'eb96d708-07f1-4a9a-a963-37eed19a8555',\n",
    "       'f00896fc-9b8c-49ed-8083-501c46ad4234'])"
   ]
  },
  {
   "cell_type": "code",
   "execution_count": 14,
   "metadata": {},
   "outputs": [
    {
     "name": "stdout",
     "output_type": "stream",
     "text": [
      "len(pid_allowlist)=344\n"
     ]
    }
   ],
   "source": [
    "pid_allowlist = list(pid_balance.union(pid_without_dup))\n",
    "print(f'{len(pid_allowlist)=}')\n"
   ]
  },
  {
   "cell_type": "code",
   "execution_count": 17,
   "metadata": {},
   "outputs": [],
   "source": [
    "N_PID_SELECT = 3\n",
    "random.seed(123)\n",
    "pids_select = random.choices(pid_allowlist, k=N_PID_SELECT)\n",
    "intv = intervals.loc[intervals['pid'].isin(pids_select)]\n",
    "ts = explode2ts(intv)\n",
    "tsm = pd.merge(intv, ts, on='intervalID')"
   ]
  },
  {
   "cell_type": "code",
   "execution_count": 19,
   "metadata": {},
   "outputs": [
    {
     "data": {
      "text/plain": [
       "pid\n",
       "85cb77b2-8455-4502-8a92-9375934dba4d    2597\n",
       "d69c28ae-cb9e-4505-a002-debf2c54b72d    2439\n",
       "3d6a4d93-ec5f-4c58-8eea-2fdc46948a60     140\n",
       "dtype: int64"
      ]
     },
     "execution_count": 19,
     "metadata": {},
     "output_type": "execute_result"
    }
   ],
   "source": [
    "# number of observed intervals per PID\n",
    "intv.value_counts('pid')"
   ]
  },
  {
   "cell_type": "code",
   "execution_count": 23,
   "metadata": {},
   "outputs": [
    {
     "data": {
      "text/plain": [
       "pid\n",
       "85cb77b2-8455-4502-8a92-9375934dba4d    97068\n",
       "d69c28ae-cb9e-4505-a002-debf2c54b72d    91336\n",
       "3d6a4d93-ec5f-4c58-8eea-2fdc46948a60     5254\n",
       "dtype: int64"
      ]
     },
     "execution_count": 23,
     "metadata": {},
     "output_type": "execute_result"
    }
   ],
   "source": [
    "# number of observed timepoints per PID\n",
    "tsm.value_counts('pid')"
   ]
  },
  {
   "cell_type": "markdown",
   "metadata": {},
   "source": [
    "- Date distribution"
   ]
  },
  {
   "cell_type": "markdown",
   "metadata": {},
   "source": [
    "- Getting the first and last times of the day"
   ]
  },
  {
   "cell_type": "code",
   "execution_count": null,
   "metadata": {},
   "outputs": [],
   "source": [
    "tsm_first = tsm.groupby(['pid', 'start_date']).head(1)\n",
    "tsm_end = tsm.groupby(['pid', 'start_date']).tail(1)"
   ]
  },
  {
   "cell_type": "code",
   "execution_count": 22,
   "metadata": {},
   "outputs": [
    {
     "name": "stderr",
     "output_type": "stream",
     "text": [
      "<ipython-input-22-5b6292430c53>:14: UserWarning: FixedFormatter should only be used together with FixedLocator\n",
      "  ax.set_xticklabels(labels, rotation=90)\n"
     ]
    },
    {
     "data": {
      "image/png": "[encoded data removed]",
      "text/plain": [
       "<Figure size 432x288 with 1 Axes>"
      ]
     },
     "metadata": {
      "needs_background": "light"
     },
     "output_type": "display_data"
    }
   ],
   "source": [
    "## plot start time distribution\n",
    "fig, ax = plt.subplots()\n",
    "tsm_first['start'].astype(np.int64).plot.hist(ax=ax, bins=30);\n",
    "labels = ax.get_xticks().tolist()\n",
    "labels = pd.to_datetime(labels)\n",
    "ax.set_xticklabels(labels, rotation=90)\n",
    "plt.show();"
   ]
  },
  {
   "cell_type": "markdown",
   "metadata": {},
   "source": [
    "- Stage plotting"
   ]
  },
  {
   "cell_type": "code",
   "execution_count": 64,
   "metadata": {},
   "outputs": [],
   "source": [
    "NROW = 200\n",
    "\n",
    "plotdf = intervals.iloc[0:NROW]\n",
    "plotdf['starttime'] = plotdf['start'].dt.time.apply(time2datetime).astype(np.int64)\n",
    "plotdf['endtime'] = plotdf['end'].dt.time.apply(time2datetime).astype(np.int64)"
   ]
  },
  {
   "cell_type": "code",
   "execution_count": 65,
   "metadata": {},
   "outputs": [],
   "source": [
    "# remove intervals that cross to the other day\n",
    "plotdf = plotdf.loc[(plotdf['start_date'] == plotdf['end'].dt.date)]"
   ]
  },
  {
   "cell_type": "code",
   "execution_count": 66,
   "metadata": {},
   "outputs": [
    {
     "name": "stderr",
     "output_type": "stream",
     "text": [
      "<ipython-input-66-90dfbae7786d>:15: UserWarning: FixedFormatter should only be used together with FixedLocator\n",
      "  ax.set_xticklabels(labels, rotation=90)\n",
      "<ipython-input-66-90dfbae7786d>:16: UserWarning: Matplotlib is currently using module://ipykernel.pylab.backend_inline, which is a non-GUI backend, so cannot show the figure.\n",
      "  fig.show();\n"
     ]
    },
    {
     "data": {
      "image/png": "[encoded data removed]",
      "text/plain": [
       "<Figure size 1152x720 with 1 Axes>"
      ]
     },
     "metadata": {
      "needs_background": "light"
     },
     "output_type": "display_data"
    }
   ],
   "source": [
    "c_dict = {'AWAKE': 'red', 'DEEP': 'darkblue',\n",
    "                  'LIGHT': 'steelblue', 'REM': 'yellow'}\n",
    "color=list(plotdf['stages'].map(c_dict))\n",
    "fig, ax = plt.subplots(1, figsize=(16, 10))\n",
    "\n",
    "ax.barh(\n",
    "    y=plotdf['start_date'],\n",
    "    width=plotdf['endtime'] - plotdf['starttime'],\n",
    "    left=plotdf['starttime'],\n",
    "    color=color\n",
    ")\n",
    "\n",
    "labels = ax.get_xticks().tolist()\n",
    "labels = pd.to_datetime(labels)\n",
    "ax.set_xticklabels(labels, rotation=90)\n",
    "fig.show();\n",
    "\n",
    "# y_min = plotdf['start_date'].min()\n",
    "# y_max = plotdf['start_date'].max() + dt.timedelta(days=1)\n",
    "# x_max = plotdf['end'].max()\n",
    "# x_min = plotdf['start'].min()\n",
    "\n",
    "# ax.set_xlim(x_min, x_max)\n",
    "# ax.set_ylim(y_min, y_max)\n",
    "# plt.gca().invert_yaxis()\n",
    "# ax.xaxis.set_major_formatter(mdates.DateFormatter('%H:%M'))\n",
    "# ax.xaxis.set_major_locator(mdates.MinuteLocator(interval=60))\n",
    "# fig.show();"
   ]
  }
 ],
 "metadata": {
  "interpreter": {
   "hash": "08e2e84546486c2044445a736a214ed62f1a22506b89afaacfc141956dd76d05"
  },
  "kernelspec": {
   "display_name": "Python 3.8.8 64-bit ('base': conda)",
   "language": "python",
   "name": "python3"
  },
  "language_info": {
   "codemirror_mode": {
    "name": "ipython",
    "version": 3
   },
   "file_extension": ".py",
   "mimetype": "text/x-python",
   "name": "python",
   "nbconvert_exporter": "python",
   "pygments_lexer": "ipython3",
   "version": "3.8.8"
  },
  "orig_nbformat": 4
 },
 "nbformat": 4,
 "nbformat_minor": 2
}
