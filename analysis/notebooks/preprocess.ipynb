{
 "cells": [
  {
   "cell_type": "markdown",
   "metadata": {},
   "source": [
    "# AIM\n",
    "- Preprocess data and match delta_T observation window by PHQ score\n",
    "\n",
    "# RESULTS\n",
    "- Replicate Haotian's preprocessing pipeline\n",
    "- Change pipeline to more appropriate binning procedure"
   ]
  },
  {
   "cell_type": "markdown",
   "metadata": {},
   "source": [
    "# Setup"
   ]
  },
  {
   "cell_type": "code",
   "execution_count": null,
   "metadata": {},
   "outputs": [],
   "source": [
    "##### MODULES\n",
    "import os\n",
    "import numpy as np\n",
    "import pandas as pd\n",
    "from pathlib import Path\n",
    "from matplotlib import pyplot as plt\n",
    "import matplotlib.dates\n",
    "import matplotlib.patches\n",
    "import datetime as dt\n",
    "import ast\n",
    "\n",
    "## custom modules\n",
    "# import sys  \n",
    "# sys.path.append('../../scripts')\n",
    "\n",
    "from import_data import *\n",
    "from clean_data import *\n",
    "from mappings import *\n",
    "from plotting import *\n",
    "from helper import *\n",
    "\n",
    "##### OPTIONS\n",
    "pd.options.mode.chained_assignment = None\n",
    "\n",
    "# autoreload external modules after saving changes to disk\n",
    "%reload_ext autoreload\n",
    "%autoreload 2\n",
    "\n",
    "##### DIRECTORIES\n",
    "proj_dir = Path('.') / '..' / '..'\n",
    "source_data_dir = proj_dir/'data'/'source'\n",
    "clean_data_dir =  proj_dir/'data'/'clean'\n",
    "viz_dir = proj_dir/'viz'"
   ]
  },
  {
   "cell_type": "code",
   "execution_count": null,
   "metadata": {},
   "outputs": [],
   "source": [
    "import feather"
   ]
  },
  {
   "cell_type": "markdown",
   "metadata": {},
   "source": [
    "What is this???"
   ]
  },
  {
   "cell_type": "code",
   "execution_count": null,
   "metadata": {},
   "outputs": [],
   "source": [
    "#Link target data and observation data\n",
    "data_merge = pd.merge(target_select, data_tab, how='outer', on=['id'])\n",
    "data_merge = data_merge.loc[(data_merge.obs_start <= data_merge.date) & (data_merge.date <= data_merge.test_date)]"
   ]
  },
  {
   "cell_type": "code",
   "execution_count": null,
   "metadata": {},
   "outputs": [],
   "source": [
    "#Link target data and observation data\n",
    "data_merge = pd.merge(target_select, data_tab, how='outer', on=['id'])\n",
    "data_merge = data_merge.loc[(data_merge.obs_start <= data_merge.date) & (data_merge.date <= data_merge.test_date)]"
   ]
  },
  {
   "cell_type": "code",
   "execution_count": null,
   "metadata": {},
   "outputs": [],
   "source": [
    "# Set new ID: old_ID + PHQ time\n",
    "data_merge[\"id_new\"] = data_merge.id + \"_\" + data_merge.test_date\n",
    "\n",
    "# Set new time: date + start_time\n",
    "data_merge[\"time\"] = data_merge.date+ \" \" + data_merge.start_time\n",
    "\n",
    "data_merge = data_merge.drop([\"test_date\", \"obs_start\", \"start_time\"], axis = 1)"
   ]
  },
  {
   "cell_type": "code",
   "execution_count": null,
   "metadata": {},
   "outputs": [],
   "source": [
    "data_merge.to_csv('data_merged.csv',index=0)"
   ]
  },
  {
   "cell_type": "code",
   "execution_count": null,
   "metadata": {},
   "outputs": [],
   "source": [
    "# Set new ID: old_ID + PHQ time\n",
    "data_merge[\"id_new\"] = data_merge.id + \"_\" + data_merge.test_date\n",
    "\n",
    "# Set new time: date + start_time\n",
    "data_merge[\"time\"] = data_merge.date+ \" \" + data_merge.start_time\n",
    "\n",
    "data_merge = data_merge.drop([\"test_date\", \"obs_start\", \"start_time\"], axis = 1)"
   ]
  },
  {
   "cell_type": "code",
   "execution_count": null,
   "metadata": {},
   "outputs": [],
   "source": [
    "data_merge.to_csv('data_merged.csv',index=0)"
   ]
  },
  {
   "cell_type": "markdown",
   "metadata": {},
   "source": [
    "# Targets\n",
    "1. import files\n",
    "2. Preprocessing\n",
    "    -- Subset by 'clean' PIDs\n",
    "    * import PID lists\n",
    "    * subset\n",
    "    -- Match by date\n",
    "3. Explore date s\n",
    "5. Feature extraction\n",
    "6. Run simple logistic regression model\n",
    "7. Run empty mixed model vs non-mixed model"
   ]
  },
  {
   "cell_type": "markdown",
   "metadata": {},
   "source": [
    "# 1. Import"
   ]
  },
  {
   "cell_type": "code",
   "execution_count": null,
   "metadata": {},
   "outputs": [],
   "source": [
    "phqs_raw, slps_raw, metadata = import_data(source_data_dir)"
   ]
  },
  {
   "cell_type": "code",
   "execution_count": null,
   "metadata": {},
   "outputs": [],
   "source": [
    "assert all(phqs_raw.isna().sum() == 0)"
   ]
  },
  {
   "cell_type": "markdown",
   "metadata": {},
   "source": [
    "# Detour: EDA of PHQ/depr distribution\n",
    "Aim:    \n",
    "1. Explore the relationship between PHQ/depr means and SDs\n",
    "2. Visualize and explore the trajectoires PHQS scores per patients \n"
   ]
  },
  {
   "cell_type": "code",
   "execution_count": null,
   "metadata": {},
   "outputs": [],
   "source": [
    "depr_cutoff = 10\n",
    "dfcp = phqs_raw.copy()\n",
    "dfcp[\"depr\"] = dfcp[\"phq\"] >= depr_cutoff\n",
    "pid_depr_pc = (\n",
    "    dfcp[[\"pid\", \"phq\", \"depr\"]]\n",
    "    .groupby([\"pid\"])\n",
    "    .agg([\"mean\", \"std\", \"count\"])\n",
    "    .pipe(flatten_multiindex, join_by=\"_\")\n",
    "    .sort_values(\"depr_mean\")\n",
    ")"
   ]
  },
  {
   "cell_type": "code",
   "execution_count": null,
   "metadata": {},
   "outputs": [],
   "source": [
    "import seaborn as sns\n",
    "\n",
    "f = sns.scatterplot(\n",
    "    data=pid_depr_pc, \n",
    "    x=\"phq_mean\", \n",
    "    y=\"phq_std\", \n",
    "    hue=\"phq_count\", \n",
    "    size=\"phq_count\",\n",
    "    sizes=(20, 200)\n",
    "    # hue_norm=(0, 7), \n",
    "    # legend=\"full\"\n",
    ").set(title='Scatter of PHQ s.d. against PHQ mean, each point is one patient');\n",
    "plt.show()\n",
    "\n",
    "sns.scatterplot(\n",
    "    data=pid_depr_pc, \n",
    "    x=\"depr_mean\", \n",
    "    y=\"phq_std\", \n",
    "    hue=\"phq_count\", \n",
    "    size=\"phq_count\",\n",
    "    sizes=(20, 200), \n",
    "    # hue_norm=(0, 7), \n",
    "    # legend=\"full\"\n",
    ").set(title='Scatter of PHQ s.d. against depr mean, each point is one patient');\n",
    "plt.show()\n"
   ]
  },
  {
   "cell_type": "code",
   "execution_count": null,
   "metadata": {},
   "outputs": [],
   "source": [
    "g = sns.pairplot(pid_depr_pc)\n",
    "g.fig.suptitle('Pairplot of depr/phq sd/mean/count',y=1.02);"
   ]
  },
  {
   "cell_type": "markdown",
   "metadata": {},
   "source": [
    "# Cleaning: Subset by 'clean' PIDs"
   ]
  },
  {
   "cell_type": "code",
   "execution_count": null,
   "metadata": {},
   "outputs": [],
   "source": [
    "pid_phq = set(phqs_raw['pid'])\n",
    "pid_slp = set(slps_raw['pid'])\n",
    "pid_meta = set(metadata['subject_id'])"
   ]
  },
  {
   "cell_type": "code",
   "execution_count": null,
   "metadata": {},
   "outputs": [],
   "source": [
    "pid_both = pid_phq.intersection(pid_slp)\n",
    "pid_three = pid_phq.intersection(pid_slp).intersection(pid_meta)\n",
    "\n",
    "print(f'{len(pid_phq)=}')\n",
    "print(f'{len(pid_slp)=}')\n",
    "print(f'{len(pid_both)=}')\n",
    "print(f'{len(pid_three)=}')\n",
    "\n",
    "from matplotlib_venn import venn3_unweighted\n",
    "venn3_unweighted([pid_phq, pid_slp, pid_meta], set_labels=('PHQ','sleep','meta'));"
   ]
  },
  {
   "cell_type": "markdown",
   "metadata": {},
   "source": [
    "Import 'allowlist' of PIDs without sleep stage duplication issue"
   ]
  },
  {
   "cell_type": "code",
   "execution_count": null,
   "metadata": {},
   "outputs": [],
   "source": [
    "with open(clean_data_dir/'pid_without_dup.txt','r') as f:\n",
    "   pid_without_dup = ast.literal_eval(f.read())\n",
    "# pid_allowlist = pid_without_dup.intersection(pid_both)\n",
    "# print(f'{len(pid_allowlist)=}')"
   ]
  },
  {
   "cell_type": "markdown",
   "metadata": {},
   "source": [
    "final filter"
   ]
  },
  {
   "cell_type": "code",
   "execution_count": null,
   "metadata": {},
   "outputs": [],
   "source": [
    "hours_recorded = sum(slps_raw['duration']) / 3600\n",
    "print(f'Hours recorded: {hours_recorded}')"
   ]
  },
  {
   "cell_type": "code",
   "execution_count": null,
   "metadata": {},
   "outputs": [],
   "source": [
    "# filter phqs\n",
    "phqs = phqs_raw.copy().loc[ phqs_raw['pid'].isin(pid_three)]\n",
    "report_n_dropped_rows(phqs_raw, phqs)\n",
    "\n",
    "# filter slps\n",
    "slps = slps_raw.copy().loc[ slps_raw['pid'].isin(pid_three)]\n",
    "report_n_dropped_rows(slps_raw, slps)"
   ]
  },
  {
   "cell_type": "markdown",
   "metadata": {},
   "source": [
    "# Cleaning: PHQS date formatting"
   ]
  },
  {
   "cell_type": "code",
   "execution_count": null,
   "metadata": {},
   "outputs": [],
   "source": [
    "phqs['time'] = pd.to_datetime(phqs['time'])\n",
    "phqs['dayofweek'] = phqs['time'].apply(dt.date.isoweekday)"
   ]
  },
  {
   "cell_type": "markdown",
   "metadata": {},
   "source": [
    "- PHQ observations are not made 14 days apart"
   ]
  },
  {
   "cell_type": "code",
   "execution_count": null,
   "metadata": {},
   "outputs": [],
   "source": [
    "phqs.groupby(['pid','dayofweek']).size().reset_index(name='count')"
   ]
  },
  {
   "cell_type": "markdown",
   "metadata": {},
   "source": [
    "# EDA: phq trajectories"
   ]
  },
  {
   "cell_type": "code",
   "execution_count": null,
   "metadata": {},
   "outputs": [],
   "source": [
    "centres = set(phqs['centre'])\n",
    "\n",
    "PLOT_TO_FILE = False\n",
    "\n",
    "for centre in centres:\n",
    "    filename = f'phqs_trajectories_{centre}.png'\n",
    "    outfile = viz_dir/filename\n",
    "    subset = phqs.loc[phqs['centre']==centre]\n",
    "    if PLOT_TO_FILE:\n",
    "        plot_phq_trajectories(df=subset, outfile=outfile)"
   ]
  },
  {
   "cell_type": "markdown",
   "metadata": {},
   "source": [
    "# 4. Preprocess"
   ]
  },
  {
   "cell_type": "markdown",
   "metadata": {},
   "source": [
    "## 4.1 Method 1: Haotian's script"
   ]
  },
  {
   "cell_type": "code",
   "execution_count": null,
   "metadata": {},
   "outputs": [],
   "source": [
    "def filter_by_subj_id_existing_in_three_sources(df, tgt, metadata, left_on=['patient id']):\n",
    "    \"\"\"\n",
    "    these steps are the same as filtering by pid that exist in (i) id_list, from metadata (ii) PHQ test records and (iii) sleep stage records\n",
    "    \"\"\"\n",
    "\n",
    "    \n",
    "    id_list = metadata.loc[:,\"subject_id\"]\n",
    "    df = pd.merge(df,id_list,how='inner',left_on=left_on, right_on = [\"subject_id\"])\n",
    "    tgt = pd.merge(tgt,id_list,how='inner',left_on=left_on, right_on = [\"subject_id\"])\n",
    "    uni = pd.merge(df,tgt,how='inner',on = [\"subject_id\"])\n",
    "\n",
    "    n_subjects = len(uni.value_counts('subject_id'))\n",
    "    print(f'{n_subjects=}')\n",
    "\n",
    "    # dataset = uni.loc[:,[\"subject_id\", \"time stamp_x\", \"stages\", \"duration\"]].rename(columns={'subject_id':'id'}).drop_duplicates()\n",
    "    dataset = uni.loc[:,[\"subject_id\", \"time_x\", \"stages\", \"duration\"]].rename(columns={'subject_id':'id'}).drop_duplicates()\n",
    "\n",
    "    # target = uni.loc[:,[\"subject_id\", \"time stamp_y\", \"phq score\"]].rename(columns={'subject_id':'id',\"phq score\": \"phq_score\"}).drop_duplicates()\n",
    "    target = uni.loc[:,[\"subject_id\", \"time_y\", \"phq\"]].rename(columns={'subject_id':'id'}).drop_duplicates()\n",
    "   \n",
    "    return dataset, target\n",
    "\n",
    "\n",
    "dataset, target = filter_by_subj_id_existing_in_three_sources(slps, phqs, metadata, left_on=['pid'])\n",
    "dataset_backup = dataset.copy()\n",
    "target_backup = target.copy()"
   ]
  },
  {
   "cell_type": "code",
   "execution_count": null,
   "metadata": {},
   "outputs": [],
   "source": [
    "print(f'''\n",
    "    {dataset.shape=},\n",
    "    {slps.shape=},\n",
    "    {target.shape=},\n",
    "    {phqs.shape=}\n",
    "''')\n",
    "\n",
    "print(f'''\n",
    "    {slps.columns=},\n",
    "    {dataset.columns=},\n",
    "    {phqs.columns=},\n",
    "    {target.columns=}\n",
    "''')"
   ]
  },
  {
   "cell_type": "code",
   "execution_count": null,
   "metadata": {},
   "outputs": [],
   "source": [
    "# Type \"UNKNOWN\" have the same meaning with \"AWAKE\"\n",
    "# before\n",
    "print(dataset.value_counts('stages', normalize=True))\n",
    "# clean\n",
    "dataset.loc[dataset.stages == \"UNKNOWN\", 'stages'] = \"AWAKE\"\n",
    "print(dataset.value_counts(\"stages\", normalize=True))"
   ]
  },
  {
   "cell_type": "code",
   "execution_count": null,
   "metadata": {},
   "outputs": [],
   "source": [
    "#Split time from date\n",
    "dataset[\"date\"] = dataset[\"time_x\"].map(lambda x: x[:10])\n",
    "dataset[\"start_time\"] = dataset[\"time_x\"].map(lambda x: str(x[11:13]))\n",
    "#Rrans second to hour\n",
    "dataset[\"duration_hour\"] = dataset[\"duration\"].map(lambda x: x/60/60)"
   ]
  },
  {
   "cell_type": "code",
   "execution_count": null,
   "metadata": {},
   "outputs": [],
   "source": [
    "#Constrain the sleeping start time from 8PM to 10AM\n",
    "dataset_select = dataset.loc[(pd.to_numeric(dataset[\"start_time\"]) >= 20) | (pd.to_numeric(dataset[\"start_time\"]) <= 10)]\n",
    "dataset_select = dataset_select.drop([\"time_x\", \"duration\"], axis=1)"
   ]
  },
  {
   "cell_type": "code",
   "execution_count": null,
   "metadata": {},
   "outputs": [],
   "source": [
    "#Fill in missing values through format transfer\n",
    "data_trans_t = dataset_select.pivot_table(index=[\"id\",\"date\",\"stages\"], columns=[\"start_time\"], values=[\"duration_hour\"], fill_value = 0)\n",
    "data_trans_t.columns = data_trans_t.columns.droplevel(0)\n",
    "data_trans_t = data_trans_t.reset_index()\n",
    "#Restore the table\n",
    "data_trans_t = data_trans_t.melt(\n",
    "    id_vars=[\"id\",\"date\",\"stages\"],value_name=\"duration_hour\", \n",
    "    value_vars=[\"00\", \"01\", \"02\", \"03\", \"04\", \"05\", \"06\", \"07\", \"08\", \"09\", \"10\", \"20\", \"21\", \"22\", \"23\"]\n",
    "    ).sort_values([\"id\",\"date\"])\n",
    "#Trans the format from wide to Long\n",
    "data_trans = data_trans_t.pivot_table(index=[\"id\",\"date\",\"start_time\"], columns=[\"stages\"], values=[\"duration_hour\"], fill_value = 0)\n",
    "#Retain all data to two decimal places\n",
    "data_trans = round(data_trans, 2)\n",
    "#Reindex the table\n",
    "data_trans.columns = data_trans.columns.droplevel(0)\n",
    "data_tab = data_trans.reset_index()\n",
    "data_tab.columns.name = None"
   ]
  },
  {
   "cell_type": "code",
   "execution_count": null,
   "metadata": {},
   "outputs": [],
   "source": [
    "data_tab['total'] = data_tab[['AWAKE','DEEP','LIGHT','REM']].sum(axis=1)"
   ]
  },
  {
   "cell_type": "code",
   "execution_count": null,
   "metadata": {},
   "outputs": [],
   "source": [
    "p = clean_data_dir / 'data_tab.ftr'\n",
    "data_tab.reset_index().to_feather(p)"
   ]
  },
  {
   "cell_type": "markdown",
   "metadata": {},
   "source": [
    "# Method 2: using time series"
   ]
  },
  {
   "cell_type": "code",
   "execution_count": null,
   "metadata": {},
   "outputs": [],
   "source": [
    "intervals = clean_slps(slps)"
   ]
  },
  {
   "cell_type": "code",
   "execution_count": null,
   "metadata": {},
   "outputs": [],
   "source": [
    "print(dt.datetime.now())\n",
    "timeseries = explode2ts(intervals, time='t',multiprocessing=False)\n",
    "\n",
    "print(dt.datetime.now())\n",
    "timeseries_select = (timeseries\n",
    "    .set_index('t', inplace=False)\n",
    "    .between_time('20:00', '10:00')\n",
    "    .reset_index(inplace=False)\n",
    ")\n",
    "report_change_in_nrow(timeseries, timeseries_select)\n",
    "\n",
    "print(dt.datetime.now())\n",
    "m = pd.merge(timeseries_select, intervals, left_on='intervalID', right_on='intervalID', how='left')\n",
    "\n",
    "print(dt.datetime.now())\n",
    "dedupped = dedup_timeseries(m)\n",
    "\n",
    "print(dt.datetime.now())\n",
    "binned = bin_by_hour(dedupped)\n",
    "\n",
    "print(dt.datetime.now())"
   ]
  },
  {
   "cell_type": "code",
   "execution_count": null,
   "metadata": {},
   "outputs": [],
   "source": [
    "p = clean_data_dir / 'slps_timeseries.ftr'\n",
    "timeseries.reset_index(drop=True).to_feather(p)\n",
    "\n",
    "p = clean_data_dir / 'slps_dedupped.ftr'\n",
    "dedupped.reset_index(drop=True).to_feather(p)\n",
    "\n",
    "p = clean_data_dir / 'binned.ftr'\n",
    "binned.reset_index(drop=True).to_feather(p)"
   ]
  },
  {
   "cell_type": "code",
   "execution_count": 267,
   "metadata": {},
   "outputs": [
    {
     "name": "stdout",
     "output_type": "stream",
     "text": [
      "# :\n",
      "657489->1171860 rows (Change = 514371) (nrow after = 178.23% of before)\n"
     ]
    }
   ],
   "source": [
    "from clean_data import *\n",
    "from helper import *\n",
    "\n",
    "p = clean_data_dir / 'binned.ftr'\n",
    "binned = pd.read_feather(p)\n",
    "\n",
    "binned_norm = normalize_binned(binned)\n",
    "expanded = expand_full_hours(binned_norm)\n",
    "report_change_in_nrow(binned_norm, expanded)\n",
    "\n",
    "expanded.columns = ['id', 'date', 'start_time', 'AWAKE', 'DEEP', 'LIGHT', 'REM', 'total']\n",
    "\n",
    "p = clean_data_dir / 'expanded.ftr'\n",
    "expanded.reset_index(drop=True).to_feather(p)"
   ]
  },
  {
   "cell_type": "markdown",
   "metadata": {},
   "source": [
    "Visualize distribution of hours"
   ]
  },
  {
   "cell_type": "code",
   "execution_count": null,
   "metadata": {},
   "outputs": [],
   "source": [
    "hours = [20,21,22,23,0,1,2,3,4,5,6,7,8,9,10]\n",
    "\n",
    "hourly_sums = binned.groupby('hour').sum()\n",
    "# hourly_sums_pc = hourly_sums / hourly_sums.sum()\n",
    "# hourly_sums_pc = round(hourly_sums_pc*100, 2)\n",
    "\n",
    "hourly_sums = hourly_sums.reindex(hours)\n",
    "hourly_sums.plot.bar();"
   ]
  },
  {
   "cell_type": "markdown",
   "metadata": {},
   "source": [
    "There is still problem, hourly sum can be over 120\n",
    "(supposingly 120 intervals in one hour, each 30-seconds)"
   ]
  },
  {
   "cell_type": "code",
   "execution_count": null,
   "metadata": {},
   "outputs": [],
   "source": [
    "binned.loc[binned['sum']>120]"
   ]
  },
  {
   "cell_type": "markdown",
   "metadata": {},
   "source": [
    "## Troubleshooting (ongoing)"
   ]
  },
  {
   "cell_type": "code",
   "execution_count": null,
   "metadata": {},
   "outputs": [],
   "source": [
    "m.head(3)"
   ]
  },
  {
   "cell_type": "code",
   "execution_count": null,
   "metadata": {},
   "outputs": [],
   "source": [
    "pid_q = '0104dfff-4dcd-48ff-b912-51362f098ed0'\n",
    "date_q = dt.date(2019,5,24)\n",
    "\n",
    "m_q = m.loc[(m['pid']==pid_q) & (m['start_date']==date_q), :]\n",
    "m_q\n"
   ]
  },
  {
   "cell_type": "code",
   "execution_count": null,
   "metadata": {},
   "outputs": [],
   "source": [
    "dedupped_q = dedupped.loc[(dedupped['pid']==pid_q), :]\n",
    "dedupped_q = dedupped_q.loc[(dedupped_q['start_date']==date_q),:]\n",
    "dedupped_q"
   ]
  },
  {
   "cell_type": "code",
   "execution_count": null,
   "metadata": {},
   "outputs": [],
   "source": [
    "dedupped_q['start'].dt.hour.value_counts()"
   ]
  },
  {
   "cell_type": "code",
   "execution_count": null,
   "metadata": {},
   "outputs": [],
   "source": [
    "m_q['start'].dt.hour.value_counts()"
   ]
  },
  {
   "cell_type": "code",
   "execution_count": null,
   "metadata": {},
   "outputs": [],
   "source": [
    "intv_q = subset_intervals(intervals, start_date=date_q, end_date=date_q, id=pid_q)\n",
    "plot_gannt(intv_q, metadata);"
   ]
  },
  {
   "cell_type": "markdown",
   "metadata": {},
   "source": [
    "# Gannt chart visualization"
   ]
  },
  {
   "cell_type": "code",
   "execution_count": null,
   "metadata": {},
   "outputs": [],
   "source": [
    "from plotting import *\n",
    "\n",
    "plotdf = subset_intervals(\n",
    "    intervals, \n",
    "    start_date=dt.date(2019, 4, 13), end_date=dt.date(2019, 4, 15), \n",
    "    id = \"007751c5-d7ad-4bec-a58f-abf32500e2ae\"\n",
    ")\n",
    "\n",
    "plot_gannts(plotdf, metadata)"
   ]
  },
  {
   "cell_type": "markdown",
   "metadata": {},
   "source": [
    "# Original script is troublesome"
   ]
  },
  {
   "cell_type": "code",
   "execution_count": 2,
   "metadata": {},
   "outputs": [
    {
     "ename": "NameError",
     "evalue": "name 'clean_data_dir' is not defined",
     "output_type": "error",
     "traceback": [
      "\u001b[1;31m---------------------------------------------------------------------------\u001b[0m",
      "\u001b[1;31mNameError\u001b[0m                                 Traceback (most recent call last)",
      "\u001b[1;32mc:\\Users\\Harris\\projects\\msc-proj\\analysis\\notebooks\\baseline_model.ipynb Cell 62'\u001b[0m in \u001b[0;36m<module>\u001b[1;34m\u001b[0m\n\u001b[1;32m----> <a href='vscode-notebook-cell:/c%3A/Users/Harris/projects/msc-proj/analysis/notebooks/baseline_model.ipynb#ch0000061?line=0'>1</a>\u001b[0m clean_data_dir\n\u001b[0;32m      <a href='vscode-notebook-cell:/c%3A/Users/Harris/projects/msc-proj/analysis/notebooks/baseline_model.ipynb#ch0000061?line=1'>2</a>\u001b[0m data_tab[\u001b[39m'\u001b[39m\u001b[39mtotal\u001b[39m\u001b[39m'\u001b[39m]\u001b[39m.\u001b[39mplot\u001b[39m.\u001b[39mhist(bins\u001b[39m=\u001b[39m\u001b[39m100\u001b[39m)\n",
      "\u001b[1;31mNameError\u001b[0m: name 'clean_data_dir' is not defined"
     ]
    }
   ],
   "source": [
    "print((data_tab['total'] > 1).value_counts(normalize=True))\n",
    "data_tab['total'].plot.hist(bins=100);"
   ]
  },
  {
   "cell_type": "code",
   "execution_count": 265,
   "metadata": {},
   "outputs": [
    {
     "data": {
      "text/plain": [
       "<AxesSubplot:ylabel='Frequency'>"
      ]
     },
     "execution_count": 265,
     "metadata": {},
     "output_type": "execute_result"
    },
    {
     "data": {
      "image/png": "[encoded data removed]",
      "text/plain": [
       "<Figure size 432x288 with 1 Axes>"
      ]
     },
     "metadata": {
      "needs_background": "light"
     },
     "output_type": "display_data"
    }
   ],
   "source": [
    "expanded['total'].plot.hist(bins=100)"
   ]
  },
  {
   "cell_type": "markdown",
   "metadata": {},
   "source": [
    "Clean target"
   ]
  },
  {
   "cell_type": "code",
   "execution_count": 236,
   "metadata": {},
   "outputs": [],
   "source": [
    "#Clean target data\n",
    "\"\"\"target[\"test_date\"] = target[\"time_y\"].map(lambda x: x[:10])\"\"\"\n",
    "#! replaced by:\n",
    "target[\"test_date\"] = target['time_y'].dt.date\n",
    "target_new = target.loc[:,[\"id\", \"test_date\", \"phq\"]]\n",
    "\n",
    "#Get observation start and end times\n",
    "\"\"\"\n",
    "id_obs_start = data_tab.groupby('id')['date'].min()\n",
    "id_obs_end = data_tab.groupby('id')['date'].max()\n",
    "\"\"\"\n",
    "\n",
    "#! replaced by\n",
    "expanded.columns = ['id', 'date', 'start_time', 'AWAKE', 'DEEP', 'LIGHT', 'REM', 'total']\n",
    "id_obs_start = expanded.groupby('id')['date'].min()\n",
    "id_obs_end = expanded.groupby('id')['date'].max()"
   ]
  },
  {
   "cell_type": "code",
   "execution_count": 237,
   "metadata": {},
   "outputs": [],
   "source": [
    "\n",
    "#Adjust the time format\n",
    "target_new[\"obs_start\"] = pd.to_datetime(target_new.test_date) - pd.Timedelta(days=15)\n",
    "target_new[\"obs_start\"] = target_new[\"obs_start\"].apply(lambda x:x.strftime('%Y-%m-%d'))"
   ]
  },
  {
   "cell_type": "code",
   "execution_count": 238,
   "metadata": {},
   "outputs": [
    {
     "data": {
      "text/html": [
       "<div>\n",
       "<style scoped>\n",
       "    .dataframe tbody tr th:only-of-type {\n",
       "        vertical-align: middle;\n",
       "    }\n",
       "\n",
       "    .dataframe tbody tr th {\n",
       "        vertical-align: top;\n",
       "    }\n",
       "\n",
       "    .dataframe thead th {\n",
       "        text-align: right;\n",
       "    }\n",
       "</style>\n",
       "<table border=\"1\" class=\"dataframe\">\n",
       "  <thead>\n",
       "    <tr style=\"text-align: right;\">\n",
       "      <th></th>\n",
       "      <th>id</th>\n",
       "      <th>test_date</th>\n",
       "      <th>phq</th>\n",
       "      <th>obs_start</th>\n",
       "    </tr>\n",
       "  </thead>\n",
       "  <tbody>\n",
       "    <tr>\n",
       "      <th>0</th>\n",
       "      <td>bf3defd7-2a52-4557-8202-9d887957e109</td>\n",
       "      <td>2019-01-21</td>\n",
       "      <td>16.0</td>\n",
       "      <td>2019-01-06</td>\n",
       "    </tr>\n",
       "    <tr>\n",
       "      <th>1</th>\n",
       "      <td>bf3defd7-2a52-4557-8202-9d887957e109</td>\n",
       "      <td>2019-02-04</td>\n",
       "      <td>17.0</td>\n",
       "      <td>2019-01-20</td>\n",
       "    </tr>\n",
       "    <tr>\n",
       "      <th>2</th>\n",
       "      <td>bf3defd7-2a52-4557-8202-9d887957e109</td>\n",
       "      <td>2019-03-04</td>\n",
       "      <td>22.0</td>\n",
       "      <td>2019-02-17</td>\n",
       "    </tr>\n",
       "    <tr>\n",
       "      <th>3</th>\n",
       "      <td>bf3defd7-2a52-4557-8202-9d887957e109</td>\n",
       "      <td>2019-03-18</td>\n",
       "      <td>19.0</td>\n",
       "      <td>2019-03-03</td>\n",
       "    </tr>\n",
       "    <tr>\n",
       "      <th>4</th>\n",
       "      <td>bf3defd7-2a52-4557-8202-9d887957e109</td>\n",
       "      <td>2019-04-01</td>\n",
       "      <td>14.0</td>\n",
       "      <td>2019-03-17</td>\n",
       "    </tr>\n",
       "    <tr>\n",
       "      <th>...</th>\n",
       "      <td>...</td>\n",
       "      <td>...</td>\n",
       "      <td>...</td>\n",
       "      <td>...</td>\n",
       "    </tr>\n",
       "    <tr>\n",
       "      <th>26740932</th>\n",
       "      <td>09828ab7-192f-4aab-88d5-eb1f5891e367</td>\n",
       "      <td>2019-11-06</td>\n",
       "      <td>19.0</td>\n",
       "      <td>2019-10-22</td>\n",
       "    </tr>\n",
       "    <tr>\n",
       "      <th>26740933</th>\n",
       "      <td>09828ab7-192f-4aab-88d5-eb1f5891e367</td>\n",
       "      <td>2019-11-20</td>\n",
       "      <td>13.0</td>\n",
       "      <td>2019-11-05</td>\n",
       "    </tr>\n",
       "    <tr>\n",
       "      <th>26740934</th>\n",
       "      <td>09828ab7-192f-4aab-88d5-eb1f5891e367</td>\n",
       "      <td>2019-12-04</td>\n",
       "      <td>18.0</td>\n",
       "      <td>2019-11-19</td>\n",
       "    </tr>\n",
       "    <tr>\n",
       "      <th>26740935</th>\n",
       "      <td>09828ab7-192f-4aab-88d5-eb1f5891e367</td>\n",
       "      <td>2019-12-18</td>\n",
       "      <td>21.0</td>\n",
       "      <td>2019-12-03</td>\n",
       "    </tr>\n",
       "    <tr>\n",
       "      <th>26740936</th>\n",
       "      <td>09828ab7-192f-4aab-88d5-eb1f5891e367</td>\n",
       "      <td>2020-01-01</td>\n",
       "      <td>17.0</td>\n",
       "      <td>2019-12-17</td>\n",
       "    </tr>\n",
       "  </tbody>\n",
       "</table>\n",
       "<p>4849 rows × 4 columns</p>\n",
       "</div>"
      ],
      "text/plain": [
       "                                            id   test_date   phq   obs_start\n",
       "0         bf3defd7-2a52-4557-8202-9d887957e109  2019-01-21  16.0  2019-01-06\n",
       "1         bf3defd7-2a52-4557-8202-9d887957e109  2019-02-04  17.0  2019-01-20\n",
       "2         bf3defd7-2a52-4557-8202-9d887957e109  2019-03-04  22.0  2019-02-17\n",
       "3         bf3defd7-2a52-4557-8202-9d887957e109  2019-03-18  19.0  2019-03-03\n",
       "4         bf3defd7-2a52-4557-8202-9d887957e109  2019-04-01  14.0  2019-03-17\n",
       "...                                        ...         ...   ...         ...\n",
       "26740932  09828ab7-192f-4aab-88d5-eb1f5891e367  2019-11-06  19.0  2019-10-22\n",
       "26740933  09828ab7-192f-4aab-88d5-eb1f5891e367  2019-11-20  13.0  2019-11-05\n",
       "26740934  09828ab7-192f-4aab-88d5-eb1f5891e367  2019-12-04  18.0  2019-11-19\n",
       "26740935  09828ab7-192f-4aab-88d5-eb1f5891e367  2019-12-18  21.0  2019-12-03\n",
       "26740936  09828ab7-192f-4aab-88d5-eb1f5891e367  2020-01-01  17.0  2019-12-17\n",
       "\n",
       "[4849 rows x 4 columns]"
      ]
     },
     "execution_count": 238,
     "metadata": {},
     "output_type": "execute_result"
    }
   ],
   "source": [
    "target_new"
   ]
  },
  {
   "cell_type": "code",
   "execution_count": 239,
   "metadata": {},
   "outputs": [],
   "source": [
    "#Join the tables\n",
    "target_new = target_new.merge(id_obs_start, on=\"id\", how=\"left\").merge(id_obs_end, on=\"id\", how=\"left\")\n",
    "\n",
    "#Filter the target data during the observation period\n",
    "target_select = target_new.loc[\n",
    "    (pd.to_datetime(target_new['test_date']) >= pd.to_datetime(target_new['date_x'])) & \n",
    "    (pd.to_datetime(target_new['obs_start']) <= pd.to_datetime(target_new['date_y']))\n",
    "]\n",
    "#Drop extra columns\n",
    "target_select = target_select.drop([\"date_x\", \"date_y\"], axis = 1)\n"
   ]
  },
  {
   "cell_type": "code",
   "execution_count": 240,
   "metadata": {},
   "outputs": [
    {
     "name": "stdout",
     "output_type": "stream",
     "text": [
      "# Drop PHQ records which is <14 days from previous:\n",
      "4283->4074 rows (Change:-209, 95.12% of original)\n"
     ]
    }
   ],
   "source": [
    "from clean_data import *\n",
    "from helper import *\n",
    "target_select = drop_days_delta(target_select)"
   ]
  },
  {
   "cell_type": "code",
   "execution_count": 245,
   "metadata": {},
   "outputs": [],
   "source": [
    "#Link target data and observation data\n",
    "\"\"\"data_merge = pd.merge(target_select, data_tab, how='outer', on=['id'])\"\"\"\n",
    "#! replaced by\n",
    "data_merge = pd.merge(target_select, expanded, how='outer', on=['id'])"
   ]
  },
  {
   "cell_type": "code",
   "execution_count": 243,
   "metadata": {},
   "outputs": [
    {
     "data": {
      "text/html": [
       "<div>\n",
       "<style scoped>\n",
       "    .dataframe tbody tr th:only-of-type {\n",
       "        vertical-align: middle;\n",
       "    }\n",
       "\n",
       "    .dataframe tbody tr th {\n",
       "        vertical-align: top;\n",
       "    }\n",
       "\n",
       "    .dataframe thead th {\n",
       "        text-align: right;\n",
       "    }\n",
       "</style>\n",
       "<table border=\"1\" class=\"dataframe\">\n",
       "  <thead>\n",
       "    <tr style=\"text-align: right;\">\n",
       "      <th></th>\n",
       "      <th>id</th>\n",
       "      <th>test_date</th>\n",
       "      <th>phq</th>\n",
       "      <th>obs_start</th>\n",
       "      <th>date</th>\n",
       "      <th>start_time</th>\n",
       "      <th>AWAKE</th>\n",
       "      <th>DEEP</th>\n",
       "      <th>LIGHT</th>\n",
       "      <th>REM</th>\n",
       "      <th>total</th>\n",
       "    </tr>\n",
       "  </thead>\n",
       "  <tbody>\n",
       "    <tr>\n",
       "      <th>0</th>\n",
       "      <td>bf3defd7-2a52-4557-8202-9d887957e109</td>\n",
       "      <td>2019-01-21</td>\n",
       "      <td>16.0</td>\n",
       "      <td>2019-01-06</td>\n",
       "      <td>2019-01-21</td>\n",
       "      <td>20</td>\n",
       "      <td>0.0</td>\n",
       "      <td>0.0</td>\n",
       "      <td>0.0</td>\n",
       "      <td>0.0</td>\n",
       "      <td>0.0</td>\n",
       "    </tr>\n",
       "    <tr>\n",
       "      <th>1</th>\n",
       "      <td>bf3defd7-2a52-4557-8202-9d887957e109</td>\n",
       "      <td>2019-01-21</td>\n",
       "      <td>16.0</td>\n",
       "      <td>2019-01-06</td>\n",
       "      <td>2019-01-21</td>\n",
       "      <td>21</td>\n",
       "      <td>0.0</td>\n",
       "      <td>0.0</td>\n",
       "      <td>0.0</td>\n",
       "      <td>0.0</td>\n",
       "      <td>0.0</td>\n",
       "    </tr>\n",
       "    <tr>\n",
       "      <th>2</th>\n",
       "      <td>bf3defd7-2a52-4557-8202-9d887957e109</td>\n",
       "      <td>2019-01-21</td>\n",
       "      <td>16.0</td>\n",
       "      <td>2019-01-06</td>\n",
       "      <td>2019-01-21</td>\n",
       "      <td>22</td>\n",
       "      <td>0.1</td>\n",
       "      <td>0.0</td>\n",
       "      <td>0.0</td>\n",
       "      <td>0.0</td>\n",
       "      <td>0.1</td>\n",
       "    </tr>\n",
       "  </tbody>\n",
       "</table>\n",
       "</div>"
      ],
      "text/plain": [
       "                                     id   test_date   phq   obs_start  \\\n",
       "0  bf3defd7-2a52-4557-8202-9d887957e109  2019-01-21  16.0  2019-01-06   \n",
       "1  bf3defd7-2a52-4557-8202-9d887957e109  2019-01-21  16.0  2019-01-06   \n",
       "2  bf3defd7-2a52-4557-8202-9d887957e109  2019-01-21  16.0  2019-01-06   \n",
       "\n",
       "         date  start_time  AWAKE  DEEP  LIGHT  REM  total  \n",
       "0  2019-01-21          20    0.0   0.0    0.0  0.0    0.0  \n",
       "1  2019-01-21          21    0.0   0.0    0.0  0.0    0.0  \n",
       "2  2019-01-21          22    0.1   0.0    0.0  0.0    0.1  "
      ]
     },
     "execution_count": 243,
     "metadata": {},
     "output_type": "execute_result"
    }
   ],
   "source": [
    "data_merge.head(3)"
   ]
  },
  {
   "cell_type": "code",
   "execution_count": 246,
   "metadata": {},
   "outputs": [
    {
     "name": "stdout",
     "output_type": "stream",
     "text": [
      "# :\n",
      "15828720->735555 rows (Change:-15093165, 4.65% of original)\n"
     ]
    }
   ],
   "source": [
    "data_merge_select = data_merge.loc[(pd.to_datetime(data_merge.obs_start) <= pd.to_datetime(data_merge.date)) & (pd.to_datetime(data_merge.date) <= pd.to_datetime(data_merge.test_date))]\n",
    "report_change_in_nrow(data_merge, data_merge_select)\n",
    "data_merge = data_merge_select.copy()"
   ]
  },
  {
   "cell_type": "code",
   "execution_count": 247,
   "metadata": {},
   "outputs": [],
   "source": [
    "# Set new ID: old_ID + PHQ time\n",
    "#! updated\n",
    "data_merge[\"id_new\"] = data_merge.id + \"_\" + data_merge.test_date.astype(\"string\")"
   ]
  },
  {
   "cell_type": "code",
   "execution_count": 249,
   "metadata": {},
   "outputs": [],
   "source": [
    "# Set new time: date + start_time\n",
    "#! updated\n",
    "data_merge[\"time\"] = data_merge.date.astype(\"string\") + \" \" + data_merge.start_time.astype(\"string\")"
   ]
  },
  {
   "cell_type": "code",
   "execution_count": 250,
   "metadata": {},
   "outputs": [],
   "source": [
    "data_merge = data_merge.drop([\"test_date\", \"obs_start\", \"start_time\"], axis = 1)"
   ]
  },
  {
   "cell_type": "code",
   "execution_count": 252,
   "metadata": {},
   "outputs": [],
   "source": [
    "show = data_merge.head(1000)"
   ]
  },
  {
   "cell_type": "markdown",
   "metadata": {},
   "source": [
    "Export"
   ]
  },
  {
   "cell_type": "code",
   "execution_count": 254,
   "metadata": {},
   "outputs": [],
   "source": [
    "p1 = clean_data_dir/'data_merge.csv'\n",
    "p2 = clean_data_dir/'data_merge.ftr'\n",
    "data_merge.to_csv(p1,index=0)\n",
    "data_merge.reset_index().to_feather(p2)"
   ]
  },
  {
   "cell_type": "code",
   "execution_count": 260,
   "metadata": {},
   "outputs": [
    {
     "name": "stdout",
     "output_type": "stream",
     "text": [
      "(1171860, 8) (735555, 10)\n"
     ]
    }
   ],
   "source": [
    "print(expanded.shape, data_merge.shape)\n"
   ]
  },
  {
   "cell_type": "code",
   "execution_count": 257,
   "metadata": {},
   "outputs": [
    {
     "data": {
      "text/plain": [
       "Index(['id', 'phq', 'date', 'AWAKE', 'DEEP', 'LIGHT', 'REM', 'total', 'id_new',\n",
       "       'time'],\n",
       "      dtype='object')"
      ]
     },
     "execution_count": 257,
     "metadata": {},
     "output_type": "execute_result"
    }
   ],
   "source": [
    "data_merge.columns"
   ]
  },
  {
   "cell_type": "code",
   "execution_count": 256,
   "metadata": {},
   "outputs": [
    {
     "name": "stdout",
     "output_type": "stream",
     "text": [
      "\n",
      "Shape = (735555, 10),\n",
      "\n",
      "\n"
     ]
    }
   ],
   "source": [
    "print(f\"\"\"\n",
    "Shape = {data_merge.shape},\n",
    "{data_merge[\"id']}\n",
    "\"\"\"\n",
    ")\n"
   ]
  }
 ],
 "metadata": {
  "interpreter": {
   "hash": "08e2e84546486c2044445a736a214ed62f1a22506b89afaacfc141956dd76d05"
  },
  "kernelspec": {
   "display_name": "Python 3",
   "language": "python",
   "name": "python3"
  },
  "language_info": {
   "codemirror_mode": {
    "name": "ipython",
    "version": 3
   },
   "file_extension": ".py",
   "mimetype": "text/x-python",
   "name": "python",
   "nbconvert_exporter": "python",
   "pygments_lexer": "ipython3",
   "version": "3.8.12"
  }
 },
 "nbformat": 4,
 "nbformat_minor": 2
}
