{
 "cells": [
  {
   "cell_type": "markdown",
   "metadata": {},
   "source": [
    "# AIM\n",
    "\n",
    "- To ensure a preprocessing pipeline in one go\n",
    "\n",
    "Created on: 9 April 2022\n"
   ]
  },
  {
   "cell_type": "markdown",
   "metadata": {},
   "source": [
    "# Workspace\n"
   ]
  },
  {
   "cell_type": "code",
   "execution_count": 1,
   "metadata": {},
   "outputs": [],
   "source": [
    "##### MODULES\n",
    "import os\n",
    "import numpy as np\n",
    "import pandas as pd\n",
    "from pathlib import Path\n",
    "from matplotlib import pyplot as plt\n",
    "import matplotlib.dates\n",
    "import matplotlib.patches\n",
    "import datetime as dt\n",
    "import feather\n",
    "import time\n",
    "\n",
    "## custom modules\n",
    "# import sys  \n",
    "# sys.path.append('../../scripts')\n",
    "\n",
    "import import_data\n",
    "import clean_data\n",
    "import helper\n",
    "import report\n",
    "import plotting\n",
    "\n",
    "##### OPTIONS\n",
    "pd.options.mode.chained_assignment = None\n",
    "\n",
    "# autoreload external modules after saving changes to disk\n",
    "%reload_ext autoreload\n",
    "%autoreload 2\n",
    "\n",
    "##### DIRECTORIES\n",
    "proj_dir = Path('.') / '..' / '..'\n",
    "source_data_dir = proj_dir/'data'/'source'\n",
    "clean_data_dir =  proj_dir/'data'/'clean'\n",
    "viz_dir = proj_dir/'viz'/'preprocessApr09'"
   ]
  },
  {
   "cell_type": "code",
   "execution_count": 2,
   "metadata": {},
   "outputs": [],
   "source": [
    "preprocess_start = time.time()"
   ]
  },
  {
   "cell_type": "markdown",
   "metadata": {},
   "source": [
    "# PARAMETERS\n"
   ]
  },
  {
   "cell_type": "code",
   "execution_count": 3,
   "metadata": {},
   "outputs": [],
   "source": [
    "WRITE_TO_DISK = True # write artefacts to disk?\n",
    "OUTPUT_DIR = clean_data_dir / \"preprocessApr09\"\n",
    "\n",
    "SAMPLE_PERCENT = 100\n",
    "\n",
    "SLEEP_TIME_START = '20:00'\n",
    "SLEEP_TIME_END = '10:00' \n",
    "HOURS_ORDERED = [20,21,22,23,0,1,2,3,4,5,6,7,8,9]\n",
    "# include start boundary only\n",
    "#todo: generate HOURS from start+end sleep times\n",
    "\n",
    "DEBUG_HOURS = False\n",
    "\n",
    "PANDEMIC_CUTOFF   = dt.date(2020, 1, 30) \n",
    "\n",
    "## SUBSETTING\n",
    "SUBSET_START_DATE = None\n",
    "SUBSET_END_DATE   = None\n",
    "SUBSET_PID        = None"
   ]
  },
  {
   "cell_type": "markdown",
   "metadata": {},
   "source": [
    "# Import\n"
   ]
  },
  {
   "cell_type": "code",
   "execution_count": 4,
   "metadata": {},
   "outputs": [],
   "source": [
    "phqs_raw, slps_raw, metadata = import_data.import_data(source_data_dir)"
   ]
  },
  {
   "cell_type": "markdown",
   "metadata": {},
   "source": [
    "# Preprocessing using method 2 (expanding intervals to timestamps)\n"
   ]
  },
  {
   "cell_type": "markdown",
   "metadata": {},
   "source": [
    "### 1. Create output directory\n"
   ]
  },
  {
   "cell_type": "code",
   "execution_count": 5,
   "metadata": {},
   "outputs": [],
   "source": [
    "OUTPUT_DIR.mkdir(exist_ok=True)"
   ]
  },
  {
   "cell_type": "markdown",
   "metadata": {},
   "source": [
    "### 2. Clean_slps\n"
   ]
  },
  {
   "cell_type": "code",
   "execution_count": 6,
   "metadata": {},
   "outputs": [
    {
     "name": "stdout",
     "output_type": "stream",
     "text": [
      "# [clean_slps]\n",
      "Elapsed: 2.4 seconds\n"
     ]
    }
   ],
   "source": [
    "with helper.Timer(\"clean_slps\"):\n",
    "    intervals_all = clean_data.clean_slps(slps_raw)"
   ]
  },
  {
   "cell_type": "markdown",
   "metadata": {},
   "source": [
    "### 3. Drop intervals after COVID\n"
   ]
  },
  {
   "cell_type": "code",
   "execution_count": 7,
   "metadata": {},
   "outputs": [
    {
     "name": "stdout",
     "output_type": "stream",
     "text": [
      "# Drop intervals after pandemic\n",
      "1855957->1844095 rows (Change = -11862) (nrow after = 99.36% of before)\n"
     ]
    }
   ],
   "source": [
    "intervals_all_cleaned = plotting.subset_intervals(intervals_all, end_date=PANDEMIC_CUTOFF, msg=\"Drop intervals after pandemic\")"
   ]
  },
  {
   "cell_type": "code",
   "execution_count": 8,
   "metadata": {},
   "outputs": [],
   "source": [
    "#### Subset by criteria\n",
    "\n",
    "# intervals = plotting.subset_intervals(intervals_all, start_date=SUBSET_START_DATE, end_date=SUBSET_END_DATE, id=SUBSET_PID, msg=\"Sample a small testing set\")\n",
    "\n",
    "#### ALTERNATIVELY,\n",
    "#### SLICE THE FIRST FEW PERCENT\n",
    "if SAMPLE_PERCENT:\n",
    "    keep_flag = int(np.floor(intervals_all_cleaned.shape[0] * SAMPLE_PERCENT*100))\n",
    "    intervals = intervals_all_cleaned.head(keep_flag)\n",
    "else:\n",
    "    intervals = intervals_all_cleaned.copy()"
   ]
  },
  {
   "cell_type": "code",
   "execution_count": 9,
   "metadata": {},
   "outputs": [
    {
     "name": "stdout",
     "output_type": "stream",
     "text": [
      "Intervals sampled: 1844095\n"
     ]
    }
   ],
   "source": [
    "print(f\"Intervals sampled: {intervals.shape[0]}\")"
   ]
  },
  {
   "cell_type": "code",
   "execution_count": 10,
   "metadata": {},
   "outputs": [
    {
     "data": {
      "text/html": [
       "<div>\n",
       "<style scoped>\n",
       "    .dataframe tbody tr th:only-of-type {\n",
       "        vertical-align: middle;\n",
       "    }\n",
       "\n",
       "    .dataframe tbody tr th {\n",
       "        vertical-align: top;\n",
       "    }\n",
       "\n",
       "    .dataframe thead th {\n",
       "        text-align: right;\n",
       "    }\n",
       "</style>\n",
       "<table border=\"1\" class=\"dataframe\">\n",
       "  <thead>\n",
       "    <tr style=\"text-align: right;\">\n",
       "      <th></th>\n",
       "      <th>centre</th>\n",
       "      <th>pid</th>\n",
       "      <th>time</th>\n",
       "      <th>stages</th>\n",
       "      <th>duration</th>\n",
       "      <th>start</th>\n",
       "      <th>start_date</th>\n",
       "      <th>end</th>\n",
       "      <th>intervalID</th>\n",
       "    </tr>\n",
       "    <tr>\n",
       "      <th>index</th>\n",
       "      <th></th>\n",
       "      <th></th>\n",
       "      <th></th>\n",
       "      <th></th>\n",
       "      <th></th>\n",
       "      <th></th>\n",
       "      <th></th>\n",
       "      <th></th>\n",
       "      <th></th>\n",
       "    </tr>\n",
       "  </thead>\n",
       "  <tbody>\n",
       "    <tr>\n",
       "      <th>0</th>\n",
       "      <td>ciber</td>\n",
       "      <td>bf3defd7-2a52-4557-8202-9d887957e109</td>\n",
       "      <td>2019-01-21T22:54:00.000</td>\n",
       "      <td>AWAKE</td>\n",
       "      <td>870.0</td>\n",
       "      <td>2019-01-21 22:54:00</td>\n",
       "      <td>2019-01-21</td>\n",
       "      <td>2019-01-21 23:08:00</td>\n",
       "      <td>0</td>\n",
       "    </tr>\n",
       "    <tr>\n",
       "      <th>1</th>\n",
       "      <td>ciber</td>\n",
       "      <td>bf3defd7-2a52-4557-8202-9d887957e109</td>\n",
       "      <td>2019-01-21T23:08:30.000</td>\n",
       "      <td>LIGHT</td>\n",
       "      <td>1050.0</td>\n",
       "      <td>2019-01-21 23:08:30</td>\n",
       "      <td>2019-01-21</td>\n",
       "      <td>2019-01-21 23:25:30</td>\n",
       "      <td>1</td>\n",
       "    </tr>\n",
       "  </tbody>\n",
       "</table>\n",
       "</div>"
      ],
      "text/plain": [
       "      centre                                   pid                     time  \\\n",
       "index                                                                         \n",
       "0      ciber  bf3defd7-2a52-4557-8202-9d887957e109  2019-01-21T22:54:00.000   \n",
       "1      ciber  bf3defd7-2a52-4557-8202-9d887957e109  2019-01-21T23:08:30.000   \n",
       "\n",
       "      stages  duration               start  start_date                 end  \\\n",
       "index                                                                        \n",
       "0      AWAKE     870.0 2019-01-21 22:54:00  2019-01-21 2019-01-21 23:08:00   \n",
       "1      LIGHT    1050.0 2019-01-21 23:08:30  2019-01-21 2019-01-21 23:25:30   \n",
       "\n",
       "       intervalID  \n",
       "index              \n",
       "0               0  \n",
       "1               1  "
      ]
     },
     "execution_count": 10,
     "metadata": {},
     "output_type": "execute_result"
    }
   ],
   "source": [
    "intervals.head(2)"
   ]
  },
  {
   "cell_type": "markdown",
   "metadata": {},
   "source": [
    "### 4. Explode\n"
   ]
  },
  {
   "cell_type": "code",
   "execution_count": 11,
   "metadata": {},
   "outputs": [
    {
     "name": "stdout",
     "output_type": "stream",
     "text": [
      "# [explode2ts]\n",
      "1844095->73679755 rows (Change = 71835660) (nrow after = 3995.44% of before)\n",
      "Elapsed: 1060.4 seconds\n"
     ]
    }
   ],
   "source": [
    "with helper.Timer(\"explode2ts\"):\n",
    "    timeseries = clean_data.explode2ts(intervals)\n",
    "    report.report_change_in_nrow(intervals, timeseries)"
   ]
  },
  {
   "cell_type": "markdown",
   "metadata": {},
   "source": [
    "### 5. Subset timestamps within a defined interval\n"
   ]
  },
  {
   "cell_type": "code",
   "execution_count": 12,
   "metadata": {},
   "outputs": [
    {
     "name": "stdout",
     "output_type": "stream",
     "text": [
      "# [Subset timestamps within defined interval]\n",
      "73679755->70601880 rows (Change = -3077875) (nrow after = 95.82% of before)\n",
      "Elapsed: 8.9 seconds\n"
     ]
    }
   ],
   "source": [
    "with helper.Timer(\"Subset timestamps within defined interval\"):\n",
    "    #todo: optimally,\n",
    "    timeseries_subset = clean_data.subset_timeseries_within_interval(timeseries, SLEEP_TIME_START, SLEEP_TIME_END, inclusive='left')"
   ]
  },
  {
   "cell_type": "markdown",
   "metadata": {},
   "source": [
    "### !!! Debug"
   ]
  },
  {
   "cell_type": "code",
   "execution_count": 13,
   "metadata": {},
   "outputs": [],
   "source": [
    "if DEBUG_HOURS:\n",
    "    mytimes = timeseries_subset['t'].dt.time\n",
    "    h = [clean_data.time2seconds(t)/3600 for t in mytimes]\n",
    "    pd.Series(h).plot.hist(bins=24);"
   ]
  },
  {
   "cell_type": "markdown",
   "metadata": {},
   "source": [
    "### Fix overlap\n"
   ]
  },
  {
   "cell_type": "code",
   "execution_count": 14,
   "metadata": {},
   "outputs": [
    {
     "name": "stdout",
     "output_type": "stream",
     "text": [
      "# [Remove overlapped timestamps and sleep stage labels]\n",
      "70601880->70361127 rows (Change = -240753) (nrow after = 99.66% of before)\n",
      "Elapsed: 117.0 seconds\n"
     ]
    }
   ],
   "source": [
    "with helper.Timer(\"Remove overlapped timestamps and sleep stage labels\"):\n",
    "    dedupped = clean_data.dedup_timeseries(timeseries_subset)"
   ]
  },
  {
   "cell_type": "markdown",
   "metadata": {},
   "source": [
    "### Binning and normalization\n"
   ]
  },
  {
   "cell_type": "code",
   "execution_count": 15,
   "metadata": {},
   "outputs": [
    {
     "name": "stdout",
     "output_type": "stream",
     "text": [
      "# [Binning and normalization]\n",
      "70361127->655535 rows (Change = -69705592) (nrow after = 0.93% of before)\n",
      "Elapsed: 93.1 seconds\n"
     ]
    }
   ],
   "source": [
    "with helper.Timer(\"Binning and normalization\"):\n",
    "    binned = clean_data.bin_by_time(dedupped, freq='1H')\n",
    "    #! changing the frequency is problematic\n",
    "    #! because it breaks the 'Expanding to full range of hours' step\n",
    "    binned_norm = clean_data.normalize_binned(binned)"
   ]
  },
  {
   "cell_type": "markdown",
   "metadata": {},
   "source": [
    "### Expanding to full range of hours\n"
   ]
  },
  {
   "cell_type": "code",
   "execution_count": 16,
   "metadata": {},
   "outputs": [
    {
     "name": "stdout",
     "output_type": "stream",
     "text": [
      "# [Expand to full range of hours]\n",
      "655535->1121806 rows (Change = 466271) (nrow after = 171.13% of before)\n",
      "Elapsed: 2.7 seconds\n"
     ]
    }
   ],
   "source": [
    "with helper.Timer(\"Expand to full range of hours\"):\n",
    "    expanded = clean_data.expand_full_hours(binned_norm,hours=HOURS_ORDERED)"
   ]
  },
  {
   "cell_type": "markdown",
   "metadata": {},
   "source": [
    "### Save\n"
   ]
  },
  {
   "cell_type": "code",
   "execution_count": 18,
   "metadata": {},
   "outputs": [],
   "source": [
    "if WRITE_TO_DISK:\n",
    "\n",
    "    p = OUTPUT_DIR / 'timeseries.ftr'\n",
    "    timeseries.reset_index(drop=True).to_feather(p)\n",
    "    \n",
    "    p = OUTPUT_DIR / 'dedupped.ftr'\n",
    "    dedupped.reset_index(drop=True).to_feather(p)\n",
    "\n",
    "    p = OUTPUT_DIR / 'binned.ftr'\n",
    "    binned.reset_index(drop=True).to_feather(p)\n",
    "    \n",
    "    p = OUTPUT_DIR / 'expanded.ftr'\n",
    "    expanded.reset_index(drop=True).to_feather(p)\n",
    "\n",
    "    print(OUTPUT_DIR)\n"
   ]
  },
  {
   "cell_type": "markdown",
   "metadata": {},
   "source": [
    "### Try other frequencies\n",
    "\n",
    "Section is unfinished because expand_full_hours is not compatiable with other frequencies.\n",
    "\n",
    "This is a loop to loop for any frequencies, to be passed into `bin_by_time`, for later use\n"
   ]
  },
  {
   "cell_type": "code",
   "execution_count": 19,
   "metadata": {},
   "outputs": [],
   "source": [
    "#### NOT RUN ###\n",
    "if False:\n",
    "    ### load from disk\n",
    "    p = OUTPUT_DIR / 'dedupped.ftr'\n",
    "    dedupped_all = pd.read_feather(p)\n",
    "\n",
    "    ### sample\n",
    "    dedupped = dedupped_all.head(10000)\n",
    "\n",
    "    ### params\n",
    "    freqs = ['30M']\n",
    "    WRITE_TO_TASK = False\n",
    "        \n",
    "    ### main loop\n",
    "    for freq in freqs:\n",
    "        print(f\"### {freq=}\")\n",
    "        \n",
    "        with helper.Timer(\"Binning and normalization\"):\n",
    "            binned = clean_data.bin_by_time(dedupped, freq=freq)\n",
    "            binned_norm = clean_data.normalize_binned(binned)\n",
    "\n",
    "        with helper.Timer(\"Expand to full range of hours\"):\n",
    "            binned_norm['hour'] = binned_norm['t'].dt.hour\n",
    "            binned_norm['start_date'] = binned_norm['t'].dt.date\n",
    "            expanded = clean_data.expand_full_hours(binned_norm)\n",
    "            expanded.drop(\"t\", axis=1, inplace=True)\n",
    "\n",
    "        WRITE_TO_DISK = True\n",
    "        if WRITE_TO_DISK:\n",
    "            sufffix = 'preprocess' + freq\n",
    "            OUTPUT_DIR = proj_dir/'data'/'clean'\n",
    "            OUTPUT_DIR.mkdir(exist_ok=True)\n",
    "            \n",
    "            p = OUTPUT_DIR / 'expanded.ftr'\n",
    "            expanded.reset_index(drop=True).to_feather(p)"
   ]
  },
  {
   "cell_type": "markdown",
   "metadata": {},
   "source": [
    "### Import from saves\n"
   ]
  },
  {
   "cell_type": "code",
   "execution_count": 20,
   "metadata": {},
   "outputs": [],
   "source": [
    "if False:\n",
    "    p = OUTPUT_DIR / 'binned.ftr'\n",
    "    binned = pd.read_feather(p)\n",
    "\n",
    "    p = OUTPUT_DIR / 'expanded.ftr'\n",
    "    expanded = pd.read_feather(p)\n",
    "\n",
    "    p = OUTPUT_DIR / 'dedupped.ftr'\n",
    "    dedupped = pd.read_feather(p)"
   ]
  },
  {
   "cell_type": "markdown",
   "metadata": {},
   "source": [
    "# QC histograms by hour\n"
   ]
  },
  {
   "cell_type": "code",
   "execution_count": 21,
   "metadata": {},
   "outputs": [],
   "source": [
    "if False:\n",
    "    import seaborn as sns\n",
    "\n",
    "    g = sns.FacetGrid(binned, col=\"hour\", height=2.5, col_wrap=6)\n",
    "    g.map(sns.histplot, \"sum\");\n",
    "    plt.savefig(viz_dir/\"binned_hist_by_hour.png\")\n",
    "\n",
    "    g = sns.FacetGrid(expanded, col=\"hour\", height=2.5, col_wrap=6)\n",
    "    g.map(sns.histplot, \"sum\");\n",
    "    plt.savefig(viz_dir/\"binned_expanded_hist_by_hour.png\")\n",
    "\n",
    "    fig = expanded['sum'].plot.hist(bins=100);"
   ]
  },
  {
   "cell_type": "code",
   "execution_count": 22,
   "metadata": {},
   "outputs": [
    {
     "data": {
      "image/png": "[encoded data removed]",
      "text/plain": [
       "<Figure size 432x288 with 1 Axes>"
      ]
     },
     "metadata": {
      "needs_background": "light"
     },
     "output_type": "display_data"
    }
   ],
   "source": [
    "hourly_sums = binned.groupby('hour').sum()\n",
    "hourly_sums = hourly_sums.reindex(HOURS_ORDERED)\n",
    "hourly_sums.plot.bar();\n",
    "plt.savefig(viz_dir/\"sleep_stage_duration_by_hour.png\")"
   ]
  },
  {
   "cell_type": "code",
   "execution_count": null,
   "metadata": {},
   "outputs": [],
   "source": []
  },
  {
   "cell_type": "markdown",
   "metadata": {},
   "source": [
    "# Merge (Haotian's code into routine)\n",
    "using `merge_slp_phq` routine in `clean_data`"
   ]
  },
  {
   "cell_type": "code",
   "execution_count": 23,
   "metadata": {},
   "outputs": [
    {
     "name": "stdout",
     "output_type": "stream",
     "text": [
      "# [merge]\n",
      "# Drop PHQ test results which are within 14 days from previous result\n",
      "4283->4074 rows (Change = -209) (nrow after = 95.12% of before)\n",
      "# Drop irrelevant rows from outer join\n",
      "14737226->686560 rows (Change = -14050666) (nrow after = 4.66% of before)\n",
      "Elapsed: 14.5 seconds\n"
     ]
    }
   ],
   "source": [
    "with helper.Timer(\"merge\"):\n",
    "    data_merge2 = clean_data.merge_slp_phq(expanded, phqs_raw)"
   ]
  },
  {
   "cell_type": "code",
   "execution_count": 24,
   "metadata": {},
   "outputs": [],
   "source": [
    "path = OUTPUT_DIR / 'data_merge2.ftr'\n",
    "data_merge2.reset_index(drop=True).to_feather(path)"
   ]
  },
  {
   "cell_type": "code",
   "execution_count": 36,
   "metadata": {},
   "outputs": [],
   "source": [
    "helper.beeps()\n",
    "\n",
    "preprocess_end = time.time()\n",
    "preprocess_time = preprocess_end - preprocess_start\n",
    "print(preprocess_time)"
   ]
  },
  {
   "cell_type": "code",
   "execution_count": null,
   "metadata": {},
   "outputs": [],
   "source": []
  },
  {
   "cell_type": "markdown",
   "metadata": {},
   "source": [
    "# Merge (Haotian's code)"
   ]
  },
  {
   "cell_type": "markdown",
   "metadata": {},
   "source": [
    "Clean `phqs_raw` to match Haotian's code"
   ]
  },
  {
   "cell_type": "code",
   "execution_count": null,
   "metadata": {},
   "outputs": [],
   "source": [
    "target = phqs_raw[['centre', 'pid', 'time', 'phq']].copy()\n",
    "target.columns = ['centre', 'id', 'time_y', 'phq']\n",
    "\n",
    "target['time_y'] = pd.to_datetime(target['time_y'])"
   ]
  },
  {
   "cell_type": "markdown",
   "metadata": {},
   "source": [
    "Beginning of Haotian's code, with modificdations"
   ]
  },
  {
   "cell_type": "code",
   "execution_count": null,
   "metadata": {},
   "outputs": [],
   "source": [
    "#Clean target data\n",
    "\"\"\"target[\"test_date\"] = target[\"time_y\"].map(lambda x: x[:10])\"\"\"\n",
    "#! replaced by:\n",
    "target[\"test_date\"] = target['time_y'].dt.date\n",
    "target_new = target.loc[:,[\"id\", \"test_date\", \"phq\"]]\n",
    "\n",
    "#Get observation start and end times\n",
    "\"\"\"\n",
    "id_obs_start = data_tab.groupby('id')['date'].min()\n",
    "id_obs_end = data_tab.groupby('id')['date'].max()\n",
    "\"\"\"\n",
    "\n",
    "#! replaced by\n",
    "expanded.columns = ['id', 'date', 'start_time', 'AWAKE', 'DEEP', 'LIGHT', 'REM', 'total']\n",
    "id_obs_start = expanded.groupby('id')['date'].min()\n",
    "id_obs_end = expanded.groupby('id')['date'].max()"
   ]
  },
  {
   "cell_type": "code",
   "execution_count": null,
   "metadata": {},
   "outputs": [],
   "source": [
    "#Adjust the time format\n",
    "target_new[\"obs_start\"] = pd.to_datetime(target_new.test_date) - pd.Timedelta(days=15)\n",
    "\n",
    "target_new[\"obs_start\"] = target_new[\"obs_start\"].apply(lambda x:x.strftime('%Y-%m-%d'))"
   ]
  },
  {
   "cell_type": "code",
   "execution_count": null,
   "metadata": {},
   "outputs": [],
   "source": [
    "target_new.head(3)"
   ]
  },
  {
   "cell_type": "code",
   "execution_count": null,
   "metadata": {},
   "outputs": [],
   "source": [
    "#Join the tables\n",
    "target_new = target_new.merge(id_obs_start, on=\"id\", how=\"left\").merge(id_obs_end, on=\"id\", how=\"left\")\n",
    "\n",
    "#Filter the target data during the observation period\n",
    "target_select = target_new.loc[\n",
    "    (pd.to_datetime(target_new['test_date']) >= pd.to_datetime(target_new['date_x'])) & \n",
    "    (pd.to_datetime(target_new['obs_start']) <= pd.to_datetime(target_new['date_y']))\n",
    "]\n",
    "#Drop extra columns\n",
    "target_select = target_select.drop([\"date_x\", \"date_y\"], axis = 1)\n"
   ]
  },
  {
   "cell_type": "code",
   "execution_count": null,
   "metadata": {},
   "outputs": [],
   "source": [
    "target_select = clean_data.drop_days_delta(target_select)"
   ]
  },
  {
   "cell_type": "code",
   "execution_count": null,
   "metadata": {},
   "outputs": [],
   "source": [
    "#Link target data and observation data\n",
    "\"\"\"data_merge = pd.merge(target_select, data_tab, how='outer', on=['id'])\"\"\"\n",
    "#! replaced by\n",
    "data_merge = pd.merge(target_select, expanded, how='outer', on=['id'])"
   ]
  },
  {
   "cell_type": "code",
   "execution_count": null,
   "metadata": {},
   "outputs": [],
   "source": [
    "data_merge.head(3)"
   ]
  },
  {
   "cell_type": "code",
   "execution_count": null,
   "metadata": {},
   "outputs": [],
   "source": [
    "\"\"\"\n",
    "data_merge_select = data_merge.loc[(pd.to_datetime(data_merge.obs_start) <= pd.to_datetime(data_merge.date)) & (pd.to_datetime(data_merge.date) <= pd.to_datetime(data_merge.test_date))]\n",
    "\"\"\"\n",
    "\n",
    "#! replaced by (formatting)\n",
    "mask1 = (pd.to_datetime(data_merge.obs_start) <= pd.to_datetime(data_merge.date))\n",
    "mask2 = (pd.to_datetime(data_merge.date) <= pd.to_datetime(data_merge.test_date))\n",
    "data_merge_select = data_merge.loc[mask1 & mask2]\n",
    "report.report_change_in_nrow(data_merge, data_merge_select)"
   ]
  },
  {
   "cell_type": "code",
   "execution_count": null,
   "metadata": {},
   "outputs": [],
   "source": [
    "# Set new ID: old_ID + PHQ time\n",
    "#! updated\n",
    "data_merge_select[\"id_new\"] = data_merge_select.id + \"_\" + data_merge_select.test_date.astype(\"string\")"
   ]
  },
  {
   "cell_type": "code",
   "execution_count": null,
   "metadata": {},
   "outputs": [],
   "source": [
    "# Set new time: date + start_time\n",
    "#! updated\n",
    "data_merge_select[\"time\"] = data_merge_select.date.astype(\"string\") + \" \" + data_merge_select.start_time.astype(\"string\")"
   ]
  }
 ],
 "metadata": {
  "interpreter": {
   "hash": "08e2e84546486c2044445a736a214ed62f1a22506b89afaacfc141956dd76d05"
  },
  "kernelspec": {
   "display_name": "Python 3.8.8 ('base')",
   "language": "python",
   "name": "python3"
  },
  "language_info": {
   "codemirror_mode": {
    "name": "ipython",
    "version": 3
   },
   "file_extension": ".py",
   "mimetype": "text/x-python",
   "name": "python",
   "nbconvert_exporter": "python",
   "pygments_lexer": "ipython3",
   "version": "3.8.12"
  },
  "orig_nbformat": 4
 },
 "nbformat": 4,
 "nbformat_minor": 2
}
