{
 "cells": [
  {
   "cell_type": "markdown",
   "metadata": {},
   "source": [
    "# AIM\n",
    "- To run a cleaned-up preprocessing pipeline\n",
    "\n",
    "Created on: 22 Mar 2022"
   ]
  },
  {
   "cell_type": "markdown",
   "metadata": {},
   "source": [
    "# Workspace"
   ]
  },
  {
   "cell_type": "code",
   "execution_count": null,
   "metadata": {},
   "outputs": [],
   "source": [
    "##### MODULES\n",
    "import os\n",
    "import numpy as np\n",
    "import pandas as pd\n",
    "from pathlib import Path\n",
    "from matplotlib import pyplot as plt\n",
    "import matplotlib.dates\n",
    "import matplotlib.patches\n",
    "import datetime as dt\n",
    "import feather\n",
    "\n",
    "## custom modules\n",
    "# import sys  \n",
    "# sys.path.append('../../scripts')\n",
    "\n",
    "import import_data\n",
    "import clean_data\n",
    "import helper\n",
    "import report\n",
    "import plotting\n",
    "\n",
    "##### OPTIONS\n",
    "pd.options.mode.chained_assignment = None\n",
    "\n",
    "# autoreload external modules after saving changes to disk\n",
    "%reload_ext autoreload\n",
    "%autoreload 2\n",
    "\n",
    "##### DIRECTORIES\n",
    "proj_dir = Path('.') / '..' / '..'\n",
    "source_data_dir = proj_dir/'data'/'source'\n",
    "clean_data_dir =  proj_dir/'data'/'clean'\n",
    "viz_dir = proj_dir/'viz'"
   ]
  },
  {
   "cell_type": "markdown",
   "metadata": {},
   "source": [
    "# PARAMETERS"
   ]
  },
  {
   "cell_type": "code",
   "execution_count": null,
   "metadata": {},
   "outputs": [],
   "source": [
    "WRITE_TO_DISK = True\n",
    "OUTPUT_DIR = clean_data_dir / \"preprocessMar21\"\n",
    "\n",
    "SLEEP_TIME_START = '20:00'\n",
    "SLEEP_TIME_END = '10:00'\n",
    "\n",
    "PANDEMIC_CUTOFF   = dt.date(2020, 1, 30) \n",
    "\n",
    "## SUBSETTING\n",
    "SUBSET_START_DATE = None\n",
    "SUBSET_END_DATE   = None\n",
    "SUBSET_PID        = None\n",
    "#  ['0104dfff-4dcd-48ff-b912-51362f098ed0']"
   ]
  },
  {
   "cell_type": "markdown",
   "metadata": {},
   "source": [
    "# Import"
   ]
  },
  {
   "cell_type": "code",
   "execution_count": null,
   "metadata": {},
   "outputs": [],
   "source": [
    "phqs_raw, slps_raw, metadata = import_data.import_data(source_data_dir)"
   ]
  },
  {
   "cell_type": "markdown",
   "metadata": {},
   "source": [
    "# Preprocessing using method 2 (expanding intervals to timestamps)"
   ]
  },
  {
   "cell_type": "markdown",
   "metadata": {},
   "source": [
    "create output directory"
   ]
  },
  {
   "cell_type": "code",
   "execution_count": null,
   "metadata": {},
   "outputs": [],
   "source": [
    "OUTPUT_DIR.mkdir(exist_ok=True)"
   ]
  },
  {
   "cell_type": "markdown",
   "metadata": {},
   "source": [
    "clean_slps"
   ]
  },
  {
   "cell_type": "code",
   "execution_count": null,
   "metadata": {},
   "outputs": [
    {
     "name": "stdout",
     "output_type": "stream",
     "text": [
      "# [clean_slps]\n",
      "Elapsed: 3.2 seconds\n"
     ]
    }
   ],
   "source": [
    "with helper.Timer(\"clean_slps\"):\n",
    "    intervals_all = clean_data.clean_slps(slps_raw)"
   ]
  },
  {
   "cell_type": "markdown",
   "metadata": {},
   "source": [
    "Drop intervals after COVID"
   ]
  },
  {
   "cell_type": "code",
   "execution_count": null,
   "metadata": {},
   "outputs": [
    {
     "name": "stdout",
     "output_type": "stream",
     "text": [
      "# Drop intervals after pandemic\n",
      "1855957->1844095 rows (Change = -11862) (nrow after = 99.36% of before)\n"
     ]
    }
   ],
   "source": [
    "intervals = plotting.subset_intervals(intervals_all, end_date=PANDEMIC_CUTOFF, msg=\"Drop intervals after pandemic\")"
   ]
  },
  {
   "cell_type": "markdown",
   "metadata": {},
   "source": [
    "!!!!! EXAMPLE INTERVAL SUBSET"
   ]
  },
  {
   "cell_type": "code",
   "execution_count": null,
   "metadata": {},
   "outputs": [
    {
     "name": "stdout",
     "output_type": "stream",
     "text": [
      "Intervals sampled: 2\n"
     ]
    }
   ],
   "source": [
    "#### Subset by criteria\n",
    "# intervals = plotting.subset_intervals(intervals_all, start_date=SUBSET_START_DATE, end_date=SUBSET_END_DATE, id=SUBSET_PID, msg=\"Sample a small testing set\")\n",
    "\n",
    "### Slicing\n",
    "intervals = intervals_all.head(2)\n",
    "\n",
    "print(f\"Intervals sampled: {intervals.shape[0]}\")"
   ]
  },
  {
   "cell_type": "markdown",
   "metadata": {},
   "source": [
    "explode"
   ]
  },
  {
   "cell_type": "code",
   "execution_count": null,
   "metadata": {},
   "outputs": [
    {
     "name": "stdout",
     "output_type": "stream",
     "text": [
      "185595->7682292 rows (Change = 7496697) (nrow after = 4139.28% of before)\n",
      "# [explode2ts]\n",
      "Elapsed: 43.2 seconds\n"
     ]
    }
   ],
   "source": [
    "FRAC = 0.1\n",
    "keep_flag = int(np.floor(intervals_all.shape[0] * FRAC))\n",
    "intervals = intervals_all.head(keep_flag)\n",
    "\n",
    "with helper.Timer(\"explode2ts\"):\n",
    "    timeseries = clean_data.explode2ts(intervals)\n",
    "    report.report_change_in_nrow(intervals, timeseries)"
   ]
  },
  {
   "cell_type": "markdown",
   "metadata": {},
   "source": [
    "Subset timestamps within a defined interval"
   ]
  },
  {
   "cell_type": "code",
   "execution_count": null,
   "metadata": {},
   "outputs": [
    {
     "name": "stdout",
     "output_type": "stream",
     "text": [
      "7682292->7054492 rows (Change = -627800) (nrow after = 91.83% of before)\n",
      "# [Subset timestamps within defined interval]\n",
      "Elapsed: 0.8 seconds\n"
     ]
    }
   ],
   "source": [
    "with helper.Timer(\"Subset timestamps within defined interval\"):\n",
    "    timeseries_subset = clean_data.subset_timeseries_within_interval(timeseries, SLEEP_TIME_START, SLEEP_TIME_END)"
   ]
  }
 ],
 "metadata": {
  "interpreter": {
   "hash": "08e2e84546486c2044445a736a214ed62f1a22506b89afaacfc141956dd76d05"
  },
  "kernelspec": {
   "display_name": "Python 3.8.8 ('base')",
   "language": "python",
   "name": "python3"
  },
  "language_info": {
   "name": "python",
   "version": "3.8.12"
  },
  "orig_nbformat": 4
 },
 "nbformat": 4,
 "nbformat_minor": 2
}
