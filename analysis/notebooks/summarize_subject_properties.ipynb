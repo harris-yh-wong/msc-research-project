{
 "cells": [
  {
   "cell_type": "markdown",
   "metadata": {},
   "source": [
    "# AIM\n",
    "- To validate preprocessing data\n",
    "\n",
    "Created on: 21 Mar 2022"
   ]
  },
  {
   "cell_type": "markdown",
   "metadata": {},
   "source": [
    "# Workspace"
   ]
  },
  {
   "cell_type": "code",
   "execution_count": null,
   "metadata": {},
   "outputs": [],
   "source": [
    "##### MODULES\n",
    "import os\n",
    "import numpy as np\n",
    "import pandas as pd\n",
    "from pathlib import Path\n",
    "from matplotlib import pyplot as plt\n",
    "import matplotlib.dates\n",
    "import matplotlib.patches\n",
    "import datetime as dt\n",
    "import ast\n",
    "\n",
    "## custom modules\n",
    "# import sys  \n",
    "# sys.path.append('../../scripts')\n",
    "\n",
    "from import_data import *\n",
    "from clean_data import *\n",
    "from mappings import *\n",
    "from plotting import *\n",
    "from helper import *\n",
    "\n",
    "##### OPTIONS\n",
    "pd.options.mode.chained_assignment = None\n",
    "\n",
    "# autoreload external modules after saving changes to disk\n",
    "%reload_ext autoreload\n",
    "%autoreload 2\n",
    "\n",
    "##### DIRECTORIES\n",
    "proj_dir = Path('.') / '..' / '..'\n",
    "source_data_dir = proj_dir/'data'/'source'\n",
    "clean_data_dir =  proj_dir/'data'/'clean'\n",
    "viz_dir = proj_dir/'viz'"
   ]
  },
  {
   "cell_type": "code",
   "execution_count": null,
   "metadata": {},
   "outputs": [],
   "source": [
    "import feather"
   ]
  },
  {
   "cell_type": "markdown",
   "metadata": {},
   "source": [
    "# Import"
   ]
  },
  {
   "cell_type": "code",
   "execution_count": null,
   "metadata": {},
   "outputs": [],
   "source": [
    "phqs_raw, slps_raw, metadata = import_data(source_data_dir)\n",
    "df = metadata.copy()"
   ]
  },
  {
   "cell_type": "markdown",
   "metadata": {},
   "source": [
    "# File membership + Add new IDs"
   ]
  },
  {
   "cell_type": "markdown",
   "metadata": {},
   "source": [
    "Obtain sets of subject id"
   ]
  },
  {
   "cell_type": "code",
   "execution_count": null,
   "metadata": {},
   "outputs": [],
   "source": [
    "subj_id_phq = set(phqs_raw['pid'])\n",
    "subj_id_slp = set(slps_raw['pid'])\n",
    "subj_id_meta = set(metadata['subject_id'])"
   ]
  },
  {
   "cell_type": "code",
   "execution_count": null,
   "metadata": {},
   "outputs": [
    {
     "name": "stdout",
     "output_type": "stream",
     "text": [
      "len(subj_id_phq)=487\n",
      "len(subj_id_slp)=461\n",
      "len(subj_id_phq_slp_intersect)=436\n",
      "len(subj_id_phq_slp_meta_intersect)=434\n",
      "len(subj_id_all)=659\n"
     ]
    },
    {
     "data": {
      "image/png": "[encoded data removed]",
      "text/plain": [
       "<Figure size 432x288 with 1 Axes>"
      ]
     },
     "metadata": {},
     "output_type": "display_data"
    }
   ],
   "source": [
    "subj_id_phq_slp_intersect = subj_id_phq.intersection(subj_id_slp)\n",
    "subj_id_phq_slp_meta_intersect = subj_id_phq.intersection(subj_id_slp).intersection(subj_id_meta)\n",
    "\n",
    "subj_id_all = subj_id_phq.union(subj_id_slp).union(subj_id_meta)\n",
    "\n",
    "print(f'{len(subj_id_phq)=}')\n",
    "print(f'{len(subj_id_slp)=}')\n",
    "print(f'{len(subj_id_phq_slp_intersect)=}')\n",
    "print(f'{len(subj_id_phq_slp_meta_intersect)=}')\n",
    "print(f'{len(subj_id_all)=}')\n",
    "\n",
    "#TODO logging"
   ]
  },
  {
   "cell_type": "markdown",
   "metadata": {},
   "source": [
    "Visualize with venn diagram"
   ]
  },
  {
   "cell_type": "code",
   "execution_count": null,
   "metadata": {},
   "outputs": [],
   "source": [
    "from matplotlib_venn import venn3_unweighted\n",
    "venn3_unweighted([subj_id_phq, subj_id_slp, subj_id_meta], set_labels=('PHQ','sleep','meta'));"
   ]
  },
  {
   "cell_type": "markdown",
   "metadata": {},
   "source": [
    "Any subject IDs not in the metadata file but in other files?"
   ]
  },
  {
   "cell_type": "code",
   "execution_count": null,
   "metadata": {},
   "outputs": [
    {
     "name": "stdout",
     "output_type": "stream",
     "text": [
      "len(subj_id_not_in_meta)=36\n"
     ]
    }
   ],
   "source": [
    "subj_id_not_in_meta = subj_id_all.difference(subj_id_meta)\n",
    "print(f'{len(subj_id_not_in_meta)=}')"
   ]
  },
  {
   "cell_type": "markdown",
   "metadata": {},
   "source": [
    "Append these 'new' IDs as additional rows of the metadata file"
   ]
  },
  {
   "cell_type": "code",
   "execution_count": null,
   "metadata": {},
   "outputs": [
    {
     "data": {
      "text/html": [
       "<div>\n",
       "<style scoped>\n",
       "    .dataframe tbody tr th:only-of-type {\n",
       "        vertical-align: middle;\n",
       "    }\n",
       "\n",
       "    .dataframe tbody tr th {\n",
       "        vertical-align: top;\n",
       "    }\n",
       "\n",
       "    .dataframe thead th {\n",
       "        text-align: right;\n",
       "    }\n",
       "</style>\n",
       "<table border=\"1\" class=\"dataframe\">\n",
       "  <thead>\n",
       "    <tr style=\"text-align: right;\">\n",
       "      <th></th>\n",
       "      <th>ID</th>\n",
       "      <th>subject_id</th>\n",
       "      <th>human_readable_site</th>\n",
       "      <th>site_readable</th>\n",
       "      <th>flag_death</th>\n",
       "      <th>flag_covid_death</th>\n",
       "      <th>flag_suicide_death</th>\n",
       "      <th>flag_ftp_missing</th>\n",
       "      <th>flag_qr_issue</th>\n",
       "      <th>flag_fitbit_issue</th>\n",
       "      <th>...</th>\n",
       "      <th>thincit_trails_flag</th>\n",
       "      <th>thincit_pdq5_flag</th>\n",
       "      <th>android_phone_acceleration_flag</th>\n",
       "      <th>last_download_date</th>\n",
       "      <th>flag_download_in_progress</th>\n",
       "      <th>enrolment_date</th>\n",
       "      <th>withdrawal_date</th>\n",
       "      <th>in_meta</th>\n",
       "      <th>in_slp</th>\n",
       "      <th>in_phq</th>\n",
       "    </tr>\n",
       "  </thead>\n",
       "  <tbody>\n",
       "    <tr>\n",
       "      <th>31</th>\n",
       "      <td>NaN</td>\n",
       "      <td>227</td>\n",
       "      <td>NaN</td>\n",
       "      <td>NaN</td>\n",
       "      <td>NaN</td>\n",
       "      <td>NaN</td>\n",
       "      <td>NaN</td>\n",
       "      <td>NaN</td>\n",
       "      <td>NaN</td>\n",
       "      <td>NaN</td>\n",
       "      <td>...</td>\n",
       "      <td>NaN</td>\n",
       "      <td>NaN</td>\n",
       "      <td>NaN</td>\n",
       "      <td>NaT</td>\n",
       "      <td>NaN</td>\n",
       "      <td>NaT</td>\n",
       "      <td>NaT</td>\n",
       "      <td>False</td>\n",
       "      <td>True</td>\n",
       "      <td>False</td>\n",
       "    </tr>\n",
       "    <tr>\n",
       "      <th>32</th>\n",
       "      <td>NaN</td>\n",
       "      <td>75c0267b-0944-4c19-8081-9e49eb5eadab</td>\n",
       "      <td>NaN</td>\n",
       "      <td>NaN</td>\n",
       "      <td>NaN</td>\n",
       "      <td>NaN</td>\n",
       "      <td>NaN</td>\n",
       "      <td>NaN</td>\n",
       "      <td>NaN</td>\n",
       "      <td>NaN</td>\n",
       "      <td>...</td>\n",
       "      <td>NaN</td>\n",
       "      <td>NaN</td>\n",
       "      <td>NaN</td>\n",
       "      <td>NaT</td>\n",
       "      <td>NaN</td>\n",
       "      <td>NaT</td>\n",
       "      <td>NaT</td>\n",
       "      <td>False</td>\n",
       "      <td>False</td>\n",
       "      <td>True</td>\n",
       "    </tr>\n",
       "    <tr>\n",
       "      <th>33</th>\n",
       "      <td>NaN</td>\n",
       "      <td>086845c3-5b0c-49af-9f05-02bdc2419fc2</td>\n",
       "      <td>NaN</td>\n",
       "      <td>NaN</td>\n",
       "      <td>NaN</td>\n",
       "      <td>NaN</td>\n",
       "      <td>NaN</td>\n",
       "      <td>NaN</td>\n",
       "      <td>NaN</td>\n",
       "      <td>NaN</td>\n",
       "      <td>...</td>\n",
       "      <td>NaN</td>\n",
       "      <td>NaN</td>\n",
       "      <td>NaN</td>\n",
       "      <td>NaT</td>\n",
       "      <td>NaN</td>\n",
       "      <td>NaT</td>\n",
       "      <td>NaT</td>\n",
       "      <td>False</td>\n",
       "      <td>False</td>\n",
       "      <td>True</td>\n",
       "    </tr>\n",
       "    <tr>\n",
       "      <th>34</th>\n",
       "      <td>NaN</td>\n",
       "      <td>236d88c7-6995-40eb-bd45-176081cdc0de</td>\n",
       "      <td>NaN</td>\n",
       "      <td>NaN</td>\n",
       "      <td>NaN</td>\n",
       "      <td>NaN</td>\n",
       "      <td>NaN</td>\n",
       "      <td>NaN</td>\n",
       "      <td>NaN</td>\n",
       "      <td>NaN</td>\n",
       "      <td>...</td>\n",
       "      <td>NaN</td>\n",
       "      <td>NaN</td>\n",
       "      <td>NaN</td>\n",
       "      <td>NaT</td>\n",
       "      <td>NaN</td>\n",
       "      <td>NaT</td>\n",
       "      <td>NaT</td>\n",
       "      <td>False</td>\n",
       "      <td>True</td>\n",
       "      <td>True</td>\n",
       "    </tr>\n",
       "    <tr>\n",
       "      <th>35</th>\n",
       "      <td>NaN</td>\n",
       "      <td>784fc83c-54db-41e4-86d0-c561efad0b11</td>\n",
       "      <td>NaN</td>\n",
       "      <td>NaN</td>\n",
       "      <td>NaN</td>\n",
       "      <td>NaN</td>\n",
       "      <td>NaN</td>\n",
       "      <td>NaN</td>\n",
       "      <td>NaN</td>\n",
       "      <td>NaN</td>\n",
       "      <td>...</td>\n",
       "      <td>NaN</td>\n",
       "      <td>NaN</td>\n",
       "      <td>NaN</td>\n",
       "      <td>NaT</td>\n",
       "      <td>NaN</td>\n",
       "      <td>NaT</td>\n",
       "      <td>NaT</td>\n",
       "      <td>False</td>\n",
       "      <td>False</td>\n",
       "      <td>True</td>\n",
       "    </tr>\n",
       "  </tbody>\n",
       "</table>\n",
       "<p>5 rows × 27 columns</p>\n",
       "</div>"
      ],
      "text/plain": [
       "    ID                            subject_id human_readable_site  \\\n",
       "31 NaN                                   227                 NaN   \n",
       "32 NaN  75c0267b-0944-4c19-8081-9e49eb5eadab                 NaN   \n",
       "33 NaN  086845c3-5b0c-49af-9f05-02bdc2419fc2                 NaN   \n",
       "34 NaN  236d88c7-6995-40eb-bd45-176081cdc0de                 NaN   \n",
       "35 NaN  784fc83c-54db-41e4-86d0-c561efad0b11                 NaN   \n",
       "\n",
       "   site_readable  flag_death  flag_covid_death  flag_suicide_death  \\\n",
       "31           NaN         NaN               NaN                 NaN   \n",
       "32           NaN         NaN               NaN                 NaN   \n",
       "33           NaN         NaN               NaN                 NaN   \n",
       "34           NaN         NaN               NaN                 NaN   \n",
       "35           NaN         NaN               NaN                 NaN   \n",
       "\n",
       "    flag_ftp_missing  flag_qr_issue  flag_fitbit_issue  ...  \\\n",
       "31               NaN            NaN                NaN  ...   \n",
       "32               NaN            NaN                NaN  ...   \n",
       "33               NaN            NaN                NaN  ...   \n",
       "34               NaN            NaN                NaN  ...   \n",
       "35               NaN            NaN                NaN  ...   \n",
       "\n",
       "    thincit_trails_flag  thincit_pdq5_flag  android_phone_acceleration_flag  \\\n",
       "31                  NaN                NaN                              NaN   \n",
       "32                  NaN                NaN                              NaN   \n",
       "33                  NaN                NaN                              NaN   \n",
       "34                  NaN                NaN                              NaN   \n",
       "35                  NaN                NaN                              NaN   \n",
       "\n",
       "    last_download_date  flag_download_in_progress  enrolment_date  \\\n",
       "31                 NaT                        NaN             NaT   \n",
       "32                 NaT                        NaN             NaT   \n",
       "33                 NaT                        NaN             NaT   \n",
       "34                 NaT                        NaN             NaT   \n",
       "35                 NaT                        NaN             NaT   \n",
       "\n",
       "    withdrawal_date  in_meta  in_slp  in_phq  \n",
       "31              NaT    False    True   False  \n",
       "32              NaT    False   False    True  \n",
       "33              NaT    False   False    True  \n",
       "34              NaT    False    True    True  \n",
       "35              NaT    False   False    True  \n",
       "\n",
       "[5 rows x 27 columns]"
      ]
     },
     "metadata": {},
     "output_type": "display_data"
    }
   ],
   "source": [
    "newids = pd.DataFrame(pd.Series(list(subj_id_not_in_meta), name=\"subject_id\"))\n",
    "df2 = pd.concat([df, newids], axis=0)\n",
    "df2.tail()"
   ]
  },
  {
   "cell_type": "markdown",
   "metadata": {},
   "source": [
    "Label the file source"
   ]
  },
  {
   "cell_type": "code",
   "execution_count": null,
   "metadata": {},
   "outputs": [],
   "source": [
    "df2['in_meta'] = df2['subject_id'].apply(lambda x: x in subj_id_meta)\n",
    "df2['in_slp'] = df2['subject_id'].apply(lambda x: x in subj_id_slp)\n",
    "df2['in_phq'] = df2['subject_id'].apply(lambda x: x in subj_id_phq)"
   ]
  },
  {
   "cell_type": "markdown",
   "metadata": {},
   "source": [
    "There are some weird subject IDs e.g. '207' that are new to the metadata file. Subject ids are expected to be 36 characters long"
   ]
  },
  {
   "cell_type": "code",
   "execution_count": null,
   "metadata": {},
   "outputs": [
    {
     "data": {
      "text/html": [
       "<div>\n",
       "<style scoped>\n",
       "    .dataframe tbody tr th:only-of-type {\n",
       "        vertical-align: middle;\n",
       "    }\n",
       "\n",
       "    .dataframe tbody tr th {\n",
       "        vertical-align: top;\n",
       "    }\n",
       "\n",
       "    .dataframe thead th {\n",
       "        text-align: right;\n",
       "    }\n",
       "</style>\n",
       "<table border=\"1\" class=\"dataframe\">\n",
       "  <thead>\n",
       "    <tr style=\"text-align: right;\">\n",
       "      <th></th>\n",
       "      <th>subject_id</th>\n",
       "      <th>in_meta</th>\n",
       "      <th>in_slp</th>\n",
       "      <th>in_phq</th>\n",
       "    </tr>\n",
       "  </thead>\n",
       "  <tbody>\n",
       "    <tr>\n",
       "      <th>15</th>\n",
       "      <td>209</td>\n",
       "      <td>False</td>\n",
       "      <td>True</td>\n",
       "      <td>False</td>\n",
       "    </tr>\n",
       "    <tr>\n",
       "      <th>28</th>\n",
       "      <td>207</td>\n",
       "      <td>False</td>\n",
       "      <td>True</td>\n",
       "      <td>False</td>\n",
       "    </tr>\n",
       "    <tr>\n",
       "      <th>30</th>\n",
       "      <td>RADAR-MDD-KCL-s1</td>\n",
       "      <td>False</td>\n",
       "      <td>True</td>\n",
       "      <td>False</td>\n",
       "    </tr>\n",
       "    <tr>\n",
       "      <th>31</th>\n",
       "      <td>227</td>\n",
       "      <td>False</td>\n",
       "      <td>True</td>\n",
       "      <td>False</td>\n",
       "    </tr>\n",
       "  </tbody>\n",
       "</table>\n",
       "</div>"
      ],
      "text/plain": [
       "          subject_id  in_meta  in_slp  in_phq\n",
       "15               209    False    True   False\n",
       "28               207    False    True   False\n",
       "30  RADAR-MDD-KCL-s1    False    True   False\n",
       "31               227    False    True   False"
      ]
     },
     "metadata": {},
     "output_type": "display_data"
    }
   ],
   "source": [
    "show = df2[['ID', 'subject_id', 'human_readable_site', 'in_meta', 'in_slp', 'in_phq']]\n",
    "\n",
    "expected_nchar_subj_id = 36\n",
    "\n",
    "which_abnormal_nchar = df2['subject_id'].str.len() != expected_nchar_subj_id\n",
    "df2.loc[which_abnormal_nchar, ['subject_id', 'in_meta', 'in_slp', 'in_phq']]"
   ]
  },
  {
   "cell_type": "code",
   "execution_count": null,
   "metadata": {},
   "outputs": [
    {
     "data": {
      "text/plain": [
       "pid\n",
       "RADAR-MDD-KCL-s1    4708\n",
       "209                 1598\n",
       "207                  169\n",
       "227                   82\n",
       "dtype: int64"
      ]
     },
     "metadata": {},
     "output_type": "display_data"
    }
   ],
   "source": [
    "abnormal_subj_id = df2.loc[which_abnormal_nchar, 'subject_id'].values\n",
    "\n",
    "slps_abnormal_subj_id = slps_raw.loc[slps_raw['pid'].apply(lambda x: x in a), ]\n",
    "slps_abnormal_subj_id.value_counts('pid')"
   ]
  },
  {
   "cell_type": "markdown",
   "metadata": {},
   "source": [
    "Currently the behaviour is to ..."
   ]
  },
  {
   "cell_type": "code",
   "execution_count": null,
   "metadata": {},
   "outputs": [],
   "source": []
  }
 ],
 "metadata": {
  "interpreter": {
   "hash": "08e2e84546486c2044445a736a214ed62f1a22506b89afaacfc141956dd76d05"
  },
  "kernelspec": {
   "display_name": "Python 3.8.8 ('base')",
   "language": "python",
   "name": "python3"
  },
  "language_info": {
   "codemirror_mode": {
    "name": "ipython",
    "version": 3
   },
   "file_extension": ".py",
   "mimetype": "text/x-python",
   "name": "python",
   "nbconvert_exporter": "python",
   "pygments_lexer": "ipython3",
   "version": "3.8.12"
  },
  "orig_nbformat": 4
 },
 "nbformat": 4,
 "nbformat_minor": 2
}
