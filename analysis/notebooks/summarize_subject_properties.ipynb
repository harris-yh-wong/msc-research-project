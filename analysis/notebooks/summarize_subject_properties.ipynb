{
 "cells": [
  {
   "cell_type": "markdown",
   "metadata": {},
   "source": [
    "# AIM\n",
    "- To compile a file summarizing properties by participatn ID (PID)\n",
    "\n",
    "\n",
    "\n",
    "\n",
    "Created on: 21 Mar 2022"
   ]
  },
  {
   "cell_type": "markdown",
   "metadata": {},
   "source": [
    "# Workspace"
   ]
  },
  {
   "cell_type": "code",
   "execution_count": 2,
   "metadata": {},
   "outputs": [
    {
     "ename": "ModuleNotFoundError",
     "evalue": "No module named 'import_data'",
     "output_type": "error",
     "traceback": [
      "\u001b[1;31m---------------------------------------------------------------------------\u001b[0m",
      "\u001b[1;31mModuleNotFoundError\u001b[0m                       Traceback (most recent call last)",
      "\u001b[1;32m<ipython-input-2-035c7f80bc5a>\u001b[0m in \u001b[0;36m<module>\u001b[1;34m\u001b[0m\n\u001b[0;32m     14\u001b[0m \u001b[1;31m# sys.path.append('../../scripts')\u001b[0m\u001b[1;33m\u001b[0m\u001b[1;33m\u001b[0m\u001b[1;33m\u001b[0m\u001b[0m\n\u001b[0;32m     15\u001b[0m \u001b[1;33m\u001b[0m\u001b[0m\n\u001b[1;32m---> 16\u001b[1;33m \u001b[1;32mfrom\u001b[0m \u001b[0mimport_data\u001b[0m \u001b[1;32mimport\u001b[0m \u001b[1;33m*\u001b[0m\u001b[1;33m\u001b[0m\u001b[1;33m\u001b[0m\u001b[0m\n\u001b[0m\u001b[0;32m     17\u001b[0m \u001b[1;32mfrom\u001b[0m \u001b[0mclean_data\u001b[0m \u001b[1;32mimport\u001b[0m \u001b[1;33m*\u001b[0m\u001b[1;33m\u001b[0m\u001b[1;33m\u001b[0m\u001b[0m\n\u001b[0;32m     18\u001b[0m \u001b[1;32mfrom\u001b[0m \u001b[0mmappings\u001b[0m \u001b[1;32mimport\u001b[0m \u001b[1;33m*\u001b[0m\u001b[1;33m\u001b[0m\u001b[1;33m\u001b[0m\u001b[0m\n",
      "\u001b[1;31mModuleNotFoundError\u001b[0m: No module named 'import_data'"
     ]
    }
   ],
   "source": [
    "##### MODULES\n",
    "import os\n",
    "import numpy as np\n",
    "import pandas as pd\n",
    "from pathlib import Path\n",
    "from matplotlib import pyplot as plt\n",
    "import matplotlib.dates\n",
    "import matplotlib.patches\n",
    "import datetime as dt\n",
    "import ast\n",
    "\n",
    "## custom modules\n",
    "# import sys  \n",
    "# sys.path.append('../../scripts')\n",
    "\n",
    "from import_data import *\n",
    "from clean_data import *\n",
    "from mappings import *\n",
    "from plotting import *\n",
    "from helper import *\n",
    "\n",
    "##### OPTIONS\n",
    "pd.options.mode.chained_assignment = None\n",
    "\n",
    "# autoreload external modules after saving changes to disk\n",
    "%reload_ext autoreload\n",
    "%autoreload 2\n",
    "\n",
    "##### DIRECTORIES\n",
    "proj_dir = Path('.') / '..' / '..'\n",
    "source_data_dir = proj_dir/'data'/'source'\n",
    "clean_data_dir =  proj_dir/'data'/'clean'\n",
    "viz_dir = proj_dir/'viz'"
   ]
  },
  {
   "cell_type": "markdown",
   "metadata": {},
   "source": [
    "# Import"
   ]
  }
 ],
 "metadata": {
  "interpreter": {
   "hash": "08e2e84546486c2044445a736a214ed62f1a22506b89afaacfc141956dd76d05"
  },
  "kernelspec": {
   "display_name": "Python 3.8.8 ('base')",
   "language": "python",
   "name": "python3"
  },
  "language_info": {
   "codemirror_mode": {
    "name": "ipython",
    "version": 3
   },
   "file_extension": ".py",
   "mimetype": "text/x-python",
   "name": "python",
   "nbconvert_exporter": "python",
   "pygments_lexer": "ipython3",
   "version": "3.8.8"
  },
  "orig_nbformat": 4
 },
 "nbformat": 4,
 "nbformat_minor": 2
}
